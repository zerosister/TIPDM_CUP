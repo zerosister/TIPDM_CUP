{
 "cells": [
  {
   "cell_type": "markdown",
   "id": "0276f05a-6b6e-454f-9c65-eb10849a1283",
   "metadata": {},
   "source": [
    "# pandas 数据结构\n",
    "节选自 https://pandas.pydata.org/docs/user_guide/dsintro.html#dsintro\n"
   ]
  },
  {
   "cell_type": "code",
   "execution_count": 1,
   "id": "855b0d00-d754-4249-8720-6997626893fc",
   "metadata": {},
   "outputs": [],
   "source": [
    "import numpy as np\n",
    "import pandas as pd"
   ]
  },
  {
   "cell_type": "markdown",
   "id": "98768a89-c944-4209-a59d-8696680b6e60",
   "metadata": {},
   "source": [
    "## Series\n",
    "一维的带标签的数组，轴向的 labels 即 **index**，创建 Series 的基本方法："
   ]
  },
  {
   "cell_type": "code",
   "execution_count": 2,
   "id": "a10a0fc1-2837-433b-a418-71356628bda5",
   "metadata": {},
   "outputs": [],
   "source": [
    "# s = pd.Series(data, index=index)"
   ]
  },
  {
   "cell_type": "markdown",
   "id": "d8163447-3bbc-459e-89df-a5175127aaf4",
   "metadata": {},
   "source": [
    "`data` 可以是：\n",
    "\n",
    "- dict\n",
    "- ndarray\n",
    "- 标量\n",
    "\n",
    "`index` 是传入的轴向坐标，默认值为 `[0, ..., len(data) - 1]`"
   ]
  },
  {
   "cell_type": "markdown",
   "id": "cb5d9a12-1997-4e31-a430-542fc18ed181",
   "metadata": {
    "jp-MarkdownHeadingCollapsed": true
   },
   "source": [
    "### 由 ndarry 初始化"
   ]
  },
  {
   "cell_type": "code",
   "execution_count": 3,
   "id": "93528a26-c738-414d-b54d-293f8ebf88be",
   "metadata": {},
   "outputs": [
    {
     "data": {
      "text/plain": [
       "a    3.555143\n",
       "b    0.475205\n",
       "c   -3.254779\n",
       "c   -1.324658\n",
       "e   -0.291838\n",
       "dtype: float64"
      ]
     },
     "execution_count": 3,
     "metadata": {},
     "output_type": "execute_result"
    }
   ],
   "source": [
    "s = pd.Series(np.random.randn(5), index=[\"a\", \"b\", \"c\", \"c\", \"e\"]) # index 可以相同\n",
    "s"
   ]
  },
  {
   "cell_type": "code",
   "execution_count": 4,
   "id": "3c5f0158-6f9d-40fb-9141-636a9cbbd0fe",
   "metadata": {},
   "outputs": [
    {
     "data": {
      "text/plain": [
       "Index(['a', 'b', 'c', 'c', 'e'], dtype='object')"
      ]
     },
     "execution_count": 4,
     "metadata": {},
     "output_type": "execute_result"
    }
   ],
   "source": [
    "s.index"
   ]
  },
  {
   "cell_type": "code",
   "execution_count": 5,
   "id": "039de7a7-42ba-403b-bb41-7d4728b1f5d7",
   "metadata": {},
   "outputs": [
    {
     "data": {
      "text/plain": [
       "0    0.275180\n",
       "1    0.640929\n",
       "2   -0.143400\n",
       "3    1.390476\n",
       "4    1.030188\n",
       "dtype: float64"
      ]
     },
     "execution_count": 5,
     "metadata": {},
     "output_type": "execute_result"
    }
   ],
   "source": [
    "pd.Series(np.random.randn(5))"
   ]
  },
  {
   "cell_type": "markdown",
   "id": "a031f76e-2a22-4142-bb76-84b53af74e23",
   "metadata": {
    "jp-MarkdownHeadingCollapsed": true
   },
   "source": [
    "### 由 dict 生成"
   ]
  },
  {
   "cell_type": "code",
   "execution_count": 6,
   "id": "23b1b1aa-c218-4357-9e38-0b4236cbba4d",
   "metadata": {},
   "outputs": [
    {
     "data": {
      "text/plain": [
       "a     1\n",
       "b    32\n",
       "c    31\n",
       "dtype: int64"
      ]
     },
     "execution_count": 6,
     "metadata": {},
     "output_type": "execute_result"
    }
   ],
   "source": [
    "d = {'a': 1, \"b\" : 32, 'c' : 31}\n",
    "pd.Series(d)"
   ]
  },
  {
   "cell_type": "markdown",
   "id": "3689a1b1-318d-4a56-a6ed-45017a224115",
   "metadata": {},
   "source": [
    "如果使用了 `index` 参数，则生成的 `Series` 变量中标签和 `dict` 中 `key` 相同值的行会被赋值，其余则为 `None`"
   ]
  },
  {
   "cell_type": "code",
   "execution_count": 7,
   "id": "9f584f94-9302-4211-a964-e3f3ca9f3494",
   "metadata": {},
   "outputs": [
    {
     "name": "stdout",
     "output_type": "stream",
     "text": [
      "a    0.0\n",
      "b    1.0\n",
      "c    2.0\n",
      "dtype: float64\n"
     ]
    },
    {
     "data": {
      "text/plain": [
       "c    2.0\n",
       "b    1.0\n",
       "d    NaN\n",
       "e    NaN\n",
       "dtype: float64"
      ]
     },
     "execution_count": 7,
     "metadata": {},
     "output_type": "execute_result"
    }
   ],
   "source": [
    "d = {\"a\": 0.0, \"b\": 1.0, \"c\": 2.0}\n",
    "print(pd.Series(d))\n",
    "pd.Series(d, index=['c', 'b', 'd', 'e'])"
   ]
  },
  {
   "cell_type": "markdown",
   "id": "cf397c32-e626-4487-9e4f-46d14a818b70",
   "metadata": {
    "jp-MarkdownHeadingCollapsed": true
   },
   "source": [
    "### Series 与 ndarray 十分类似\n",
    "对于 NumPy 中的函数许多都可以使用"
   ]
  },
  {
   "cell_type": "code",
   "execution_count": 8,
   "id": "35a74f99-46d0-40a4-be32-c67ad1ff9a95",
   "metadata": {},
   "outputs": [
    {
     "name": "stdout",
     "output_type": "stream",
     "text": [
      "3.5551425929990335\n"
     ]
    },
    {
     "data": {
      "text/plain": [
       "a    3.555143\n",
       "b    0.475205\n",
       "c   -3.254779\n",
       "dtype: float64"
      ]
     },
     "execution_count": 8,
     "metadata": {},
     "output_type": "execute_result"
    }
   ],
   "source": [
    "print(s.iloc[0]) # 数组操作\n",
    "s.iloc[:3]"
   ]
  },
  {
   "cell_type": "code",
   "execution_count": 9,
   "id": "9b546fe7-c180-43b9-923e-ceb5a1fe819e",
   "metadata": {},
   "outputs": [
    {
     "data": {
      "text/plain": [
       "a    3.555143\n",
       "b    0.475205\n",
       "dtype: float64"
      ]
     },
     "execution_count": 9,
     "metadata": {},
     "output_type": "execute_result"
    }
   ],
   "source": [
    "s[s > s.median()]"
   ]
  },
  {
   "cell_type": "code",
   "execution_count": 10,
   "id": "6c173900-624e-41f3-a639-8a4b14fb7998",
   "metadata": {},
   "outputs": [
    {
     "name": "stdout",
     "output_type": "stream",
     "text": [
      "<class 'pandas.core.series.Series'>\n"
     ]
    },
    {
     "data": {
      "text/plain": [
       "a    34.992809\n",
       "b     1.608344\n",
       "c     0.038589\n",
       "c     0.265894\n",
       "e     0.746890\n",
       "dtype: float64"
      ]
     },
     "execution_count": 10,
     "metadata": {},
     "output_type": "execute_result"
    }
   ],
   "source": [
    "print(type(np.exp(s)))\n",
    "np.exp(s)"
   ]
  },
  {
   "cell_type": "markdown",
   "id": "139177c6-4320-47b0-8933-769f2b38c997",
   "metadata": {},
   "source": [
    "和 NumPy 一样，pandas 的 `Series` 只有一个 `dtype`"
   ]
  },
  {
   "cell_type": "code",
   "execution_count": 11,
   "id": "ba893600-ecb2-4600-ab27-a336870202f3",
   "metadata": {},
   "outputs": [
    {
     "data": {
      "text/plain": [
       "dtype('float64')"
      ]
     },
     "execution_count": 11,
     "metadata": {},
     "output_type": "execute_result"
    }
   ],
   "source": [
    "s.dtype"
   ]
  },
  {
   "cell_type": "markdown",
   "id": "d3d959f3-d725-4244-8d27-fb0c8d3d0731",
   "metadata": {},
   "source": [
    "如果需要真实的 `array` 使用 `Series.array`，如果需要真实的 `ndarray` 使用 `Series.to_numpy()`"
   ]
  },
  {
   "cell_type": "code",
   "execution_count": 12,
   "id": "8a817925-fb91-4d0e-9d12-3119e66762a1",
   "metadata": {},
   "outputs": [
    {
     "name": "stdout",
     "output_type": "stream",
     "text": [
      "<PandasArray>\n",
      "[ 3.5551425929990335, 0.47520508654014093, -3.2547787973782283,\n",
      " -1.3246580070543572, -0.2918376670335268]\n",
      "Length: 5, dtype: float64\n"
     ]
    },
    {
     "data": {
      "text/plain": [
       "array([ 3.55514259,  0.47520509, -3.2547788 , -1.32465801, -0.29183767])"
      ]
     },
     "execution_count": 12,
     "metadata": {},
     "output_type": "execute_result"
    }
   ],
   "source": [
    "print(s.array)\n",
    "s.to_numpy()"
   ]
  },
  {
   "cell_type": "markdown",
   "id": "8fb8eb48-68e3-4287-a73f-cffcc7f21286",
   "metadata": {
    "jp-MarkdownHeadingCollapsed": true
   },
   "source": [
    "### Series 像 dict\n",
    "就像字典一样可以使用 index label 来设置值"
   ]
  },
  {
   "cell_type": "code",
   "execution_count": 13,
   "id": "6453155b-f798-424b-a9f5-1b01f5cd1388",
   "metadata": {},
   "outputs": [
    {
     "name": "stdout",
     "output_type": "stream",
     "text": [
      "44442.0\n",
      "a    44442.000000\n",
      "b        0.475205\n",
      "c       -3.254779\n",
      "c       -1.324658\n",
      "e       -0.291838\n",
      "dtype: float64\n"
     ]
    }
   ],
   "source": [
    "s['a'] = 44442\n",
    "print(s['a'])\n",
    "print(s)"
   ]
  },
  {
   "cell_type": "code",
   "execution_count": 14,
   "id": "13e6d102-a231-47a8-8416-9dc0d967278c",
   "metadata": {},
   "outputs": [
    {
     "data": {
      "text/plain": [
       "True"
      ]
     },
     "execution_count": 14,
     "metadata": {},
     "output_type": "execute_result"
    }
   ],
   "source": [
    "'e' in s # dict 也可用 key in dic 来判断是否在其中"
   ]
  },
  {
   "cell_type": "code",
   "execution_count": 15,
   "id": "69ee3254-a0ba-4a5e-99a6-e60b33f979da",
   "metadata": {},
   "outputs": [
    {
     "name": "stdout",
     "output_type": "stream",
     "text": [
      "None\n"
     ]
    },
    {
     "data": {
      "text/plain": [
       "nan"
      ]
     },
     "execution_count": 15,
     "metadata": {},
     "output_type": "execute_result"
    }
   ],
   "source": [
    "# 与 dict 中的 key 不存在相同，如果在 Series 中 key 不存在会报错，故用 get()\n",
    "print(s.get('f')) # 如果 key 不存在会返回 None\n",
    "s.get('f', default=np.nan) # 如果不存在就返回 default 参数指定的数据"
   ]
  },
  {
   "cell_type": "markdown",
   "id": "73ebc4f8-f740-4feb-9627-f2c89ff3c3a5",
   "metadata": {},
   "source": [
    "### Series 的向量化操作与 label alignment\n",
    "这与 Numpy，Pytorch 很相似，都可以展开！！！"
   ]
  },
  {
   "cell_type": "code",
   "execution_count": 16,
   "id": "898f09f6-ac4f-4ea3-aa65-593c55d3808a",
   "metadata": {},
   "outputs": [
    {
     "data": {
      "text/plain": [
       "a    88884.000000\n",
       "b        0.950410\n",
       "c       -6.509558\n",
       "c       -2.649316\n",
       "e       -0.583675\n",
       "dtype: float64"
      ]
     },
     "execution_count": 16,
     "metadata": {},
     "output_type": "execute_result"
    }
   ],
   "source": [
    "s + s"
   ]
  },
  {
   "cell_type": "code",
   "execution_count": 17,
   "id": "97571a16-4efe-46be-bf1a-6dc0ed48e220",
   "metadata": {},
   "outputs": [
    {
     "data": {
      "text/plain": [
       "a    88884.000000\n",
       "b        0.950410\n",
       "c       -6.509558\n",
       "c       -2.649316\n",
       "e       -0.583675\n",
       "dtype: float64"
      ]
     },
     "execution_count": 17,
     "metadata": {},
     "output_type": "execute_result"
    }
   ],
   "source": [
    "s * 2"
   ]
  },
  {
   "cell_type": "code",
   "execution_count": 18,
   "id": "72073083-926e-4f3e-87a8-b067ff334d40",
   "metadata": {},
   "outputs": [
    {
     "data": {
      "text/plain": [
       "a    1.999472e+19\n",
       "b    1.000475e+00\n",
       "c    9.967505e-01\n",
       "c    9.986762e-01\n",
       "e    9.997082e-01\n",
       "dtype: float64"
      ]
     },
     "execution_count": 18,
     "metadata": {},
     "output_type": "execute_result"
    }
   ],
   "source": [
    "np.exp(s / 1000)"
   ]
  },
  {
   "cell_type": "markdown",
   "id": "fd24aa4a-6ebd-4baa-ae3c-f151b109ce13",
   "metadata": {},
   "source": [
    "和 ndarray 的主要区别是 `Series`会自动对齐 `label` 进行操作"
   ]
  },
  {
   "cell_type": "code",
   "execution_count": 19,
   "id": "c3b9ab52-70bb-42be-b864-00d2a542b508",
   "metadata": {},
   "outputs": [
    {
     "data": {
      "text/plain": [
       "a         NaN\n",
       "b    0.950410\n",
       "c   -6.509558\n",
       "c   -4.579437\n",
       "c   -4.579437\n",
       "c   -2.649316\n",
       "e         NaN\n",
       "dtype: float64"
      ]
     },
     "execution_count": 19,
     "metadata": {},
     "output_type": "execute_result"
    }
   ],
   "source": [
    "s.iloc[1:] + s.iloc[:-1] # 注意到这里此前 index 设置了不唯一，当不唯一的情况不会合并标签 c"
   ]
  },
  {
   "cell_type": "code",
   "execution_count": 20,
   "id": "8ff7acf2-24ab-4b4d-9980-eb6bd44ba684",
   "metadata": {},
   "outputs": [
    {
     "data": {
      "text/plain": [
       "a    44442.000000\n",
       "b        0.475205\n",
       "e       -0.291838\n",
       "dtype: float64"
      ]
     },
     "execution_count": 20,
     "metadata": {},
     "output_type": "execute_result"
    }
   ],
   "source": [
    "s.drop('c') # 会将 label 为 c 的全部删除"
   ]
  },
  {
   "cell_type": "markdown",
   "id": "f5088a5c-2cd7-4d15-adb1-d67ab3f138d8",
   "metadata": {},
   "source": [
    "### Name 属性\n",
    "具有 attribute `name`"
   ]
  },
  {
   "cell_type": "code",
   "execution_count": 21,
   "id": "3dce550c-f1e2-41d1-bc29-630aaca77de5",
   "metadata": {},
   "outputs": [
    {
     "data": {
      "text/plain": [
       "0   -1.219141\n",
       "1   -1.336352\n",
       "2    0.276542\n",
       "3    0.386296\n",
       "4   -1.918441\n",
       "Name: something, dtype: float64"
      ]
     },
     "execution_count": 21,
     "metadata": {},
     "output_type": "execute_result"
    }
   ],
   "source": [
    "s = pd.Series(np.random.randn(5), name=\"something\")\n",
    "s"
   ]
  },
  {
   "cell_type": "code",
   "execution_count": 22,
   "id": "e24beb04-fd4e-4fe4-8840-30eaa842d2a8",
   "metadata": {},
   "outputs": [
    {
     "data": {
      "text/plain": [
       "'something'"
      ]
     },
     "execution_count": 22,
     "metadata": {},
     "output_type": "execute_result"
    }
   ],
   "source": [
    "s.name"
   ]
  },
  {
   "cell_type": "markdown",
   "id": "60b0acef-40ca-448d-8b9e-08ffe027ab22",
   "metadata": {},
   "source": [
    "`Series` `name` 在许多时候会被自动命名，比如在 `DataFrame` 中取出一列时，column 的名称会被自动作为 `name`，也可以使用 `Series.rename()`来重命名"
   ]
  },
  {
   "cell_type": "code",
   "execution_count": 23,
   "id": "73aa62d8-eba9-4a6c-9006-68cb087bbd9e",
   "metadata": {},
   "outputs": [
    {
     "data": {
      "text/plain": [
       "'diff'"
      ]
     },
     "execution_count": 23,
     "metadata": {},
     "output_type": "execute_result"
    }
   ],
   "source": [
    "s2 = s.rename('diff') # s2 和 s 会指向不同的 objects\n",
    "s2.name"
   ]
  },
  {
   "cell_type": "markdown",
   "id": "5b2c73a3-a1e9-45cb-b9ee-dcf66b092388",
   "metadata": {},
   "source": [
    "## DataFrame\n",
    "是一个 2D 的带标签数据，且 columns 可能是不同的数据类型\n",
    "多种作为输入：\n",
    "- 由一维的 ndarrays / lists / dicts / `Series` 组成的 dict\n",
    "- 2D numpy.ndarray\n",
    "- structured 或 record ndarray: https://numpy.org/doc/stable/user/basics.rec.html\n",
    "- `Series`\n",
    "- 另一个 `DataFrame`\n",
    "\n",
    "除了传入数据外，还可以同时传入 `index`(row labels) 和 `columns`(column labels)"
   ]
  },
  {
   "cell_type": "markdown",
   "id": "cb43bfa6-21fc-40e5-b9b5-26c7d2aacf59",
   "metadata": {},
   "source": [
    "### 根据 `Series` 或 `dicts` 的字典（dict）初始化\n",
    "**index** 会是所有的 `Series` 的 **union**（最大化保留数据原则），字典的 `keys` 会自动作为 `columns` 的列名（若未特殊指定 `columns`）"
   ]
  },
  {
   "cell_type": "code",
   "execution_count": 24,
   "id": "aef46475-e881-4c8e-b347-051de33fd068",
   "metadata": {},
   "outputs": [
    {
     "data": {
      "text/html": [
       "<div>\n",
       "<style scoped>\n",
       "    .dataframe tbody tr th:only-of-type {\n",
       "        vertical-align: middle;\n",
       "    }\n",
       "\n",
       "    .dataframe tbody tr th {\n",
       "        vertical-align: top;\n",
       "    }\n",
       "\n",
       "    .dataframe thead th {\n",
       "        text-align: right;\n",
       "    }\n",
       "</style>\n",
       "<table border=\"1\" class=\"dataframe\">\n",
       "  <thead>\n",
       "    <tr style=\"text-align: right;\">\n",
       "      <th></th>\n",
       "      <th>one</th>\n",
       "      <th>two</th>\n",
       "    </tr>\n",
       "  </thead>\n",
       "  <tbody>\n",
       "    <tr>\n",
       "      <th>a</th>\n",
       "      <td>1.0</td>\n",
       "      <td>1.0</td>\n",
       "    </tr>\n",
       "    <tr>\n",
       "      <th>b</th>\n",
       "      <td>2.0</td>\n",
       "      <td>2.0</td>\n",
       "    </tr>\n",
       "    <tr>\n",
       "      <th>c</th>\n",
       "      <td>3.0</td>\n",
       "      <td>3.0</td>\n",
       "    </tr>\n",
       "    <tr>\n",
       "      <th>d</th>\n",
       "      <td>NaN</td>\n",
       "      <td>4.0</td>\n",
       "    </tr>\n",
       "  </tbody>\n",
       "</table>\n",
       "</div>"
      ],
      "text/plain": [
       "   one  two\n",
       "a  1.0  1.0\n",
       "b  2.0  2.0\n",
       "c  3.0  3.0\n",
       "d  NaN  4.0"
      ]
     },
     "execution_count": 24,
     "metadata": {},
     "output_type": "execute_result"
    }
   ],
   "source": [
    "d = {\n",
    "    \"one\": pd.Series([1.0, 2.0, 3.0], index=[\"a\", \"b\", \"c\"]),\n",
    "    \"two\": pd.Series([1.0, 2.0, 3.0, 4.0], index=[\"a\", \"b\", \"c\", \"d\"]),\n",
    "}\n",
    "df = pd.DataFrame(d)\n",
    "df"
   ]
  },
  {
   "cell_type": "code",
   "execution_count": 25,
   "id": "8b115212-a94d-4824-9b6a-d3f23ddcaaa3",
   "metadata": {},
   "outputs": [
    {
     "data": {
      "text/html": [
       "<div>\n",
       "<style scoped>\n",
       "    .dataframe tbody tr th:only-of-type {\n",
       "        vertical-align: middle;\n",
       "    }\n",
       "\n",
       "    .dataframe tbody tr th {\n",
       "        vertical-align: top;\n",
       "    }\n",
       "\n",
       "    .dataframe thead th {\n",
       "        text-align: right;\n",
       "    }\n",
       "</style>\n",
       "<table border=\"1\" class=\"dataframe\">\n",
       "  <thead>\n",
       "    <tr style=\"text-align: right;\">\n",
       "      <th></th>\n",
       "      <th>one</th>\n",
       "      <th>two</th>\n",
       "    </tr>\n",
       "  </thead>\n",
       "  <tbody>\n",
       "    <tr>\n",
       "      <th>d</th>\n",
       "      <td>NaN</td>\n",
       "      <td>4.0</td>\n",
       "    </tr>\n",
       "    <tr>\n",
       "      <th>b</th>\n",
       "      <td>2.0</td>\n",
       "      <td>2.0</td>\n",
       "    </tr>\n",
       "    <tr>\n",
       "      <th>a</th>\n",
       "      <td>1.0</td>\n",
       "      <td>1.0</td>\n",
       "    </tr>\n",
       "  </tbody>\n",
       "</table>\n",
       "</div>"
      ],
      "text/plain": [
       "   one  two\n",
       "d  NaN  4.0\n",
       "b  2.0  2.0\n",
       "a  1.0  1.0"
      ]
     },
     "execution_count": 25,
     "metadata": {},
     "output_type": "execute_result"
    }
   ],
   "source": [
    "pd.DataFrame(d, index=[\"d\", \"b\", \"a\"]) # 若 index 中不存在的 label 如 c，则不会构建在 df 中"
   ]
  },
  {
   "cell_type": "code",
   "execution_count": 26,
   "id": "d9b5e25e-b7d9-4e29-acc3-c4fd601bb1e9",
   "metadata": {},
   "outputs": [
    {
     "data": {
      "text/html": [
       "<div>\n",
       "<style scoped>\n",
       "    .dataframe tbody tr th:only-of-type {\n",
       "        vertical-align: middle;\n",
       "    }\n",
       "\n",
       "    .dataframe tbody tr th {\n",
       "        vertical-align: top;\n",
       "    }\n",
       "\n",
       "    .dataframe thead th {\n",
       "        text-align: right;\n",
       "    }\n",
       "</style>\n",
       "<table border=\"1\" class=\"dataframe\">\n",
       "  <thead>\n",
       "    <tr style=\"text-align: right;\">\n",
       "      <th></th>\n",
       "      <th>two</th>\n",
       "      <th>three</th>\n",
       "    </tr>\n",
       "  </thead>\n",
       "  <tbody>\n",
       "    <tr>\n",
       "      <th>d</th>\n",
       "      <td>4.0</td>\n",
       "      <td>NaN</td>\n",
       "    </tr>\n",
       "    <tr>\n",
       "      <th>b</th>\n",
       "      <td>2.0</td>\n",
       "      <td>NaN</td>\n",
       "    </tr>\n",
       "    <tr>\n",
       "      <th>a</th>\n",
       "      <td>1.0</td>\n",
       "      <td>NaN</td>\n",
       "    </tr>\n",
       "  </tbody>\n",
       "</table>\n",
       "</div>"
      ],
      "text/plain": [
       "   two three\n",
       "d  4.0   NaN\n",
       "b  2.0   NaN\n",
       "a  1.0   NaN"
      ]
     },
     "execution_count": 26,
     "metadata": {},
     "output_type": "execute_result"
    }
   ],
   "source": [
    "pd.DataFrame(d, index=[\"d\", \"b\", \"a\"], columns=[\"two\", \"three\"])"
   ]
  },
  {
   "cell_type": "markdown",
   "id": "8cf3ea39-325b-4342-835d-ee1aad83b16d",
   "metadata": {},
   "source": [
    "行列的 `label` 分别通过 **index** 和 **column** 属性来访问："
   ]
  },
  {
   "cell_type": "code",
   "execution_count": 27,
   "id": "a9cc78c7-d772-47b5-953a-640152374fa5",
   "metadata": {},
   "outputs": [
    {
     "name": "stdout",
     "output_type": "stream",
     "text": [
      "Index(['a', 'b', 'c', 'd'], dtype='object')\n"
     ]
    },
    {
     "data": {
      "text/plain": [
       "Index(['one', 'two'], dtype='object')"
      ]
     },
     "execution_count": 27,
     "metadata": {},
     "output_type": "execute_result"
    }
   ],
   "source": [
    "print(df.index)\n",
    "df.columns"
   ]
  },
  {
   "cell_type": "markdown",
   "id": "38df589c-bf32-47da-9032-b69ac5e7b44e",
   "metadata": {},
   "source": [
    "### 根据 ndarrays / lists 的 dict 进行构建\n",
    "所有的 ndarrays 都必须由同样的长度。`index` 参数的长度也必须相同，如果没有传入，则会 default 为 `range(len(ndarray_instance))`"
   ]
  },
  {
   "cell_type": "code",
   "execution_count": 28,
   "id": "dc37f3d3-8275-4707-87f0-f6c9142c025d",
   "metadata": {},
   "outputs": [
    {
     "data": {
      "text/html": [
       "<div>\n",
       "<style scoped>\n",
       "    .dataframe tbody tr th:only-of-type {\n",
       "        vertical-align: middle;\n",
       "    }\n",
       "\n",
       "    .dataframe tbody tr th {\n",
       "        vertical-align: top;\n",
       "    }\n",
       "\n",
       "    .dataframe thead th {\n",
       "        text-align: right;\n",
       "    }\n",
       "</style>\n",
       "<table border=\"1\" class=\"dataframe\">\n",
       "  <thead>\n",
       "    <tr style=\"text-align: right;\">\n",
       "      <th></th>\n",
       "      <th>one</th>\n",
       "      <th>two</th>\n",
       "    </tr>\n",
       "  </thead>\n",
       "  <tbody>\n",
       "    <tr>\n",
       "      <th>0</th>\n",
       "      <td>1.0</td>\n",
       "      <td>4.0</td>\n",
       "    </tr>\n",
       "    <tr>\n",
       "      <th>1</th>\n",
       "      <td>2.0</td>\n",
       "      <td>3.0</td>\n",
       "    </tr>\n",
       "    <tr>\n",
       "      <th>2</th>\n",
       "      <td>3.0</td>\n",
       "      <td>2.0</td>\n",
       "    </tr>\n",
       "    <tr>\n",
       "      <th>3</th>\n",
       "      <td>4.0</td>\n",
       "      <td>1.0</td>\n",
       "    </tr>\n",
       "  </tbody>\n",
       "</table>\n",
       "</div>"
      ],
      "text/plain": [
       "   one  two\n",
       "0  1.0  4.0\n",
       "1  2.0  3.0\n",
       "2  3.0  2.0\n",
       "3  4.0  1.0"
      ]
     },
     "execution_count": 28,
     "metadata": {},
     "output_type": "execute_result"
    }
   ],
   "source": [
    "d = {\"one\": [1.0, 2.0, 3.0, 4.0], \"two\": [4.0, 3.0, 2.0, 1.0]}\n",
    "pd.DataFrame(d)"
   ]
  },
  {
   "cell_type": "code",
   "execution_count": 29,
   "id": "af86b0b0-8b0c-4178-93eb-d2cf579c66d1",
   "metadata": {},
   "outputs": [
    {
     "data": {
      "text/html": [
       "<div>\n",
       "<style scoped>\n",
       "    .dataframe tbody tr th:only-of-type {\n",
       "        vertical-align: middle;\n",
       "    }\n",
       "\n",
       "    .dataframe tbody tr th {\n",
       "        vertical-align: top;\n",
       "    }\n",
       "\n",
       "    .dataframe thead th {\n",
       "        text-align: right;\n",
       "    }\n",
       "</style>\n",
       "<table border=\"1\" class=\"dataframe\">\n",
       "  <thead>\n",
       "    <tr style=\"text-align: right;\">\n",
       "      <th></th>\n",
       "      <th>one</th>\n",
       "      <th>two</th>\n",
       "    </tr>\n",
       "  </thead>\n",
       "  <tbody>\n",
       "    <tr>\n",
       "      <th>a</th>\n",
       "      <td>1.0</td>\n",
       "      <td>4.0</td>\n",
       "    </tr>\n",
       "    <tr>\n",
       "      <th>b</th>\n",
       "      <td>2.0</td>\n",
       "      <td>3.0</td>\n",
       "    </tr>\n",
       "    <tr>\n",
       "      <th>c</th>\n",
       "      <td>3.0</td>\n",
       "      <td>2.0</td>\n",
       "    </tr>\n",
       "    <tr>\n",
       "      <th>d</th>\n",
       "      <td>4.0</td>\n",
       "      <td>1.0</td>\n",
       "    </tr>\n",
       "  </tbody>\n",
       "</table>\n",
       "</div>"
      ],
      "text/plain": [
       "   one  two\n",
       "a  1.0  4.0\n",
       "b  2.0  3.0\n",
       "c  3.0  2.0\n",
       "d  4.0  1.0"
      ]
     },
     "execution_count": 29,
     "metadata": {},
     "output_type": "execute_result"
    }
   ],
   "source": [
    "pd.DataFrame(d, index=[\"a\", \"b\", \"c\", \"d\"])"
   ]
  },
  {
   "cell_type": "markdown",
   "id": "7412a8be-7bb1-4444-a113-c72c37fa7899",
   "metadata": {},
   "source": [
    "### 根据 structured / record array 初始化"
   ]
  },
  {
   "cell_type": "code",
   "execution_count": 30,
   "id": "ca44ff37-b4d9-4609-ae66-ee94b35e8255",
   "metadata": {},
   "outputs": [
    {
     "data": {
      "text/html": [
       "<div>\n",
       "<style scoped>\n",
       "    .dataframe tbody tr th:only-of-type {\n",
       "        vertical-align: middle;\n",
       "    }\n",
       "\n",
       "    .dataframe tbody tr th {\n",
       "        vertical-align: top;\n",
       "    }\n",
       "\n",
       "    .dataframe thead th {\n",
       "        text-align: right;\n",
       "    }\n",
       "</style>\n",
       "<table border=\"1\" class=\"dataframe\">\n",
       "  <thead>\n",
       "    <tr style=\"text-align: right;\">\n",
       "      <th></th>\n",
       "      <th>A</th>\n",
       "      <th>B</th>\n",
       "      <th>C</th>\n",
       "    </tr>\n",
       "  </thead>\n",
       "  <tbody>\n",
       "    <tr>\n",
       "      <th>0</th>\n",
       "      <td>1</td>\n",
       "      <td>2.0</td>\n",
       "      <td>b'Hello'</td>\n",
       "    </tr>\n",
       "    <tr>\n",
       "      <th>1</th>\n",
       "      <td>2</td>\n",
       "      <td>3.0</td>\n",
       "      <td>b'world'</td>\n",
       "    </tr>\n",
       "  </tbody>\n",
       "</table>\n",
       "</div>"
      ],
      "text/plain": [
       "   A    B         C\n",
       "0  1  2.0  b'Hello'\n",
       "1  2  3.0  b'world'"
      ]
     },
     "execution_count": 30,
     "metadata": {},
     "output_type": "execute_result"
    }
   ],
   "source": [
    "data = np.zeros((2,), dtype=[(\"A\", \"i4\"), (\"B\", \"f4\"), (\"C\", \"a10\")])\n",
    "data[:] = [(1, 2.0, 'Hello'), (2, 3.0, 'world')]\n",
    "pd.DataFrame(data)"
   ]
  },
  {
   "cell_type": "code",
   "execution_count": 31,
   "id": "71e1b179-ce07-4116-a375-1042949689b1",
   "metadata": {},
   "outputs": [
    {
     "name": "stdout",
     "output_type": "stream",
     "text": [
      "        A    B         C\n",
      "first   1  2.0  b'Hello'\n",
      "second  2  3.0  b'world'\n"
     ]
    },
    {
     "data": {
      "text/html": [
       "<div>\n",
       "<style scoped>\n",
       "    .dataframe tbody tr th:only-of-type {\n",
       "        vertical-align: middle;\n",
       "    }\n",
       "\n",
       "    .dataframe tbody tr th {\n",
       "        vertical-align: top;\n",
       "    }\n",
       "\n",
       "    .dataframe thead th {\n",
       "        text-align: right;\n",
       "    }\n",
       "</style>\n",
       "<table border=\"1\" class=\"dataframe\">\n",
       "  <thead>\n",
       "    <tr style=\"text-align: right;\">\n",
       "      <th></th>\n",
       "      <th>C</th>\n",
       "      <th>A</th>\n",
       "      <th>B</th>\n",
       "    </tr>\n",
       "  </thead>\n",
       "  <tbody>\n",
       "    <tr>\n",
       "      <th>0</th>\n",
       "      <td>b'Hello'</td>\n",
       "      <td>1</td>\n",
       "      <td>2.0</td>\n",
       "    </tr>\n",
       "    <tr>\n",
       "      <th>1</th>\n",
       "      <td>b'world'</td>\n",
       "      <td>2</td>\n",
       "      <td>3.0</td>\n",
       "    </tr>\n",
       "  </tbody>\n",
       "</table>\n",
       "</div>"
      ],
      "text/plain": [
       "          C  A    B\n",
       "0  b'Hello'  1  2.0\n",
       "1  b'world'  2  3.0"
      ]
     },
     "execution_count": 31,
     "metadata": {},
     "output_type": "execute_result"
    }
   ],
   "source": [
    "print(pd.DataFrame(data, index=[\"first\", \"second\"]))\n",
    "pd.DataFrame(data, columns=[\"C\", \"A\", \"B\"])"
   ]
  },
  {
   "cell_type": "markdown",
   "id": "f844c18f-0fdb-48c4-8ee7-64be6acecaad",
   "metadata": {},
   "source": [
    "### 使用由 dicts 组成的列表初始化"
   ]
  },
  {
   "cell_type": "code",
   "execution_count": 32,
   "id": "5bc2b542-3add-436a-84ee-860ef083529b",
   "metadata": {},
   "outputs": [
    {
     "data": {
      "text/html": [
       "<div>\n",
       "<style scoped>\n",
       "    .dataframe tbody tr th:only-of-type {\n",
       "        vertical-align: middle;\n",
       "    }\n",
       "\n",
       "    .dataframe tbody tr th {\n",
       "        vertical-align: top;\n",
       "    }\n",
       "\n",
       "    .dataframe thead th {\n",
       "        text-align: right;\n",
       "    }\n",
       "</style>\n",
       "<table border=\"1\" class=\"dataframe\">\n",
       "  <thead>\n",
       "    <tr style=\"text-align: right;\">\n",
       "      <th></th>\n",
       "      <th>a</th>\n",
       "      <th>b</th>\n",
       "      <th>c</th>\n",
       "    </tr>\n",
       "  </thead>\n",
       "  <tbody>\n",
       "    <tr>\n",
       "      <th>0</th>\n",
       "      <td>1</td>\n",
       "      <td>2</td>\n",
       "      <td>NaN</td>\n",
       "    </tr>\n",
       "    <tr>\n",
       "      <th>1</th>\n",
       "      <td>5</td>\n",
       "      <td>10</td>\n",
       "      <td>20.0</td>\n",
       "    </tr>\n",
       "  </tbody>\n",
       "</table>\n",
       "</div>"
      ],
      "text/plain": [
       "   a   b     c\n",
       "0  1   2   NaN\n",
       "1  5  10  20.0"
      ]
     },
     "execution_count": 32,
     "metadata": {},
     "output_type": "execute_result"
    }
   ],
   "source": [
    "data2 = [{\"a\": 1, \"b\": 2}, {\"a\": 5, \"b\": 10, \"c\": 20}]\n",
    "pd.DataFrame(data2)"
   ]
  },
  {
   "cell_type": "markdown",
   "id": "66ea823a-f57c-4f14-8b5b-314ba548ce9e",
   "metadata": {},
   "source": [
    "### 使用由 tuple 组成的 dict 初始化"
   ]
  },
  {
   "cell_type": "code",
   "execution_count": 33,
   "id": "03e1b579-18c2-4dea-baae-1e7fcaff7dbc",
   "metadata": {},
   "outputs": [
    {
     "data": {
      "text/html": [
       "<div>\n",
       "<style scoped>\n",
       "    .dataframe tbody tr th:only-of-type {\n",
       "        vertical-align: middle;\n",
       "    }\n",
       "\n",
       "    .dataframe tbody tr th {\n",
       "        vertical-align: top;\n",
       "    }\n",
       "\n",
       "    .dataframe thead tr th {\n",
       "        text-align: left;\n",
       "    }\n",
       "</style>\n",
       "<table border=\"1\" class=\"dataframe\">\n",
       "  <thead>\n",
       "    <tr>\n",
       "      <th></th>\n",
       "      <th></th>\n",
       "      <th colspan=\"3\" halign=\"left\">a</th>\n",
       "      <th colspan=\"2\" halign=\"left\">b</th>\n",
       "    </tr>\n",
       "    <tr>\n",
       "      <th></th>\n",
       "      <th></th>\n",
       "      <th>b</th>\n",
       "      <th>a</th>\n",
       "      <th>c</th>\n",
       "      <th>a</th>\n",
       "      <th>b</th>\n",
       "    </tr>\n",
       "  </thead>\n",
       "  <tbody>\n",
       "    <tr>\n",
       "      <th rowspan=\"3\" valign=\"top\">A</th>\n",
       "      <th>B</th>\n",
       "      <td>1.0</td>\n",
       "      <td>4.0</td>\n",
       "      <td>5.0</td>\n",
       "      <td>8.0</td>\n",
       "      <td>10.0</td>\n",
       "    </tr>\n",
       "    <tr>\n",
       "      <th>C</th>\n",
       "      <td>2.0</td>\n",
       "      <td>3.0</td>\n",
       "      <td>6.0</td>\n",
       "      <td>7.0</td>\n",
       "      <td>NaN</td>\n",
       "    </tr>\n",
       "    <tr>\n",
       "      <th>D</th>\n",
       "      <td>NaN</td>\n",
       "      <td>NaN</td>\n",
       "      <td>NaN</td>\n",
       "      <td>NaN</td>\n",
       "      <td>9.0</td>\n",
       "    </tr>\n",
       "  </tbody>\n",
       "</table>\n",
       "</div>"
      ],
      "text/plain": [
       "       a              b      \n",
       "       b    a    c    a     b\n",
       "A B  1.0  4.0  5.0  8.0  10.0\n",
       "  C  2.0  3.0  6.0  7.0   NaN\n",
       "  D  NaN  NaN  NaN  NaN   9.0"
      ]
     },
     "execution_count": 33,
     "metadata": {},
     "output_type": "execute_result"
    }
   ],
   "source": [
    "# 也就是 multiIndex\n",
    "pd.DataFrame(\n",
    "    {\n",
    "        (\"a\", \"b\"): {(\"A\", \"B\"): 1, (\"A\", \"C\"): 2},\n",
    "        (\"a\", \"a\"): {(\"A\", \"C\"): 3, (\"A\", \"B\"): 4},\n",
    "        (\"a\", \"c\"): {(\"A\", \"B\"): 5, (\"A\", \"C\"): 6},\n",
    "        (\"b\", \"a\"): {(\"A\", \"C\"): 7, (\"A\", \"B\"): 8},\n",
    "        (\"b\", \"b\"): {(\"A\", \"D\"): 9, (\"A\", \"B\"): 10},\n",
    "    }\n",
    ")"
   ]
  },
  {
   "cell_type": "markdown",
   "id": "138ca9d5-bf65-446a-9be7-73568a0bc48c",
   "metadata": {},
   "source": [
    "### 根据一堆 Series 初始化\n",
    "index 将会和输入的 Series 相同，有一列列名会默认与 Series 的 name 相同 "
   ]
  },
  {
   "cell_type": "code",
   "execution_count": 34,
   "id": "f078d600-13d0-4aa4-ac74-80c026804a2d",
   "metadata": {},
   "outputs": [
    {
     "data": {
      "text/html": [
       "<div>\n",
       "<style scoped>\n",
       "    .dataframe tbody tr th:only-of-type {\n",
       "        vertical-align: middle;\n",
       "    }\n",
       "\n",
       "    .dataframe tbody tr th {\n",
       "        vertical-align: top;\n",
       "    }\n",
       "\n",
       "    .dataframe thead th {\n",
       "        text-align: right;\n",
       "    }\n",
       "</style>\n",
       "<table border=\"1\" class=\"dataframe\">\n",
       "  <thead>\n",
       "    <tr style=\"text-align: right;\">\n",
       "      <th></th>\n",
       "      <th>ser</th>\n",
       "    </tr>\n",
       "  </thead>\n",
       "  <tbody>\n",
       "    <tr>\n",
       "      <th>a</th>\n",
       "      <td>0.346199</td>\n",
       "    </tr>\n",
       "    <tr>\n",
       "      <th>b</th>\n",
       "      <td>2.025729</td>\n",
       "    </tr>\n",
       "    <tr>\n",
       "      <th>c</th>\n",
       "      <td>0.191561</td>\n",
       "    </tr>\n",
       "  </tbody>\n",
       "</table>\n",
       "</div>"
      ],
      "text/plain": [
       "        ser\n",
       "a  0.346199\n",
       "b  2.025729\n",
       "c  0.191561"
      ]
     },
     "execution_count": 34,
     "metadata": {},
     "output_type": "execute_result"
    }
   ],
   "source": [
    "ser = pd.Series(np.random.randn(3), index=list(\"abc\"), name=\"ser\")  # 注意 list(string) 若 string 是字符串会自动拆分为单个字符\n",
    "pd.DataFrame(ser)"
   ]
  },
  {
   "cell_type": "markdown",
   "id": "ad0ca42b-3b2e-44dc-a2ca-438dd8811d7c",
   "metadata": {},
   "source": [
    "### column 选择，添加与删除"
   ]
  },
  {
   "cell_type": "code",
   "execution_count": 35,
   "id": "d026b0b2-c2b8-41c4-b596-6a280b668200",
   "metadata": {},
   "outputs": [
    {
     "data": {
      "text/plain": [
       "a    1.0\n",
       "b    2.0\n",
       "c    3.0\n",
       "d    NaN\n",
       "Name: one, dtype: float64"
      ]
     },
     "execution_count": 35,
     "metadata": {},
     "output_type": "execute_result"
    }
   ],
   "source": [
    "df[\"one\"]"
   ]
  },
  {
   "cell_type": "code",
   "execution_count": 36,
   "id": "b4ad9f0e-ad4f-4e6e-8329-0690548212f7",
   "metadata": {},
   "outputs": [
    {
     "data": {
      "text/html": [
       "<div>\n",
       "<style scoped>\n",
       "    .dataframe tbody tr th:only-of-type {\n",
       "        vertical-align: middle;\n",
       "    }\n",
       "\n",
       "    .dataframe tbody tr th {\n",
       "        vertical-align: top;\n",
       "    }\n",
       "\n",
       "    .dataframe thead th {\n",
       "        text-align: right;\n",
       "    }\n",
       "</style>\n",
       "<table border=\"1\" class=\"dataframe\">\n",
       "  <thead>\n",
       "    <tr style=\"text-align: right;\">\n",
       "      <th></th>\n",
       "      <th>one</th>\n",
       "      <th>two</th>\n",
       "      <th>three</th>\n",
       "    </tr>\n",
       "  </thead>\n",
       "  <tbody>\n",
       "    <tr>\n",
       "      <th>a</th>\n",
       "      <td>1.0</td>\n",
       "      <td>1.0</td>\n",
       "      <td>1.0</td>\n",
       "    </tr>\n",
       "    <tr>\n",
       "      <th>b</th>\n",
       "      <td>2.0</td>\n",
       "      <td>2.0</td>\n",
       "      <td>4.0</td>\n",
       "    </tr>\n",
       "    <tr>\n",
       "      <th>c</th>\n",
       "      <td>3.0</td>\n",
       "      <td>3.0</td>\n",
       "      <td>9.0</td>\n",
       "    </tr>\n",
       "    <tr>\n",
       "      <th>d</th>\n",
       "      <td>NaN</td>\n",
       "      <td>4.0</td>\n",
       "      <td>NaN</td>\n",
       "    </tr>\n",
       "  </tbody>\n",
       "</table>\n",
       "</div>"
      ],
      "text/plain": [
       "   one  two  three\n",
       "a  1.0  1.0    1.0\n",
       "b  2.0  2.0    4.0\n",
       "c  3.0  3.0    9.0\n",
       "d  NaN  4.0    NaN"
      ]
     },
     "execution_count": 36,
     "metadata": {},
     "output_type": "execute_result"
    }
   ],
   "source": [
    "df[\"three\"] = df[\"one\"] * df[\"two\"]\n",
    "df"
   ]
  },
  {
   "cell_type": "code",
   "execution_count": 37,
   "id": "6f2878cf-7852-4108-9186-ef8d9ace6c15",
   "metadata": {},
   "outputs": [
    {
     "data": {
      "text/html": [
       "<div>\n",
       "<style scoped>\n",
       "    .dataframe tbody tr th:only-of-type {\n",
       "        vertical-align: middle;\n",
       "    }\n",
       "\n",
       "    .dataframe tbody tr th {\n",
       "        vertical-align: top;\n",
       "    }\n",
       "\n",
       "    .dataframe thead th {\n",
       "        text-align: right;\n",
       "    }\n",
       "</style>\n",
       "<table border=\"1\" class=\"dataframe\">\n",
       "  <thead>\n",
       "    <tr style=\"text-align: right;\">\n",
       "      <th></th>\n",
       "      <th>one</th>\n",
       "      <th>two</th>\n",
       "      <th>three</th>\n",
       "      <th>flag</th>\n",
       "    </tr>\n",
       "  </thead>\n",
       "  <tbody>\n",
       "    <tr>\n",
       "      <th>a</th>\n",
       "      <td>1.0</td>\n",
       "      <td>1.0</td>\n",
       "      <td>1.0</td>\n",
       "      <td>False</td>\n",
       "    </tr>\n",
       "    <tr>\n",
       "      <th>b</th>\n",
       "      <td>2.0</td>\n",
       "      <td>2.0</td>\n",
       "      <td>4.0</td>\n",
       "      <td>False</td>\n",
       "    </tr>\n",
       "    <tr>\n",
       "      <th>c</th>\n",
       "      <td>3.0</td>\n",
       "      <td>3.0</td>\n",
       "      <td>9.0</td>\n",
       "      <td>True</td>\n",
       "    </tr>\n",
       "    <tr>\n",
       "      <th>d</th>\n",
       "      <td>NaN</td>\n",
       "      <td>4.0</td>\n",
       "      <td>NaN</td>\n",
       "      <td>False</td>\n",
       "    </tr>\n",
       "  </tbody>\n",
       "</table>\n",
       "</div>"
      ],
      "text/plain": [
       "   one  two  three   flag\n",
       "a  1.0  1.0    1.0  False\n",
       "b  2.0  2.0    4.0  False\n",
       "c  3.0  3.0    9.0   True\n",
       "d  NaN  4.0    NaN  False"
      ]
     },
     "execution_count": 37,
     "metadata": {},
     "output_type": "execute_result"
    }
   ],
   "source": [
    "df['flag'] = df['one'] > 2\n",
    "df"
   ]
  },
  {
   "cell_type": "markdown",
   "id": "34d5357b-36d9-407a-a626-18cada8a5914",
   "metadata": {},
   "source": [
    "与 `dict` 十分类似，列可以被 `del` 或 `pop`"
   ]
  },
  {
   "cell_type": "code",
   "execution_count": 38,
   "id": "5b0950c4-587f-4ca1-b918-25f130db1e1c",
   "metadata": {},
   "outputs": [
    {
     "data": {
      "text/html": [
       "<div>\n",
       "<style scoped>\n",
       "    .dataframe tbody tr th:only-of-type {\n",
       "        vertical-align: middle;\n",
       "    }\n",
       "\n",
       "    .dataframe tbody tr th {\n",
       "        vertical-align: top;\n",
       "    }\n",
       "\n",
       "    .dataframe thead th {\n",
       "        text-align: right;\n",
       "    }\n",
       "</style>\n",
       "<table border=\"1\" class=\"dataframe\">\n",
       "  <thead>\n",
       "    <tr style=\"text-align: right;\">\n",
       "      <th></th>\n",
       "      <th>one</th>\n",
       "      <th>three</th>\n",
       "      <th>flag</th>\n",
       "    </tr>\n",
       "  </thead>\n",
       "  <tbody>\n",
       "    <tr>\n",
       "      <th>a</th>\n",
       "      <td>1.0</td>\n",
       "      <td>1.0</td>\n",
       "      <td>False</td>\n",
       "    </tr>\n",
       "    <tr>\n",
       "      <th>b</th>\n",
       "      <td>2.0</td>\n",
       "      <td>4.0</td>\n",
       "      <td>False</td>\n",
       "    </tr>\n",
       "    <tr>\n",
       "      <th>c</th>\n",
       "      <td>3.0</td>\n",
       "      <td>9.0</td>\n",
       "      <td>True</td>\n",
       "    </tr>\n",
       "    <tr>\n",
       "      <th>d</th>\n",
       "      <td>NaN</td>\n",
       "      <td>NaN</td>\n",
       "      <td>False</td>\n",
       "    </tr>\n",
       "  </tbody>\n",
       "</table>\n",
       "</div>"
      ],
      "text/plain": [
       "   one  three   flag\n",
       "a  1.0    1.0  False\n",
       "b  2.0    4.0  False\n",
       "c  3.0    9.0   True\n",
       "d  NaN    NaN  False"
      ]
     },
     "execution_count": 38,
     "metadata": {},
     "output_type": "execute_result"
    }
   ],
   "source": [
    "del df['two']\n",
    "df"
   ]
  },
  {
   "cell_type": "code",
   "execution_count": 39,
   "id": "679a557a-1b2d-45d1-b436-0ab57195a25e",
   "metadata": {},
   "outputs": [
    {
     "data": {
      "text/html": [
       "<div>\n",
       "<style scoped>\n",
       "    .dataframe tbody tr th:only-of-type {\n",
       "        vertical-align: middle;\n",
       "    }\n",
       "\n",
       "    .dataframe tbody tr th {\n",
       "        vertical-align: top;\n",
       "    }\n",
       "\n",
       "    .dataframe thead th {\n",
       "        text-align: right;\n",
       "    }\n",
       "</style>\n",
       "<table border=\"1\" class=\"dataframe\">\n",
       "  <thead>\n",
       "    <tr style=\"text-align: right;\">\n",
       "      <th></th>\n",
       "      <th>one</th>\n",
       "      <th>flag</th>\n",
       "    </tr>\n",
       "  </thead>\n",
       "  <tbody>\n",
       "    <tr>\n",
       "      <th>a</th>\n",
       "      <td>1.0</td>\n",
       "      <td>False</td>\n",
       "    </tr>\n",
       "    <tr>\n",
       "      <th>b</th>\n",
       "      <td>2.0</td>\n",
       "      <td>False</td>\n",
       "    </tr>\n",
       "    <tr>\n",
       "      <th>c</th>\n",
       "      <td>3.0</td>\n",
       "      <td>True</td>\n",
       "    </tr>\n",
       "    <tr>\n",
       "      <th>d</th>\n",
       "      <td>NaN</td>\n",
       "      <td>False</td>\n",
       "    </tr>\n",
       "  </tbody>\n",
       "</table>\n",
       "</div>"
      ],
      "text/plain": [
       "   one   flag\n",
       "a  1.0  False\n",
       "b  2.0  False\n",
       "c  3.0   True\n",
       "d  NaN  False"
      ]
     },
     "execution_count": 39,
     "metadata": {},
     "output_type": "execute_result"
    }
   ],
   "source": [
    "three = df.pop('three')\n",
    "df"
   ]
  },
  {
   "cell_type": "markdown",
   "id": "c33855d8-5c57-42b4-8aca-5585e4eea5ee",
   "metadata": {},
   "source": [
    "与 numpy 类似，会有 `broadcasting` 现象，比如传递一个标量会填满整个 column"
   ]
  },
  {
   "cell_type": "code",
   "execution_count": 40,
   "id": "6321e5d8-c8c5-4e56-80d7-801ba518b26d",
   "metadata": {},
   "outputs": [
    {
     "data": {
      "text/html": [
       "<div>\n",
       "<style scoped>\n",
       "    .dataframe tbody tr th:only-of-type {\n",
       "        vertical-align: middle;\n",
       "    }\n",
       "\n",
       "    .dataframe tbody tr th {\n",
       "        vertical-align: top;\n",
       "    }\n",
       "\n",
       "    .dataframe thead th {\n",
       "        text-align: right;\n",
       "    }\n",
       "</style>\n",
       "<table border=\"1\" class=\"dataframe\">\n",
       "  <thead>\n",
       "    <tr style=\"text-align: right;\">\n",
       "      <th></th>\n",
       "      <th>one</th>\n",
       "      <th>flag</th>\n",
       "      <th>foo</th>\n",
       "    </tr>\n",
       "  </thead>\n",
       "  <tbody>\n",
       "    <tr>\n",
       "      <th>a</th>\n",
       "      <td>1.0</td>\n",
       "      <td>False</td>\n",
       "      <td>bar</td>\n",
       "    </tr>\n",
       "    <tr>\n",
       "      <th>b</th>\n",
       "      <td>2.0</td>\n",
       "      <td>False</td>\n",
       "      <td>bar</td>\n",
       "    </tr>\n",
       "    <tr>\n",
       "      <th>c</th>\n",
       "      <td>3.0</td>\n",
       "      <td>True</td>\n",
       "      <td>bar</td>\n",
       "    </tr>\n",
       "    <tr>\n",
       "      <th>d</th>\n",
       "      <td>NaN</td>\n",
       "      <td>False</td>\n",
       "      <td>bar</td>\n",
       "    </tr>\n",
       "  </tbody>\n",
       "</table>\n",
       "</div>"
      ],
      "text/plain": [
       "   one   flag  foo\n",
       "a  1.0  False  bar\n",
       "b  2.0  False  bar\n",
       "c  3.0   True  bar\n",
       "d  NaN  False  bar"
      ]
     },
     "execution_count": 40,
     "metadata": {},
     "output_type": "execute_result"
    }
   ],
   "source": [
    "df['foo'] = \"bar\"\n",
    "df"
   ]
  },
  {
   "cell_type": "markdown",
   "id": "46e25134-da41-4290-9d75-f05bba04f428",
   "metadata": {},
   "source": [
    "当插入一个 `Series` 没有和 `DataFrame` 相同的 index 的时候，会被转换为 DataFrame 的 index"
   ]
  },
  {
   "cell_type": "code",
   "execution_count": 41,
   "id": "31a19758-0887-4d45-8998-31798f0b52de",
   "metadata": {},
   "outputs": [
    {
     "data": {
      "text/html": [
       "<div>\n",
       "<style scoped>\n",
       "    .dataframe tbody tr th:only-of-type {\n",
       "        vertical-align: middle;\n",
       "    }\n",
       "\n",
       "    .dataframe tbody tr th {\n",
       "        vertical-align: top;\n",
       "    }\n",
       "\n",
       "    .dataframe thead th {\n",
       "        text-align: right;\n",
       "    }\n",
       "</style>\n",
       "<table border=\"1\" class=\"dataframe\">\n",
       "  <thead>\n",
       "    <tr style=\"text-align: right;\">\n",
       "      <th></th>\n",
       "      <th>one</th>\n",
       "      <th>flag</th>\n",
       "      <th>foo</th>\n",
       "      <th>one_trunc</th>\n",
       "    </tr>\n",
       "  </thead>\n",
       "  <tbody>\n",
       "    <tr>\n",
       "      <th>a</th>\n",
       "      <td>1.0</td>\n",
       "      <td>False</td>\n",
       "      <td>bar</td>\n",
       "      <td>1.0</td>\n",
       "    </tr>\n",
       "    <tr>\n",
       "      <th>b</th>\n",
       "      <td>2.0</td>\n",
       "      <td>False</td>\n",
       "      <td>bar</td>\n",
       "      <td>2.0</td>\n",
       "    </tr>\n",
       "    <tr>\n",
       "      <th>c</th>\n",
       "      <td>3.0</td>\n",
       "      <td>True</td>\n",
       "      <td>bar</td>\n",
       "      <td>NaN</td>\n",
       "    </tr>\n",
       "    <tr>\n",
       "      <th>d</th>\n",
       "      <td>NaN</td>\n",
       "      <td>False</td>\n",
       "      <td>bar</td>\n",
       "      <td>NaN</td>\n",
       "    </tr>\n",
       "  </tbody>\n",
       "</table>\n",
       "</div>"
      ],
      "text/plain": [
       "   one   flag  foo  one_trunc\n",
       "a  1.0  False  bar        1.0\n",
       "b  2.0  False  bar        2.0\n",
       "c  3.0   True  bar        NaN\n",
       "d  NaN  False  bar        NaN"
      ]
     },
     "execution_count": 41,
     "metadata": {},
     "output_type": "execute_result"
    }
   ],
   "source": [
    "df['one_trunc'] = df['one'][:2]\n",
    "df"
   ]
  },
  {
   "cell_type": "markdown",
   "id": "66b280e8-fa9e-4bc5-ae31-3e7a381d2ce6",
   "metadata": {},
   "source": [
    "也可以直接插入 ndarray 但是长度必须和 index 一致："
   ]
  },
  {
   "cell_type": "code",
   "execution_count": 42,
   "id": "66de75fa-1369-4615-ba0e-f496fd476d28",
   "metadata": {},
   "outputs": [
    {
     "data": {
      "text/html": [
       "<div>\n",
       "<style scoped>\n",
       "    .dataframe tbody tr th:only-of-type {\n",
       "        vertical-align: middle;\n",
       "    }\n",
       "\n",
       "    .dataframe tbody tr th {\n",
       "        vertical-align: top;\n",
       "    }\n",
       "\n",
       "    .dataframe thead th {\n",
       "        text-align: right;\n",
       "    }\n",
       "</style>\n",
       "<table border=\"1\" class=\"dataframe\">\n",
       "  <thead>\n",
       "    <tr style=\"text-align: right;\">\n",
       "      <th></th>\n",
       "      <th>one</th>\n",
       "      <th>flag</th>\n",
       "      <th>foo</th>\n",
       "      <th>one_trunc</th>\n",
       "      <th>nd</th>\n",
       "    </tr>\n",
       "  </thead>\n",
       "  <tbody>\n",
       "    <tr>\n",
       "      <th>a</th>\n",
       "      <td>1.0</td>\n",
       "      <td>False</td>\n",
       "      <td>bar</td>\n",
       "      <td>1.0</td>\n",
       "      <td>0</td>\n",
       "    </tr>\n",
       "    <tr>\n",
       "      <th>b</th>\n",
       "      <td>2.0</td>\n",
       "      <td>False</td>\n",
       "      <td>bar</td>\n",
       "      <td>2.0</td>\n",
       "      <td>1</td>\n",
       "    </tr>\n",
       "    <tr>\n",
       "      <th>c</th>\n",
       "      <td>3.0</td>\n",
       "      <td>True</td>\n",
       "      <td>bar</td>\n",
       "      <td>NaN</td>\n",
       "      <td>2</td>\n",
       "    </tr>\n",
       "    <tr>\n",
       "      <th>d</th>\n",
       "      <td>NaN</td>\n",
       "      <td>False</td>\n",
       "      <td>bar</td>\n",
       "      <td>NaN</td>\n",
       "      <td>3</td>\n",
       "    </tr>\n",
       "  </tbody>\n",
       "</table>\n",
       "</div>"
      ],
      "text/plain": [
       "   one   flag  foo  one_trunc  nd\n",
       "a  1.0  False  bar        1.0   0\n",
       "b  2.0  False  bar        2.0   1\n",
       "c  3.0   True  bar        NaN   2\n",
       "d  NaN  False  bar        NaN   3"
      ]
     },
     "execution_count": 42,
     "metadata": {},
     "output_type": "execute_result"
    }
   ],
   "source": [
    "df['nd'] = [i for i in range(4)]\n",
    "df"
   ]
  },
  {
   "cell_type": "markdown",
   "id": "2033fdf5-8b47-4e52-800f-0c117544038b",
   "metadata": {},
   "source": [
    "新添加的 columns 会默认放在末尾， `DataFrame.insert()` 会插入到 columns 的特定位置："
   ]
  },
  {
   "cell_type": "code",
   "execution_count": 43,
   "id": "6fd00837-93d4-4a4c-917f-7e6a9a144ee4",
   "metadata": {},
   "outputs": [
    {
     "data": {
      "text/html": [
       "<div>\n",
       "<style scoped>\n",
       "    .dataframe tbody tr th:only-of-type {\n",
       "        vertical-align: middle;\n",
       "    }\n",
       "\n",
       "    .dataframe tbody tr th {\n",
       "        vertical-align: top;\n",
       "    }\n",
       "\n",
       "    .dataframe thead th {\n",
       "        text-align: right;\n",
       "    }\n",
       "</style>\n",
       "<table border=\"1\" class=\"dataframe\">\n",
       "  <thead>\n",
       "    <tr style=\"text-align: right;\">\n",
       "      <th></th>\n",
       "      <th>one</th>\n",
       "      <th>bar</th>\n",
       "      <th>flag</th>\n",
       "      <th>foo</th>\n",
       "      <th>one_trunc</th>\n",
       "      <th>nd</th>\n",
       "    </tr>\n",
       "  </thead>\n",
       "  <tbody>\n",
       "    <tr>\n",
       "      <th>a</th>\n",
       "      <td>1.0</td>\n",
       "      <td>1.0</td>\n",
       "      <td>False</td>\n",
       "      <td>bar</td>\n",
       "      <td>1.0</td>\n",
       "      <td>0</td>\n",
       "    </tr>\n",
       "    <tr>\n",
       "      <th>b</th>\n",
       "      <td>2.0</td>\n",
       "      <td>2.0</td>\n",
       "      <td>False</td>\n",
       "      <td>bar</td>\n",
       "      <td>2.0</td>\n",
       "      <td>1</td>\n",
       "    </tr>\n",
       "    <tr>\n",
       "      <th>c</th>\n",
       "      <td>3.0</td>\n",
       "      <td>3.0</td>\n",
       "      <td>True</td>\n",
       "      <td>bar</td>\n",
       "      <td>NaN</td>\n",
       "      <td>2</td>\n",
       "    </tr>\n",
       "    <tr>\n",
       "      <th>d</th>\n",
       "      <td>NaN</td>\n",
       "      <td>NaN</td>\n",
       "      <td>False</td>\n",
       "      <td>bar</td>\n",
       "      <td>NaN</td>\n",
       "      <td>3</td>\n",
       "    </tr>\n",
       "  </tbody>\n",
       "</table>\n",
       "</div>"
      ],
      "text/plain": [
       "   one  bar   flag  foo  one_trunc  nd\n",
       "a  1.0  1.0  False  bar        1.0   0\n",
       "b  2.0  2.0  False  bar        2.0   1\n",
       "c  3.0  3.0   True  bar        NaN   2\n",
       "d  NaN  NaN  False  bar        NaN   3"
      ]
     },
     "execution_count": 43,
     "metadata": {},
     "output_type": "execute_result"
    }
   ],
   "source": [
    "df.insert(1, \"bar\", df[\"one\"])\n",
    "df"
   ]
  },
  {
   "cell_type": "code",
   "execution_count": 44,
   "id": "cacbd656-c0ab-468d-a164-d9faf08cc1ab",
   "metadata": {},
   "outputs": [
    {
     "data": {
      "text/html": [
       "<div>\n",
       "<style scoped>\n",
       "    .dataframe tbody tr th:only-of-type {\n",
       "        vertical-align: middle;\n",
       "    }\n",
       "\n",
       "    .dataframe tbody tr th {\n",
       "        vertical-align: top;\n",
       "    }\n",
       "\n",
       "    .dataframe thead th {\n",
       "        text-align: right;\n",
       "    }\n",
       "</style>\n",
       "<table border=\"1\" class=\"dataframe\">\n",
       "  <thead>\n",
       "    <tr style=\"text-align: right;\">\n",
       "      <th></th>\n",
       "      <th>Id</th>\n",
       "      <th>SepalLengthCm</th>\n",
       "      <th>SepalWidthCm</th>\n",
       "      <th>PetalLengthCm</th>\n",
       "      <th>PetalWidthCm</th>\n",
       "      <th>Species</th>\n",
       "    </tr>\n",
       "  </thead>\n",
       "  <tbody>\n",
       "    <tr>\n",
       "      <th>0</th>\n",
       "      <td>1</td>\n",
       "      <td>5.1</td>\n",
       "      <td>3.5</td>\n",
       "      <td>1.4</td>\n",
       "      <td>0.2</td>\n",
       "      <td>Iris-setosa</td>\n",
       "    </tr>\n",
       "    <tr>\n",
       "      <th>1</th>\n",
       "      <td>2</td>\n",
       "      <td>4.9</td>\n",
       "      <td>3.0</td>\n",
       "      <td>1.4</td>\n",
       "      <td>0.2</td>\n",
       "      <td>Iris-setosa</td>\n",
       "    </tr>\n",
       "    <tr>\n",
       "      <th>2</th>\n",
       "      <td>3</td>\n",
       "      <td>4.7</td>\n",
       "      <td>3.2</td>\n",
       "      <td>1.3</td>\n",
       "      <td>0.2</td>\n",
       "      <td>Iris-setosa</td>\n",
       "    </tr>\n",
       "    <tr>\n",
       "      <th>3</th>\n",
       "      <td>4</td>\n",
       "      <td>4.6</td>\n",
       "      <td>3.1</td>\n",
       "      <td>1.5</td>\n",
       "      <td>0.2</td>\n",
       "      <td>Iris-setosa</td>\n",
       "    </tr>\n",
       "    <tr>\n",
       "      <th>4</th>\n",
       "      <td>5</td>\n",
       "      <td>5.0</td>\n",
       "      <td>3.6</td>\n",
       "      <td>1.4</td>\n",
       "      <td>0.2</td>\n",
       "      <td>Iris-setosa</td>\n",
       "    </tr>\n",
       "  </tbody>\n",
       "</table>\n",
       "</div>"
      ],
      "text/plain": [
       "   Id  SepalLengthCm  SepalWidthCm  PetalLengthCm  PetalWidthCm      Species\n",
       "0   1            5.1           3.5            1.4           0.2  Iris-setosa\n",
       "1   2            4.9           3.0            1.4           0.2  Iris-setosa\n",
       "2   3            4.7           3.2            1.3           0.2  Iris-setosa\n",
       "3   4            4.6           3.1            1.5           0.2  Iris-setosa\n",
       "4   5            5.0           3.6            1.4           0.2  Iris-setosa"
      ]
     },
     "execution_count": 44,
     "metadata": {},
     "output_type": "execute_result"
    }
   ],
   "source": [
    "iris = pd.read_csv('../Data/Iris.csv')\n",
    "iris.head()"
   ]
  },
  {
   "cell_type": "markdown",
   "id": "e47ff509-5da8-4ce1-ac62-c89928cce277",
   "metadata": {},
   "source": [
    "`assign()` 可以从已有列中新建列"
   ]
  },
  {
   "cell_type": "code",
   "execution_count": 45,
   "id": "1f590229-a7b8-4d1e-8962-9f5f51bd55e6",
   "metadata": {
    "tags": []
   },
   "outputs": [
    {
     "data": {
      "text/html": [
       "<div>\n",
       "<style scoped>\n",
       "    .dataframe tbody tr th:only-of-type {\n",
       "        vertical-align: middle;\n",
       "    }\n",
       "\n",
       "    .dataframe tbody tr th {\n",
       "        vertical-align: top;\n",
       "    }\n",
       "\n",
       "    .dataframe thead th {\n",
       "        text-align: right;\n",
       "    }\n",
       "</style>\n",
       "<table border=\"1\" class=\"dataframe\">\n",
       "  <thead>\n",
       "    <tr style=\"text-align: right;\">\n",
       "      <th></th>\n",
       "      <th>Id</th>\n",
       "      <th>SepalLengthCm</th>\n",
       "      <th>SepalWidthCm</th>\n",
       "      <th>PetalLengthCm</th>\n",
       "      <th>PetalWidthCm</th>\n",
       "      <th>Species</th>\n",
       "      <th>sepal_ratio</th>\n",
       "    </tr>\n",
       "  </thead>\n",
       "  <tbody>\n",
       "    <tr>\n",
       "      <th>0</th>\n",
       "      <td>1</td>\n",
       "      <td>5.1</td>\n",
       "      <td>3.5</td>\n",
       "      <td>1.4</td>\n",
       "      <td>0.2</td>\n",
       "      <td>Iris-setosa</td>\n",
       "      <td>0.686275</td>\n",
       "    </tr>\n",
       "    <tr>\n",
       "      <th>1</th>\n",
       "      <td>2</td>\n",
       "      <td>4.9</td>\n",
       "      <td>3.0</td>\n",
       "      <td>1.4</td>\n",
       "      <td>0.2</td>\n",
       "      <td>Iris-setosa</td>\n",
       "      <td>0.612245</td>\n",
       "    </tr>\n",
       "    <tr>\n",
       "      <th>2</th>\n",
       "      <td>3</td>\n",
       "      <td>4.7</td>\n",
       "      <td>3.2</td>\n",
       "      <td>1.3</td>\n",
       "      <td>0.2</td>\n",
       "      <td>Iris-setosa</td>\n",
       "      <td>0.680851</td>\n",
       "    </tr>\n",
       "    <tr>\n",
       "      <th>3</th>\n",
       "      <td>4</td>\n",
       "      <td>4.6</td>\n",
       "      <td>3.1</td>\n",
       "      <td>1.5</td>\n",
       "      <td>0.2</td>\n",
       "      <td>Iris-setosa</td>\n",
       "      <td>0.673913</td>\n",
       "    </tr>\n",
       "    <tr>\n",
       "      <th>4</th>\n",
       "      <td>5</td>\n",
       "      <td>5.0</td>\n",
       "      <td>3.6</td>\n",
       "      <td>1.4</td>\n",
       "      <td>0.2</td>\n",
       "      <td>Iris-setosa</td>\n",
       "      <td>0.720000</td>\n",
       "    </tr>\n",
       "  </tbody>\n",
       "</table>\n",
       "</div>"
      ],
      "text/plain": [
       "   Id  SepalLengthCm  SepalWidthCm  PetalLengthCm  PetalWidthCm      Species  \\\n",
       "0   1            5.1           3.5            1.4           0.2  Iris-setosa   \n",
       "1   2            4.9           3.0            1.4           0.2  Iris-setosa   \n",
       "2   3            4.7           3.2            1.3           0.2  Iris-setosa   \n",
       "3   4            4.6           3.1            1.5           0.2  Iris-setosa   \n",
       "4   5            5.0           3.6            1.4           0.2  Iris-setosa   \n",
       "\n",
       "   sepal_ratio  \n",
       "0     0.686275  \n",
       "1     0.612245  \n",
       "2     0.680851  \n",
       "3     0.673913  \n",
       "4     0.720000  "
      ]
     },
     "execution_count": 45,
     "metadata": {},
     "output_type": "execute_result"
    }
   ],
   "source": [
    "iris.assign(sepal_ratio=iris['SepalWidthCm'] / iris['SepalLengthCm']).head()"
   ]
  },
  {
   "cell_type": "markdown",
   "id": "74fa697e-4255-4367-af37-9ef148d7343c",
   "metadata": {
    "tags": []
   },
   "source": [
    "也可以传入一个具有一个参数的函数在被赋值的 DataFrame 上评估"
   ]
  },
  {
   "cell_type": "code",
   "execution_count": 46,
   "id": "80b5dbcc-5f9b-4f9b-b273-92f798238e2d",
   "metadata": {
    "tags": []
   },
   "outputs": [
    {
     "data": {
      "text/html": [
       "<div>\n",
       "<style scoped>\n",
       "    .dataframe tbody tr th:only-of-type {\n",
       "        vertical-align: middle;\n",
       "    }\n",
       "\n",
       "    .dataframe tbody tr th {\n",
       "        vertical-align: top;\n",
       "    }\n",
       "\n",
       "    .dataframe thead th {\n",
       "        text-align: right;\n",
       "    }\n",
       "</style>\n",
       "<table border=\"1\" class=\"dataframe\">\n",
       "  <thead>\n",
       "    <tr style=\"text-align: right;\">\n",
       "      <th></th>\n",
       "      <th>Id</th>\n",
       "      <th>SepalLengthCm</th>\n",
       "      <th>SepalWidthCm</th>\n",
       "      <th>PetalLengthCm</th>\n",
       "      <th>PetalWidthCm</th>\n",
       "      <th>Species</th>\n",
       "      <th>sepal_ratio</th>\n",
       "    </tr>\n",
       "  </thead>\n",
       "  <tbody>\n",
       "    <tr>\n",
       "      <th>0</th>\n",
       "      <td>1</td>\n",
       "      <td>5.1</td>\n",
       "      <td>3.5</td>\n",
       "      <td>1.4</td>\n",
       "      <td>0.2</td>\n",
       "      <td>Iris-setosa</td>\n",
       "      <td>0.686275</td>\n",
       "    </tr>\n",
       "    <tr>\n",
       "      <th>1</th>\n",
       "      <td>2</td>\n",
       "      <td>4.9</td>\n",
       "      <td>3.0</td>\n",
       "      <td>1.4</td>\n",
       "      <td>0.2</td>\n",
       "      <td>Iris-setosa</td>\n",
       "      <td>0.612245</td>\n",
       "    </tr>\n",
       "    <tr>\n",
       "      <th>2</th>\n",
       "      <td>3</td>\n",
       "      <td>4.7</td>\n",
       "      <td>3.2</td>\n",
       "      <td>1.3</td>\n",
       "      <td>0.2</td>\n",
       "      <td>Iris-setosa</td>\n",
       "      <td>0.680851</td>\n",
       "    </tr>\n",
       "    <tr>\n",
       "      <th>3</th>\n",
       "      <td>4</td>\n",
       "      <td>4.6</td>\n",
       "      <td>3.1</td>\n",
       "      <td>1.5</td>\n",
       "      <td>0.2</td>\n",
       "      <td>Iris-setosa</td>\n",
       "      <td>0.673913</td>\n",
       "    </tr>\n",
       "    <tr>\n",
       "      <th>4</th>\n",
       "      <td>5</td>\n",
       "      <td>5.0</td>\n",
       "      <td>3.6</td>\n",
       "      <td>1.4</td>\n",
       "      <td>0.2</td>\n",
       "      <td>Iris-setosa</td>\n",
       "      <td>0.720000</td>\n",
       "    </tr>\n",
       "  </tbody>\n",
       "</table>\n",
       "</div>"
      ],
      "text/plain": [
       "   Id  SepalLengthCm  SepalWidthCm  PetalLengthCm  PetalWidthCm      Species  \\\n",
       "0   1            5.1           3.5            1.4           0.2  Iris-setosa   \n",
       "1   2            4.9           3.0            1.4           0.2  Iris-setosa   \n",
       "2   3            4.7           3.2            1.3           0.2  Iris-setosa   \n",
       "3   4            4.6           3.1            1.5           0.2  Iris-setosa   \n",
       "4   5            5.0           3.6            1.4           0.2  Iris-setosa   \n",
       "\n",
       "   sepal_ratio  \n",
       "0     0.686275  \n",
       "1     0.612245  \n",
       "2     0.680851  \n",
       "3     0.673913  \n",
       "4     0.720000  "
      ]
     },
     "execution_count": 46,
     "metadata": {},
     "output_type": "execute_result"
    }
   ],
   "source": [
    "iris.assign(sepal_ratio=lambda x : (x['SepalWidthCm'] / x['SepalLengthCm'])).head()"
   ]
  },
  {
   "cell_type": "code",
   "execution_count": 47,
   "id": "8baf1ec3-5cf2-4e2d-a28e-094a1aef3322",
   "metadata": {
    "tags": []
   },
   "outputs": [
    {
     "data": {
      "text/plain": [
       "<Axes: xlabel='SepalRatio', ylabel='PetalRatio'>"
      ]
     },
     "execution_count": 47,
     "metadata": {},
     "output_type": "execute_result"
    },
    {
     "data": {
      "image/png": "[encoded data removed]",
      "text/plain": [
       "<Figure size 640x480 with 1 Axes>"
      ]
     },
     "metadata": {},
     "output_type": "display_data"
    }
   ],
   "source": [
    "(\n",
    "    iris.query(\"SepalLengthCm > 5\")\n",
    "    .assign(\n",
    "        SepalRatio=lambda x: x.SepalWidthCm / x.SepalLengthCm,\n",
    "        PetalRatio=lambda x: x.PetalWidthCm / x.PetalLengthCm,\n",
    "    )\n",
    "    .plot(kind=\"scatter\", x=\"SepalRatio\", y=\"PetalRatio\")\n",
    ")"
   ]
  },
  {
   "cell_type": "markdown",
   "id": "f6283e08-cbd1-4f1f-8332-5bac971e276f",
   "metadata": {
    "tags": []
   },
   "source": [
    "注意到，assign 的 function signature 只是 `**kwargs` 即参数为可变变量，可以通过 `arg1=xxx`使得 kwargs 中具有 `arg1` 这个 key。`**kwargs`的顺序是确定了的，所以刚刚插入的列也可以使用。"
   ]
  },
  {
   "cell_type": "code",
   "execution_count": 48,
   "id": "0f26c169-656b-4125-bb74-751dcd258061",
   "metadata": {
    "tags": []
   },
   "outputs": [
    {
     "data": {
      "text/html": [
       "<div>\n",
       "<style scoped>\n",
       "    .dataframe tbody tr th:only-of-type {\n",
       "        vertical-align: middle;\n",
       "    }\n",
       "\n",
       "    .dataframe tbody tr th {\n",
       "        vertical-align: top;\n",
       "    }\n",
       "\n",
       "    .dataframe thead th {\n",
       "        text-align: right;\n",
       "    }\n",
       "</style>\n",
       "<table border=\"1\" class=\"dataframe\">\n",
       "  <thead>\n",
       "    <tr style=\"text-align: right;\">\n",
       "      <th></th>\n",
       "      <th>A</th>\n",
       "      <th>B</th>\n",
       "      <th>C</th>\n",
       "      <th>D</th>\n",
       "    </tr>\n",
       "  </thead>\n",
       "  <tbody>\n",
       "    <tr>\n",
       "      <th>0</th>\n",
       "      <td>1</td>\n",
       "      <td>4</td>\n",
       "      <td>5</td>\n",
       "      <td>6</td>\n",
       "    </tr>\n",
       "    <tr>\n",
       "      <th>1</th>\n",
       "      <td>2</td>\n",
       "      <td>5</td>\n",
       "      <td>7</td>\n",
       "      <td>9</td>\n",
       "    </tr>\n",
       "    <tr>\n",
       "      <th>2</th>\n",
       "      <td>3</td>\n",
       "      <td>6</td>\n",
       "      <td>9</td>\n",
       "      <td>12</td>\n",
       "    </tr>\n",
       "  </tbody>\n",
       "</table>\n",
       "</div>"
      ],
      "text/plain": [
       "   A  B  C   D\n",
       "0  1  4  5   6\n",
       "1  2  5  7   9\n",
       "2  3  6  9  12"
      ]
     },
     "execution_count": 48,
     "metadata": {},
     "output_type": "execute_result"
    }
   ],
   "source": [
    "dfa = pd.DataFrame({\"A\": [1, 2, 3], \"B\": [4, 5, 6]})\n",
    "dfa.assign(C=lambda x: x['A'] + x['B'], D=lambda x: x['A'] + x['C'])"
   ]
  },
  {
   "attachments": {
    "f2fd2100-7381-49fe-a292-e1c5727e5bde.png": {
     "image/png": "[encoded data removed]"
    }
   },
   "cell_type": "markdown",
   "id": "04c508bd-19c4-4df5-a011-7138d3fe1b3c",
   "metadata": {},
   "source": [
    "# 索引/选择 Data\n",
    "**轴向标签信息用处广泛**\n",
    "- 识别 data，分析，可视化\n",
    "- 可以使得自动的和显示的 data alignment\n",
    "- 可以得到 dataset 的子集\n",
    "\n",
    "![image.png](attachment:f2fd2100-7381-49fe-a292-e1c5727e5bde.png)"
   ]
  },
  {
   "cell_type": "markdown",
   "id": "d8c5efd4-0ed9-475c-9a40-6159f6c1a2a8",
   "metadata": {},
   "source": [
    "## 不同的 indexing 选择\n",
    "* `.loc`，可以用 label 也可以 boolean array，不存在会引发 `KeyError`.\n",
    "> - 单个标签如: `'a'`\n",
    "> - 一个标签 list 如:`['a', 'b', 'c']`\n",
    "> - 利用标签进行 slice 如：'a':'f'，和 python 不同，start 和 stop **都会** 包含在内\n",
    "> - 一个 boolean array\n",
    "> -  一个 `callable` 的带接受一个参数的函数且返回上方提到的值作为 indexing\n",
    "> - 一个行（和列）索引的元组，且元素为上述的 input\n",
    "\n",
    "* `.iloc`，数字索引，也可用 boolean array，如果超出了 index 的 bounds 会 `IndexError`.\n",
    "> - 一个整型 如：`5`\n",
    "> - 一个整型的 list 如：`[4, 3, 0]`\n",
    "> - slice 如： `1:7`\n",
    "> - 一个 boolean array（`NA` 被处理为 `False`）\n",
    "> - 一个 `callable` 的带接受一个参数的函数且返回上方提到的值作为 indexing\n",
    "> - 一个行（和列）索引的元组，且元素为上述的 input\n",
    "\n",
    "对于没有赋值的轴，会被默认取作 `:`，即 `p.loc['a']` 和 `p.loc['a', :]` 相同"
   ]
  },
  {
   "cell_type": "code",
   "execution_count": 49,
   "id": "5cdba1d9-0f72-4d13-b44e-cef30656442b",
   "metadata": {},
   "outputs": [
    {
     "data": {
      "text/plain": [
       "a    0\n",
       "c    2\n",
       "e    4\n",
       "dtype: int64"
      ]
     },
     "execution_count": 49,
     "metadata": {},
     "output_type": "execute_result"
    }
   ],
   "source": [
    "ser = pd.Series(range(5), index=list('abcde'))\n",
    "ser.loc[['a', 'c', 'e']]"
   ]
  },
  {
   "cell_type": "code",
   "execution_count": 50,
   "id": "e35efd7a-54a2-4b24-b583-13a2369485d9",
   "metadata": {},
   "outputs": [
    {
     "data": {
      "text/html": [
       "<div>\n",
       "<style scoped>\n",
       "    .dataframe tbody tr th:only-of-type {\n",
       "        vertical-align: middle;\n",
       "    }\n",
       "\n",
       "    .dataframe tbody tr th {\n",
       "        vertical-align: top;\n",
       "    }\n",
       "\n",
       "    .dataframe thead th {\n",
       "        text-align: right;\n",
       "    }\n",
       "</style>\n",
       "<table border=\"1\" class=\"dataframe\">\n",
       "  <thead>\n",
       "    <tr style=\"text-align: right;\">\n",
       "      <th></th>\n",
       "      <th>b</th>\n",
       "      <th>d</th>\n",
       "    </tr>\n",
       "  </thead>\n",
       "  <tbody>\n",
       "    <tr>\n",
       "      <th>a</th>\n",
       "      <td>1</td>\n",
       "      <td>3</td>\n",
       "    </tr>\n",
       "    <tr>\n",
       "      <th>c</th>\n",
       "      <td>11</td>\n",
       "      <td>13</td>\n",
       "    </tr>\n",
       "    <tr>\n",
       "      <th>e</th>\n",
       "      <td>21</td>\n",
       "      <td>23</td>\n",
       "    </tr>\n",
       "  </tbody>\n",
       "</table>\n",
       "</div>"
      ],
      "text/plain": [
       "    b   d\n",
       "a   1   3\n",
       "c  11  13\n",
       "e  21  23"
      ]
     },
     "execution_count": 50,
     "metadata": {},
     "output_type": "execute_result"
    }
   ],
   "source": [
    "df = pd.DataFrame(np.arange(25).reshape(5,5), index=list('abcde'), columns=list('abcde'))\n",
    "df.loc[['a', 'c', 'e'], ['b', 'd']]"
   ]
  },
  {
   "attachments": {
    "98a3b635-5ef0-4728-ba84-b4b4ddd73278.png": {
     "image/png": "[encoded data removed]"
    }
   },
   "cell_type": "markdown",
   "id": "f48f2324-fd67-44aa-8a9e-7d5b437a9bf8",
   "metadata": {},
   "source": [
    "## 基础\n",
    "`[]`（a.k.a `__getitem__`） 的操作是选取出更低阶的 slices，如下图：\n",
    "![image.png](attachment:98a3b635-5ef0-4728-ba84-b4b4ddd73278.png)"
   ]
  },
  {
   "cell_type": "code",
   "execution_count": 51,
   "id": "64ed7321-94b0-4339-9305-94421f1784bb",
   "metadata": {},
   "outputs": [
    {
     "data": {
      "text/html": [
       "<div>\n",
       "<style scoped>\n",
       "    .dataframe tbody tr th:only-of-type {\n",
       "        vertical-align: middle;\n",
       "    }\n",
       "\n",
       "    .dataframe tbody tr th {\n",
       "        vertical-align: top;\n",
       "    }\n",
       "\n",
       "    .dataframe thead th {\n",
       "        text-align: right;\n",
       "    }\n",
       "</style>\n",
       "<table border=\"1\" class=\"dataframe\">\n",
       "  <thead>\n",
       "    <tr style=\"text-align: right;\">\n",
       "      <th></th>\n",
       "      <th>A</th>\n",
       "      <th>B</th>\n",
       "      <th>C</th>\n",
       "      <th>D</th>\n",
       "    </tr>\n",
       "  </thead>\n",
       "  <tbody>\n",
       "    <tr>\n",
       "      <th>2000-01-01</th>\n",
       "      <td>-1.831336</td>\n",
       "      <td>-1.891998</td>\n",
       "      <td>-0.541394</td>\n",
       "      <td>0.919290</td>\n",
       "    </tr>\n",
       "    <tr>\n",
       "      <th>2000-01-02</th>\n",
       "      <td>-0.895299</td>\n",
       "      <td>-0.376361</td>\n",
       "      <td>-0.928227</td>\n",
       "      <td>-0.791525</td>\n",
       "    </tr>\n",
       "    <tr>\n",
       "      <th>2000-01-03</th>\n",
       "      <td>-0.553196</td>\n",
       "      <td>-0.835740</td>\n",
       "      <td>0.030431</td>\n",
       "      <td>-1.446757</td>\n",
       "    </tr>\n",
       "    <tr>\n",
       "      <th>2000-01-04</th>\n",
       "      <td>-0.800548</td>\n",
       "      <td>1.217370</td>\n",
       "      <td>0.379667</td>\n",
       "      <td>-1.201447</td>\n",
       "    </tr>\n",
       "    <tr>\n",
       "      <th>2000-01-05</th>\n",
       "      <td>-1.457184</td>\n",
       "      <td>-0.188762</td>\n",
       "      <td>1.020774</td>\n",
       "      <td>-0.155567</td>\n",
       "    </tr>\n",
       "    <tr>\n",
       "      <th>2000-01-06</th>\n",
       "      <td>-0.169914</td>\n",
       "      <td>-1.060060</td>\n",
       "      <td>-1.445576</td>\n",
       "      <td>-0.773747</td>\n",
       "    </tr>\n",
       "    <tr>\n",
       "      <th>2000-01-07</th>\n",
       "      <td>-0.834947</td>\n",
       "      <td>0.298290</td>\n",
       "      <td>0.866092</td>\n",
       "      <td>0.101871</td>\n",
       "    </tr>\n",
       "    <tr>\n",
       "      <th>2000-01-08</th>\n",
       "      <td>1.686732</td>\n",
       "      <td>-1.495007</td>\n",
       "      <td>-0.116282</td>\n",
       "      <td>-0.338848</td>\n",
       "    </tr>\n",
       "  </tbody>\n",
       "</table>\n",
       "</div>"
      ],
      "text/plain": [
       "                   A         B         C         D\n",
       "2000-01-01 -1.831336 -1.891998 -0.541394  0.919290\n",
       "2000-01-02 -0.895299 -0.376361 -0.928227 -0.791525\n",
       "2000-01-03 -0.553196 -0.835740  0.030431 -1.446757\n",
       "2000-01-04 -0.800548  1.217370  0.379667 -1.201447\n",
       "2000-01-05 -1.457184 -0.188762  1.020774 -0.155567\n",
       "2000-01-06 -0.169914 -1.060060 -1.445576 -0.773747\n",
       "2000-01-07 -0.834947  0.298290  0.866092  0.101871\n",
       "2000-01-08  1.686732 -1.495007 -0.116282 -0.338848"
      ]
     },
     "execution_count": 51,
     "metadata": {},
     "output_type": "execute_result"
    }
   ],
   "source": [
    "dates = pd.date_range('1/1/2000', periods=8)\n",
    "df = pd.DataFrame(np.random.randn(8 ,4), index=dates, columns=list('ABCD'))\n",
    "df"
   ]
  },
  {
   "cell_type": "code",
   "execution_count": 52,
   "id": "d0686d3e-f242-4c65-8ae3-7380a4b1805d",
   "metadata": {},
   "outputs": [
    {
     "data": {
      "text/plain": [
       "-0.1699144844094096"
      ]
     },
     "execution_count": 52,
     "metadata": {},
     "output_type": "execute_result"
    }
   ],
   "source": [
    "s = df['A']\n",
    "s[dates[5]]"
   ]
  },
  {
   "cell_type": "markdown",
   "id": "dd21cb6c-ad9e-4a4a-9115-d965a4ece996",
   "metadata": {},
   "source": [
    "对于多个列可以如下操作："
   ]
  },
  {
   "cell_type": "code",
   "execution_count": 53,
   "id": "a72aeb9f-3d7e-4bcd-88c6-da7b63e5bd32",
   "metadata": {},
   "outputs": [
    {
     "name": "stdout",
     "output_type": "stream",
     "text": [
      "                   A         B         C         D\n",
      "2000-01-01 -1.831336 -1.891998 -0.541394  0.919290\n",
      "2000-01-02 -0.895299 -0.376361 -0.928227 -0.791525\n",
      "2000-01-03 -0.553196 -0.835740  0.030431 -1.446757\n",
      "2000-01-04 -0.800548  1.217370  0.379667 -1.201447\n",
      "2000-01-05 -1.457184 -0.188762  1.020774 -0.155567\n",
      "2000-01-06 -0.169914 -1.060060 -1.445576 -0.773747\n",
      "2000-01-07 -0.834947  0.298290  0.866092  0.101871\n",
      "2000-01-08  1.686732 -1.495007 -0.116282 -0.338848\n"
     ]
    },
    {
     "data": {
      "text/html": [
       "<div>\n",
       "<style scoped>\n",
       "    .dataframe tbody tr th:only-of-type {\n",
       "        vertical-align: middle;\n",
       "    }\n",
       "\n",
       "    .dataframe tbody tr th {\n",
       "        vertical-align: top;\n",
       "    }\n",
       "\n",
       "    .dataframe thead th {\n",
       "        text-align: right;\n",
       "    }\n",
       "</style>\n",
       "<table border=\"1\" class=\"dataframe\">\n",
       "  <thead>\n",
       "    <tr style=\"text-align: right;\">\n",
       "      <th></th>\n",
       "      <th>A</th>\n",
       "      <th>B</th>\n",
       "      <th>C</th>\n",
       "      <th>D</th>\n",
       "    </tr>\n",
       "  </thead>\n",
       "  <tbody>\n",
       "    <tr>\n",
       "      <th>2000-01-01</th>\n",
       "      <td>-1.891998</td>\n",
       "      <td>-1.831336</td>\n",
       "      <td>-0.541394</td>\n",
       "      <td>0.919290</td>\n",
       "    </tr>\n",
       "    <tr>\n",
       "      <th>2000-01-02</th>\n",
       "      <td>-0.376361</td>\n",
       "      <td>-0.895299</td>\n",
       "      <td>-0.928227</td>\n",
       "      <td>-0.791525</td>\n",
       "    </tr>\n",
       "    <tr>\n",
       "      <th>2000-01-03</th>\n",
       "      <td>-0.835740</td>\n",
       "      <td>-0.553196</td>\n",
       "      <td>0.030431</td>\n",
       "      <td>-1.446757</td>\n",
       "    </tr>\n",
       "    <tr>\n",
       "      <th>2000-01-04</th>\n",
       "      <td>1.217370</td>\n",
       "      <td>-0.800548</td>\n",
       "      <td>0.379667</td>\n",
       "      <td>-1.201447</td>\n",
       "    </tr>\n",
       "    <tr>\n",
       "      <th>2000-01-05</th>\n",
       "      <td>-0.188762</td>\n",
       "      <td>-1.457184</td>\n",
       "      <td>1.020774</td>\n",
       "      <td>-0.155567</td>\n",
       "    </tr>\n",
       "    <tr>\n",
       "      <th>2000-01-06</th>\n",
       "      <td>-1.060060</td>\n",
       "      <td>-0.169914</td>\n",
       "      <td>-1.445576</td>\n",
       "      <td>-0.773747</td>\n",
       "    </tr>\n",
       "    <tr>\n",
       "      <th>2000-01-07</th>\n",
       "      <td>0.298290</td>\n",
       "      <td>-0.834947</td>\n",
       "      <td>0.866092</td>\n",
       "      <td>0.101871</td>\n",
       "    </tr>\n",
       "    <tr>\n",
       "      <th>2000-01-08</th>\n",
       "      <td>-1.495007</td>\n",
       "      <td>1.686732</td>\n",
       "      <td>-0.116282</td>\n",
       "      <td>-0.338848</td>\n",
       "    </tr>\n",
       "  </tbody>\n",
       "</table>\n",
       "</div>"
      ],
      "text/plain": [
       "                   A         B         C         D\n",
       "2000-01-01 -1.891998 -1.831336 -0.541394  0.919290\n",
       "2000-01-02 -0.376361 -0.895299 -0.928227 -0.791525\n",
       "2000-01-03 -0.835740 -0.553196  0.030431 -1.446757\n",
       "2000-01-04  1.217370 -0.800548  0.379667 -1.201447\n",
       "2000-01-05 -0.188762 -1.457184  1.020774 -0.155567\n",
       "2000-01-06 -1.060060 -0.169914 -1.445576 -0.773747\n",
       "2000-01-07  0.298290 -0.834947  0.866092  0.101871\n",
       "2000-01-08 -1.495007  1.686732 -0.116282 -0.338848"
      ]
     },
     "execution_count": 53,
     "metadata": {},
     "output_type": "execute_result"
    }
   ],
   "source": [
    "print(df)\n",
    "df[['B', 'A']] = df[['A', 'B']]\n",
    "df"
   ]
  },
  {
   "cell_type": "markdown",
   "id": "343ee0bc-adc0-42f6-bdb3-2c41adf66215",
   "metadata": {},
   "source": [
    "**注意**，使用 `.loc` 和 `=` 是不能直接交换两列的，是因为轴向对齐发生在赋值之前："
   ]
  },
  {
   "cell_type": "code",
   "execution_count": 54,
   "id": "d04bdd62-b57b-4356-82bb-03a782148f89",
   "metadata": {},
   "outputs": [
    {
     "name": "stdout",
     "output_type": "stream",
     "text": [
      "                   A         B\n",
      "2000-01-01 -1.891998 -1.831336\n",
      "2000-01-02 -0.376361 -0.895299\n",
      "2000-01-03 -0.835740 -0.553196\n",
      "2000-01-04  1.217370 -0.800548\n",
      "2000-01-05 -0.188762 -1.457184\n",
      "2000-01-06 -1.060060 -0.169914\n",
      "2000-01-07  0.298290 -0.834947\n",
      "2000-01-08 -1.495007  1.686732\n"
     ]
    },
    {
     "data": {
      "text/html": [
       "<div>\n",
       "<style scoped>\n",
       "    .dataframe tbody tr th:only-of-type {\n",
       "        vertical-align: middle;\n",
       "    }\n",
       "\n",
       "    .dataframe tbody tr th {\n",
       "        vertical-align: top;\n",
       "    }\n",
       "\n",
       "    .dataframe thead th {\n",
       "        text-align: right;\n",
       "    }\n",
       "</style>\n",
       "<table border=\"1\" class=\"dataframe\">\n",
       "  <thead>\n",
       "    <tr style=\"text-align: right;\">\n",
       "      <th></th>\n",
       "      <th>A</th>\n",
       "      <th>B</th>\n",
       "    </tr>\n",
       "  </thead>\n",
       "  <tbody>\n",
       "    <tr>\n",
       "      <th>2000-01-01</th>\n",
       "      <td>-1.891998</td>\n",
       "      <td>-1.831336</td>\n",
       "    </tr>\n",
       "    <tr>\n",
       "      <th>2000-01-02</th>\n",
       "      <td>-0.376361</td>\n",
       "      <td>-0.895299</td>\n",
       "    </tr>\n",
       "    <tr>\n",
       "      <th>2000-01-03</th>\n",
       "      <td>-0.835740</td>\n",
       "      <td>-0.553196</td>\n",
       "    </tr>\n",
       "    <tr>\n",
       "      <th>2000-01-04</th>\n",
       "      <td>1.217370</td>\n",
       "      <td>-0.800548</td>\n",
       "    </tr>\n",
       "    <tr>\n",
       "      <th>2000-01-05</th>\n",
       "      <td>-0.188762</td>\n",
       "      <td>-1.457184</td>\n",
       "    </tr>\n",
       "    <tr>\n",
       "      <th>2000-01-06</th>\n",
       "      <td>-1.060060</td>\n",
       "      <td>-0.169914</td>\n",
       "    </tr>\n",
       "    <tr>\n",
       "      <th>2000-01-07</th>\n",
       "      <td>0.298290</td>\n",
       "      <td>-0.834947</td>\n",
       "    </tr>\n",
       "    <tr>\n",
       "      <th>2000-01-08</th>\n",
       "      <td>-1.495007</td>\n",
       "      <td>1.686732</td>\n",
       "    </tr>\n",
       "  </tbody>\n",
       "</table>\n",
       "</div>"
      ],
      "text/plain": [
       "                   A         B\n",
       "2000-01-01 -1.891998 -1.831336\n",
       "2000-01-02 -0.376361 -0.895299\n",
       "2000-01-03 -0.835740 -0.553196\n",
       "2000-01-04  1.217370 -0.800548\n",
       "2000-01-05 -0.188762 -1.457184\n",
       "2000-01-06 -1.060060 -0.169914\n",
       "2000-01-07  0.298290 -0.834947\n",
       "2000-01-08 -1.495007  1.686732"
      ]
     },
     "execution_count": 54,
     "metadata": {},
     "output_type": "execute_result"
    }
   ],
   "source": [
    "print(df[['A', 'B']])\n",
    "df.loc[:, ['B', 'A']] = df[['A', 'B']]\n",
    "df[['A', 'B']]"
   ]
  },
  {
   "cell_type": "markdown",
   "id": "30291398-aa59-422e-97fc-d274e96eca7c",
   "metadata": {},
   "source": [
    "正确的方式是使用原始数据："
   ]
  },
  {
   "cell_type": "code",
   "execution_count": 55,
   "id": "567d9c68-6155-4c3e-a194-f81922b80425",
   "metadata": {},
   "outputs": [
    {
     "data": {
      "text/html": [
       "<div>\n",
       "<style scoped>\n",
       "    .dataframe tbody tr th:only-of-type {\n",
       "        vertical-align: middle;\n",
       "    }\n",
       "\n",
       "    .dataframe tbody tr th {\n",
       "        vertical-align: top;\n",
       "    }\n",
       "\n",
       "    .dataframe thead th {\n",
       "        text-align: right;\n",
       "    }\n",
       "</style>\n",
       "<table border=\"1\" class=\"dataframe\">\n",
       "  <thead>\n",
       "    <tr style=\"text-align: right;\">\n",
       "      <th></th>\n",
       "      <th>A</th>\n",
       "      <th>B</th>\n",
       "    </tr>\n",
       "  </thead>\n",
       "  <tbody>\n",
       "    <tr>\n",
       "      <th>2000-01-01</th>\n",
       "      <td>-1.831336</td>\n",
       "      <td>-1.891998</td>\n",
       "    </tr>\n",
       "    <tr>\n",
       "      <th>2000-01-02</th>\n",
       "      <td>-0.895299</td>\n",
       "      <td>-0.376361</td>\n",
       "    </tr>\n",
       "    <tr>\n",
       "      <th>2000-01-03</th>\n",
       "      <td>-0.553196</td>\n",
       "      <td>-0.835740</td>\n",
       "    </tr>\n",
       "    <tr>\n",
       "      <th>2000-01-04</th>\n",
       "      <td>-0.800548</td>\n",
       "      <td>1.217370</td>\n",
       "    </tr>\n",
       "    <tr>\n",
       "      <th>2000-01-05</th>\n",
       "      <td>-1.457184</td>\n",
       "      <td>-0.188762</td>\n",
       "    </tr>\n",
       "    <tr>\n",
       "      <th>2000-01-06</th>\n",
       "      <td>-0.169914</td>\n",
       "      <td>-1.060060</td>\n",
       "    </tr>\n",
       "    <tr>\n",
       "      <th>2000-01-07</th>\n",
       "      <td>-0.834947</td>\n",
       "      <td>0.298290</td>\n",
       "    </tr>\n",
       "    <tr>\n",
       "      <th>2000-01-08</th>\n",
       "      <td>1.686732</td>\n",
       "      <td>-1.495007</td>\n",
       "    </tr>\n",
       "  </tbody>\n",
       "</table>\n",
       "</div>"
      ],
      "text/plain": [
       "                   A         B\n",
       "2000-01-01 -1.831336 -1.891998\n",
       "2000-01-02 -0.895299 -0.376361\n",
       "2000-01-03 -0.553196 -0.835740\n",
       "2000-01-04 -0.800548  1.217370\n",
       "2000-01-05 -1.457184 -0.188762\n",
       "2000-01-06 -0.169914 -1.060060\n",
       "2000-01-07 -0.834947  0.298290\n",
       "2000-01-08  1.686732 -1.495007"
      ]
     },
     "execution_count": 55,
     "metadata": {},
     "output_type": "execute_result"
    }
   ],
   "source": [
    "df.loc[:, ['B', 'A']] = df[['A', 'B']].to_numpy()\n",
    "\n",
    "df[['A', 'B']]"
   ]
  },
  {
   "cell_type": "markdown",
   "id": "4ac0eca1-809b-4a83-b314-f23b7046c673",
   "metadata": {},
   "source": [
    "但是 `.iloc` 不会出现 `.loc` 的情况，因为其不需要列对齐:"
   ]
  },
  {
   "cell_type": "code",
   "execution_count": 56,
   "id": "88453617-95c0-411d-988e-8a06db94e38f",
   "metadata": {},
   "outputs": [
    {
     "name": "stdout",
     "output_type": "stream",
     "text": [
      "                   A         B\n",
      "2000-01-01 -1.831336 -1.891998\n",
      "2000-01-02 -0.895299 -0.376361\n",
      "2000-01-03 -0.553196 -0.835740\n",
      "2000-01-04 -0.800548  1.217370\n",
      "2000-01-05 -1.457184 -0.188762\n",
      "2000-01-06 -0.169914 -1.060060\n",
      "2000-01-07 -0.834947  0.298290\n",
      "2000-01-08  1.686732 -1.495007\n"
     ]
    },
    {
     "data": {
      "text/html": [
       "<div>\n",
       "<style scoped>\n",
       "    .dataframe tbody tr th:only-of-type {\n",
       "        vertical-align: middle;\n",
       "    }\n",
       "\n",
       "    .dataframe tbody tr th {\n",
       "        vertical-align: top;\n",
       "    }\n",
       "\n",
       "    .dataframe thead th {\n",
       "        text-align: right;\n",
       "    }\n",
       "</style>\n",
       "<table border=\"1\" class=\"dataframe\">\n",
       "  <thead>\n",
       "    <tr style=\"text-align: right;\">\n",
       "      <th></th>\n",
       "      <th>A</th>\n",
       "      <th>B</th>\n",
       "    </tr>\n",
       "  </thead>\n",
       "  <tbody>\n",
       "    <tr>\n",
       "      <th>2000-01-01</th>\n",
       "      <td>-1.891998</td>\n",
       "      <td>-1.831336</td>\n",
       "    </tr>\n",
       "    <tr>\n",
       "      <th>2000-01-02</th>\n",
       "      <td>-0.376361</td>\n",
       "      <td>-0.895299</td>\n",
       "    </tr>\n",
       "    <tr>\n",
       "      <th>2000-01-03</th>\n",
       "      <td>-0.835740</td>\n",
       "      <td>-0.553196</td>\n",
       "    </tr>\n",
       "    <tr>\n",
       "      <th>2000-01-04</th>\n",
       "      <td>1.217370</td>\n",
       "      <td>-0.800548</td>\n",
       "    </tr>\n",
       "    <tr>\n",
       "      <th>2000-01-05</th>\n",
       "      <td>-0.188762</td>\n",
       "      <td>-1.457184</td>\n",
       "    </tr>\n",
       "    <tr>\n",
       "      <th>2000-01-06</th>\n",
       "      <td>-1.060060</td>\n",
       "      <td>-0.169914</td>\n",
       "    </tr>\n",
       "    <tr>\n",
       "      <th>2000-01-07</th>\n",
       "      <td>0.298290</td>\n",
       "      <td>-0.834947</td>\n",
       "    </tr>\n",
       "    <tr>\n",
       "      <th>2000-01-08</th>\n",
       "      <td>-1.495007</td>\n",
       "      <td>1.686732</td>\n",
       "    </tr>\n",
       "  </tbody>\n",
       "</table>\n",
       "</div>"
      ],
      "text/plain": [
       "                   A         B\n",
       "2000-01-01 -1.891998 -1.831336\n",
       "2000-01-02 -0.376361 -0.895299\n",
       "2000-01-03 -0.835740 -0.553196\n",
       "2000-01-04  1.217370 -0.800548\n",
       "2000-01-05 -0.188762 -1.457184\n",
       "2000-01-06 -1.060060 -0.169914\n",
       "2000-01-07  0.298290 -0.834947\n",
       "2000-01-08 -1.495007  1.686732"
      ]
     },
     "execution_count": 56,
     "metadata": {},
     "output_type": "execute_result"
    }
   ],
   "source": [
    "print(df[['A', 'B']])\n",
    "\n",
    "df.iloc[:, [1, 0]] = df[['A', 'B']]\n",
    "\n",
    "df[['A', 'B']]          "
   ]
  },
  {
   "cell_type": "markdown",
   "id": "de3709bf-5559-4f3c-8152-4e354b3ae45a",
   "metadata": {},
   "source": [
    "## 访问数据属性\n",
    "根据 `.` 访问\n",
    "- 当然，属性不能为一下几种类型：`s.1`,`s.min`以及其他保留的属性（DataFrame，Series 本身有的）\n",
    "- 且，所指代的属性必须要先存在，如果想要新建一个 column 则不能用属性的方式做"
   ]
  },
  {
   "cell_type": "code",
   "execution_count": 57,
   "id": "42e3ee1d-0053-40ad-b4bb-535b09d582c0",
   "metadata": {},
   "outputs": [],
   "source": [
    "sa = pd.Series([1, 2, 3], index=list('abc'))\n",
    "\n",
    "dfa = df.copy()"
   ]
  },
  {
   "cell_type": "code",
   "execution_count": 58,
   "id": "c99625b4-4066-45ee-99c6-990fd705a12b",
   "metadata": {},
   "outputs": [
    {
     "name": "stdout",
     "output_type": "stream",
     "text": [
      "2\n"
     ]
    },
    {
     "data": {
      "text/plain": [
       "2000-01-01   -1.891998\n",
       "2000-01-02   -0.376361\n",
       "2000-01-03   -0.835740\n",
       "2000-01-04    1.217370\n",
       "2000-01-05   -0.188762\n",
       "2000-01-06   -1.060060\n",
       "2000-01-07    0.298290\n",
       "2000-01-08   -1.495007\n",
       "Freq: D, Name: A, dtype: float64"
      ]
     },
     "execution_count": 58,
     "metadata": {},
     "output_type": "execute_result"
    }
   ],
   "source": [
    "print(sa.b)\n",
    "dfa.A"
   ]
  },
  {
   "cell_type": "code",
   "execution_count": 59,
   "id": "f946c289-dfb7-4a50-89ee-eac8a560ea7c",
   "metadata": {},
   "outputs": [
    {
     "name": "stdout",
     "output_type": "stream",
     "text": [
      "a    5\n",
      "b    2\n",
      "c    3\n",
      "dtype: int64\n"
     ]
    },
    {
     "data": {
      "text/html": [
       "<div>\n",
       "<style scoped>\n",
       "    .dataframe tbody tr th:only-of-type {\n",
       "        vertical-align: middle;\n",
       "    }\n",
       "\n",
       "    .dataframe tbody tr th {\n",
       "        vertical-align: top;\n",
       "    }\n",
       "\n",
       "    .dataframe thead th {\n",
       "        text-align: right;\n",
       "    }\n",
       "</style>\n",
       "<table border=\"1\" class=\"dataframe\">\n",
       "  <thead>\n",
       "    <tr style=\"text-align: right;\">\n",
       "      <th></th>\n",
       "      <th>A</th>\n",
       "      <th>B</th>\n",
       "      <th>C</th>\n",
       "      <th>D</th>\n",
       "    </tr>\n",
       "  </thead>\n",
       "  <tbody>\n",
       "    <tr>\n",
       "      <th>2000-01-01</th>\n",
       "      <td>0</td>\n",
       "      <td>-1.831336</td>\n",
       "      <td>-0.541394</td>\n",
       "      <td>0.919290</td>\n",
       "    </tr>\n",
       "    <tr>\n",
       "      <th>2000-01-02</th>\n",
       "      <td>1</td>\n",
       "      <td>-0.895299</td>\n",
       "      <td>-0.928227</td>\n",
       "      <td>-0.791525</td>\n",
       "    </tr>\n",
       "    <tr>\n",
       "      <th>2000-01-03</th>\n",
       "      <td>2</td>\n",
       "      <td>-0.553196</td>\n",
       "      <td>0.030431</td>\n",
       "      <td>-1.446757</td>\n",
       "    </tr>\n",
       "    <tr>\n",
       "      <th>2000-01-04</th>\n",
       "      <td>3</td>\n",
       "      <td>-0.800548</td>\n",
       "      <td>0.379667</td>\n",
       "      <td>-1.201447</td>\n",
       "    </tr>\n",
       "    <tr>\n",
       "      <th>2000-01-05</th>\n",
       "      <td>4</td>\n",
       "      <td>-1.457184</td>\n",
       "      <td>1.020774</td>\n",
       "      <td>-0.155567</td>\n",
       "    </tr>\n",
       "    <tr>\n",
       "      <th>2000-01-06</th>\n",
       "      <td>5</td>\n",
       "      <td>-0.169914</td>\n",
       "      <td>-1.445576</td>\n",
       "      <td>-0.773747</td>\n",
       "    </tr>\n",
       "    <tr>\n",
       "      <th>2000-01-07</th>\n",
       "      <td>6</td>\n",
       "      <td>-0.834947</td>\n",
       "      <td>0.866092</td>\n",
       "      <td>0.101871</td>\n",
       "    </tr>\n",
       "    <tr>\n",
       "      <th>2000-01-08</th>\n",
       "      <td>7</td>\n",
       "      <td>1.686732</td>\n",
       "      <td>-0.116282</td>\n",
       "      <td>-0.338848</td>\n",
       "    </tr>\n",
       "  </tbody>\n",
       "</table>\n",
       "</div>"
      ],
      "text/plain": [
       "            A         B         C         D\n",
       "2000-01-01  0 -1.831336 -0.541394  0.919290\n",
       "2000-01-02  1 -0.895299 -0.928227 -0.791525\n",
       "2000-01-03  2 -0.553196  0.030431 -1.446757\n",
       "2000-01-04  3 -0.800548  0.379667 -1.201447\n",
       "2000-01-05  4 -1.457184  1.020774 -0.155567\n",
       "2000-01-06  5 -0.169914 -1.445576 -0.773747\n",
       "2000-01-07  6 -0.834947  0.866092  0.101871\n",
       "2000-01-08  7  1.686732 -0.116282 -0.338848"
      ]
     },
     "execution_count": 59,
     "metadata": {},
     "output_type": "execute_result"
    }
   ],
   "source": [
    "# 根据属性修改\n",
    "sa.a = 5\n",
    "print(sa)\n",
    "dfa.A = list(range(len(dfa.index)))\n",
    "dfa"
   ]
  },
  {
   "cell_type": "markdown",
   "id": "7d2e7dc5-7507-4177-9c3c-669c3361b2bb",
   "metadata": {},
   "source": [
    "也可以用 `dict` 来作为 `DataFrame` 的一个行："
   ]
  },
  {
   "cell_type": "code",
   "execution_count": 60,
   "id": "0ae52434-cf99-4993-8b18-5d98f8b7ff74",
   "metadata": {},
   "outputs": [
    {
     "data": {
      "text/html": [
       "<div>\n",
       "<style scoped>\n",
       "    .dataframe tbody tr th:only-of-type {\n",
       "        vertical-align: middle;\n",
       "    }\n",
       "\n",
       "    .dataframe tbody tr th {\n",
       "        vertical-align: top;\n",
       "    }\n",
       "\n",
       "    .dataframe thead th {\n",
       "        text-align: right;\n",
       "    }\n",
       "</style>\n",
       "<table border=\"1\" class=\"dataframe\">\n",
       "  <thead>\n",
       "    <tr style=\"text-align: right;\">\n",
       "      <th></th>\n",
       "      <th>x</th>\n",
       "      <th>y</th>\n",
       "    </tr>\n",
       "  </thead>\n",
       "  <tbody>\n",
       "    <tr>\n",
       "      <th>0</th>\n",
       "      <td>1</td>\n",
       "      <td>3</td>\n",
       "    </tr>\n",
       "    <tr>\n",
       "      <th>1</th>\n",
       "      <td>9</td>\n",
       "      <td>99</td>\n",
       "    </tr>\n",
       "    <tr>\n",
       "      <th>2</th>\n",
       "      <td>3</td>\n",
       "      <td>5</td>\n",
       "    </tr>\n",
       "  </tbody>\n",
       "</table>\n",
       "</div>"
      ],
      "text/plain": [
       "   x   y\n",
       "0  1   3\n",
       "1  9  99\n",
       "2  3   5"
      ]
     },
     "execution_count": 60,
     "metadata": {},
     "output_type": "execute_result"
    }
   ],
   "source": [
    "x = pd.DataFrame({'x': [1, 2, 3], 'y': [3, 4, 5]})\n",
    "\n",
    "x.iloc[1] = {'x': 9, 'y': 99}\n",
    "\n",
    "x"
   ]
  },
  {
   "cell_type": "markdown",
   "id": "e448335d-6363-4678-b155-e7d6a886ce17",
   "metadata": {},
   "source": [
    "## 切片范围\n",
    "最 magic 的 `[]` operator"
   ]
  },
  {
   "cell_type": "code",
   "execution_count": 61,
   "id": "5b35f0c1-d39c-48ac-b91a-0201989b1aaf",
   "metadata": {},
   "outputs": [
    {
     "name": "stdout",
     "output_type": "stream",
     "text": [
      "2000-01-01   -1.831336\n",
      "2000-01-02   -0.895299\n",
      "2000-01-03   -0.553196\n",
      "2000-01-04   -0.800548\n",
      "2000-01-05   -1.457184\n",
      "Freq: D, Name: A, dtype: float64\n",
      "2000-01-01   -1.831336\n",
      "2000-01-03   -0.553196\n",
      "2000-01-05   -1.457184\n",
      "2000-01-07   -0.834947\n",
      "Freq: 2D, Name: A, dtype: float64\n"
     ]
    },
    {
     "data": {
      "text/plain": [
       "2000-01-08    1.686732\n",
       "2000-01-07   -0.834947\n",
       "2000-01-06   -0.169914\n",
       "2000-01-05   -1.457184\n",
       "2000-01-04   -0.800548\n",
       "2000-01-03   -0.553196\n",
       "2000-01-02   -0.895299\n",
       "2000-01-01   -1.831336\n",
       "Freq: -1D, Name: A, dtype: float64"
      ]
     },
     "execution_count": 61,
     "metadata": {},
     "output_type": "execute_result"
    }
   ],
   "source": [
    "print(s[:5])\n",
    "print(s[::2])\n",
    "s[::-1]"
   ]
  },
  {
   "cell_type": "markdown",
   "id": "504bbcb7-5377-46ea-b7be-deeae076319c",
   "metadata": {},
   "source": [
    "对于 `DataFrame` 则是用 `[]` 选择行。"
   ]
  },
  {
   "cell_type": "code",
   "execution_count": 62,
   "id": "a66154e4-a601-4de1-a912-1f80349a696b",
   "metadata": {},
   "outputs": [
    {
     "name": "stdout",
     "output_type": "stream",
     "text": [
      "                   A         B         C         D\n",
      "2000-01-01 -1.891998 -1.831336 -0.541394  0.919290\n",
      "2000-01-02 -0.376361 -0.895299 -0.928227 -0.791525\n",
      "2000-01-03 -0.835740 -0.553196  0.030431 -1.446757\n"
     ]
    },
    {
     "data": {
      "text/html": [
       "<div>\n",
       "<style scoped>\n",
       "    .dataframe tbody tr th:only-of-type {\n",
       "        vertical-align: middle;\n",
       "    }\n",
       "\n",
       "    .dataframe tbody tr th {\n",
       "        vertical-align: top;\n",
       "    }\n",
       "\n",
       "    .dataframe thead th {\n",
       "        text-align: right;\n",
       "    }\n",
       "</style>\n",
       "<table border=\"1\" class=\"dataframe\">\n",
       "  <thead>\n",
       "    <tr style=\"text-align: right;\">\n",
       "      <th></th>\n",
       "      <th>A</th>\n",
       "      <th>B</th>\n",
       "      <th>C</th>\n",
       "      <th>D</th>\n",
       "    </tr>\n",
       "  </thead>\n",
       "  <tbody>\n",
       "    <tr>\n",
       "      <th>2000-01-08</th>\n",
       "      <td>-1.495007</td>\n",
       "      <td>1.686732</td>\n",
       "      <td>-0.116282</td>\n",
       "      <td>-0.338848</td>\n",
       "    </tr>\n",
       "    <tr>\n",
       "      <th>2000-01-07</th>\n",
       "      <td>0.298290</td>\n",
       "      <td>-0.834947</td>\n",
       "      <td>0.866092</td>\n",
       "      <td>0.101871</td>\n",
       "    </tr>\n",
       "    <tr>\n",
       "      <th>2000-01-06</th>\n",
       "      <td>-1.060060</td>\n",
       "      <td>-0.169914</td>\n",
       "      <td>-1.445576</td>\n",
       "      <td>-0.773747</td>\n",
       "    </tr>\n",
       "    <tr>\n",
       "      <th>2000-01-05</th>\n",
       "      <td>-0.188762</td>\n",
       "      <td>-1.457184</td>\n",
       "      <td>1.020774</td>\n",
       "      <td>-0.155567</td>\n",
       "    </tr>\n",
       "    <tr>\n",
       "      <th>2000-01-04</th>\n",
       "      <td>1.217370</td>\n",
       "      <td>-0.800548</td>\n",
       "      <td>0.379667</td>\n",
       "      <td>-1.201447</td>\n",
       "    </tr>\n",
       "    <tr>\n",
       "      <th>2000-01-03</th>\n",
       "      <td>-0.835740</td>\n",
       "      <td>-0.553196</td>\n",
       "      <td>0.030431</td>\n",
       "      <td>-1.446757</td>\n",
       "    </tr>\n",
       "    <tr>\n",
       "      <th>2000-01-02</th>\n",
       "      <td>-0.376361</td>\n",
       "      <td>-0.895299</td>\n",
       "      <td>-0.928227</td>\n",
       "      <td>-0.791525</td>\n",
       "    </tr>\n",
       "    <tr>\n",
       "      <th>2000-01-01</th>\n",
       "      <td>-1.891998</td>\n",
       "      <td>-1.831336</td>\n",
       "      <td>-0.541394</td>\n",
       "      <td>0.919290</td>\n",
       "    </tr>\n",
       "  </tbody>\n",
       "</table>\n",
       "</div>"
      ],
      "text/plain": [
       "                   A         B         C         D\n",
       "2000-01-08 -1.495007  1.686732 -0.116282 -0.338848\n",
       "2000-01-07  0.298290 -0.834947  0.866092  0.101871\n",
       "2000-01-06 -1.060060 -0.169914 -1.445576 -0.773747\n",
       "2000-01-05 -0.188762 -1.457184  1.020774 -0.155567\n",
       "2000-01-04  1.217370 -0.800548  0.379667 -1.201447\n",
       "2000-01-03 -0.835740 -0.553196  0.030431 -1.446757\n",
       "2000-01-02 -0.376361 -0.895299 -0.928227 -0.791525\n",
       "2000-01-01 -1.891998 -1.831336 -0.541394  0.919290"
      ]
     },
     "execution_count": 62,
     "metadata": {},
     "output_type": "execute_result"
    }
   ],
   "source": [
    "print(df[:3])\n",
    "df[::-1]"
   ]
  },
  {
   "cell_type": "markdown",
   "id": "7c2e9b1d-b6f8-4740-ae32-716f859369bf",
   "metadata": {},
   "source": [
    "## 使用标签切片\n",
    "> `.loc` 十分严格，如果使用 integers 在 DateTimeIndex 中使用则会引发 `TypeError`"
   ]
  },
  {
   "cell_type": "code",
   "execution_count": 63,
   "id": "fb20e330-4a4c-432b-8790-d5a108113e82",
   "metadata": {},
   "outputs": [
    {
     "name": "stdout",
     "output_type": "stream",
     "text": [
      "                   A         B         C         D\n",
      "2013-01-01 -0.251432 -1.211189 -0.990987 -0.779723\n",
      "2013-01-02 -0.234344 -0.459086 -1.004859 -1.007937\n",
      "2013-01-03 -2.100295  0.217887 -1.091935 -0.256250\n",
      "2013-01-04 -1.638199  0.255084  1.505758 -1.347415\n",
      "2013-01-05  0.780922  0.037207 -0.229736  0.282137\n"
     ]
    }
   ],
   "source": [
    "dfl = pd.DataFrame(np.random.randn(5, 4),\n",
    "                   columns=list('ABCD'),\n",
    "                   index=pd.date_range('20130101', periods=5))\n",
    "print(dfl)\n",
    "# dfl.loc[2:3]"
   ]
  },
  {
   "cell_type": "code",
   "execution_count": 64,
   "id": "b5a54a94-b7c6-4c42-b98d-f322efda749a",
   "metadata": {},
   "outputs": [
    {
     "data": {
      "text/html": [
       "<div>\n",
       "<style scoped>\n",
       "    .dataframe tbody tr th:only-of-type {\n",
       "        vertical-align: middle;\n",
       "    }\n",
       "\n",
       "    .dataframe tbody tr th {\n",
       "        vertical-align: top;\n",
       "    }\n",
       "\n",
       "    .dataframe thead th {\n",
       "        text-align: right;\n",
       "    }\n",
       "</style>\n",
       "<table border=\"1\" class=\"dataframe\">\n",
       "  <thead>\n",
       "    <tr style=\"text-align: right;\">\n",
       "      <th></th>\n",
       "      <th>A</th>\n",
       "      <th>B</th>\n",
       "      <th>C</th>\n",
       "      <th>D</th>\n",
       "    </tr>\n",
       "  </thead>\n",
       "  <tbody>\n",
       "    <tr>\n",
       "      <th>2013-01-02</th>\n",
       "      <td>-0.234344</td>\n",
       "      <td>-0.459086</td>\n",
       "      <td>-1.004859</td>\n",
       "      <td>-1.007937</td>\n",
       "    </tr>\n",
       "    <tr>\n",
       "      <th>2013-01-03</th>\n",
       "      <td>-2.100295</td>\n",
       "      <td>0.217887</td>\n",
       "      <td>-1.091935</td>\n",
       "      <td>-0.256250</td>\n",
       "    </tr>\n",
       "    <tr>\n",
       "      <th>2013-01-04</th>\n",
       "      <td>-1.638199</td>\n",
       "      <td>0.255084</td>\n",
       "      <td>1.505758</td>\n",
       "      <td>-1.347415</td>\n",
       "    </tr>\n",
       "  </tbody>\n",
       "</table>\n",
       "</div>"
      ],
      "text/plain": [
       "                   A         B         C         D\n",
       "2013-01-02 -0.234344 -0.459086 -1.004859 -1.007937\n",
       "2013-01-03 -2.100295  0.217887 -1.091935 -0.256250\n",
       "2013-01-04 -1.638199  0.255084  1.505758 -1.347415"
      ]
     },
     "execution_count": 64,
     "metadata": {},
     "output_type": "execute_result"
    }
   ],
   "source": [
    "dfl.loc['20130102':'20130104']"
   ]
  },
  {
   "cell_type": "code",
   "execution_count": 65,
   "id": "d10e13b2-13a0-4d1f-994d-629014554694",
   "metadata": {},
   "outputs": [
    {
     "name": "stdout",
     "output_type": "stream",
     "text": [
      "a   -0.281608\n",
      "b    0.320419\n",
      "c    1.312728\n",
      "d   -1.651680\n",
      "e   -1.035973\n",
      "f   -2.370597\n",
      "dtype: float64\n",
      "c    1.312728\n",
      "d   -1.651680\n",
      "e   -1.035973\n",
      "f   -2.370597\n",
      "dtype: float64\n"
     ]
    },
    {
     "data": {
      "text/plain": [
       "a   -0.281608\n",
       "b    0.320419\n",
       "c    0.000000\n",
       "d    0.000000\n",
       "e    0.000000\n",
       "f    0.000000\n",
       "dtype: float64"
      ]
     },
     "execution_count": 65,
     "metadata": {},
     "output_type": "execute_result"
    }
   ],
   "source": [
    "s1 = pd.Series(np.random.randn(6), index=list('abcdef'))\n",
    "print(s1)\n",
    "print(s1.loc['c':])\n",
    "# 同时也可以进行赋值\n",
    "s1.loc['c':] = 0\n",
    "s1"
   ]
  },
  {
   "cell_type": "code",
   "execution_count": 66,
   "id": "28061ac4-d046-4612-8474-8db01df655e2",
   "metadata": {},
   "outputs": [
    {
     "name": "stdout",
     "output_type": "stream",
     "text": [
      "          A         B         C         D\n",
      "a  1.405255 -1.470088  0.707058  0.556565\n",
      "b  0.226794 -0.677975  0.336121  0.698581\n",
      "c -0.502789 -1.199632  0.105829 -0.405676\n",
      "d -0.799255  1.475306 -0.095612 -1.633163\n",
      "e -0.262815  0.666101  0.432818  1.070583\n",
      "f -1.196739  1.370491 -0.911250  0.411462\n"
     ]
    },
    {
     "data": {
      "text/html": [
       "<div>\n",
       "<style scoped>\n",
       "    .dataframe tbody tr th:only-of-type {\n",
       "        vertical-align: middle;\n",
       "    }\n",
       "\n",
       "    .dataframe tbody tr th {\n",
       "        vertical-align: top;\n",
       "    }\n",
       "\n",
       "    .dataframe thead th {\n",
       "        text-align: right;\n",
       "    }\n",
       "</style>\n",
       "<table border=\"1\" class=\"dataframe\">\n",
       "  <thead>\n",
       "    <tr style=\"text-align: right;\">\n",
       "      <th></th>\n",
       "      <th>A</th>\n",
       "      <th>B</th>\n",
       "      <th>C</th>\n",
       "      <th>D</th>\n",
       "    </tr>\n",
       "  </thead>\n",
       "  <tbody>\n",
       "    <tr>\n",
       "      <th>a</th>\n",
       "      <td>1.405255</td>\n",
       "      <td>-1.470088</td>\n",
       "      <td>0.707058</td>\n",
       "      <td>0.556565</td>\n",
       "    </tr>\n",
       "    <tr>\n",
       "      <th>b</th>\n",
       "      <td>0.226794</td>\n",
       "      <td>-0.677975</td>\n",
       "      <td>0.336121</td>\n",
       "      <td>0.698581</td>\n",
       "    </tr>\n",
       "    <tr>\n",
       "      <th>c</th>\n",
       "      <td>-0.502789</td>\n",
       "      <td>-1.199632</td>\n",
       "      <td>0.105829</td>\n",
       "      <td>-0.405676</td>\n",
       "    </tr>\n",
       "  </tbody>\n",
       "</table>\n",
       "</div>"
      ],
      "text/plain": [
       "          A         B         C         D\n",
       "a  1.405255 -1.470088  0.707058  0.556565\n",
       "b  0.226794 -0.677975  0.336121  0.698581\n",
       "c -0.502789 -1.199632  0.105829 -0.405676"
      ]
     },
     "execution_count": 66,
     "metadata": {},
     "output_type": "execute_result"
    }
   ],
   "source": [
    "df1 = pd.DataFrame(np.random.randn(6, 4),\n",
    "                   index=list('abcdef'),\n",
    "                   columns=list('ABCD'))\n",
    "print(df1)\n",
    "df1.loc[['a', 'b', 'c'], :]"
   ]
  },
  {
   "cell_type": "code",
   "execution_count": 67,
   "id": "26697ae4-c33d-4492-bda6-a0ef940a6792",
   "metadata": {},
   "outputs": [
    {
     "name": "stdout",
     "output_type": "stream",
     "text": [
      "          A         B         C\n",
      "d -0.799255  1.475306 -0.095612\n",
      "e -0.262815  0.666101  0.432818\n",
      "f -1.196739  1.370491 -0.911250\n",
      "A    1.405255\n",
      "B   -1.470088\n",
      "C    0.707058\n",
      "D    0.556565\n",
      "Name: a, dtype: float64\n"
     ]
    },
    {
     "data": {
      "text/plain": [
       "A    1.405255\n",
       "B   -1.470088\n",
       "C    0.707058\n",
       "D    0.556565\n",
       "Name: a, dtype: float64"
      ]
     },
     "execution_count": 67,
     "metadata": {},
     "output_type": "execute_result"
    }
   ],
   "source": [
    "# 通过 label 的 slice\n",
    "print(df1.loc['d':, 'A':'C'])\n",
    "\n",
    "# 得到交叉部分 和 df.xs('a') 效果相同\n",
    "print(df1.loc['a'])\n",
    "df1.xs('a')"
   ]
  },
  {
   "cell_type": "markdown",
   "id": "3935dcbd-4d95-43ca-be36-bad573c17a10",
   "metadata": {},
   "source": [
    "# MultiIndex 层次化索引\n",
    "## 创建 MultiIndex Obj\n",
    "一个由 tuples 组成的列表，且每个 tuple 都是唯一的。\n",
    "- `pd.MultiIndex.from_arrays()`\n",
    "- `pd.MultiIndex.from_tuples()`\n",
    "- `pd.MultiIndex.from_product()`\n",
    "- `pd.MultiIndex.from_frame()`"
   ]
  },
  {
   "cell_type": "code",
   "execution_count": 68,
   "id": "df8fc7ad-a89f-4971-af8c-237b37fc14af",
   "metadata": {},
   "outputs": [
    {
     "data": {
      "text/plain": [
       "[('bar', 'one'),\n",
       " ('bar', 'two'),\n",
       " ('baz', 'one'),\n",
       " ('baz', 'two'),\n",
       " ('foo', 'one'),\n",
       " ('foo', 'two'),\n",
       " ('qux', 'one'),\n",
       " ('qux', 'two')]"
      ]
     },
     "execution_count": 68,
     "metadata": {},
     "output_type": "execute_result"
    }
   ],
   "source": [
    "arrays = [\n",
    "    [\"bar\", \"bar\", \"baz\", \"baz\", \"foo\", \"foo\", \"qux\", \"qux\"],\n",
    "    [\"one\", \"two\", \"one\", \"two\", \"one\", \"two\", \"one\", \"two\"],\n",
    "]\n",
    "\n",
    "# *arrays 表示解包函数，zip 表示逐元素配对组合，结果是元组列表\n",
    "tuples = list(zip(*arrays))\n",
    "\n",
    "tuples"
   ]
  },
  {
   "cell_type": "code",
   "execution_count": 69,
   "id": "f05a5234-dca7-488a-b89b-10d19df08ef5",
   "metadata": {},
   "outputs": [
    {
     "data": {
      "text/plain": [
       "MultiIndex([('bar', 'one'),\n",
       "            ('bar', 'two'),\n",
       "            ('baz', 'one'),\n",
       "            ('baz', 'two'),\n",
       "            ('foo', 'one'),\n",
       "            ('foo', 'two'),\n",
       "            ('qux', 'one'),\n",
       "            ('qux', 'two')],\n",
       "           names=['first', 'second'])"
      ]
     },
     "execution_count": 69,
     "metadata": {},
     "output_type": "execute_result"
    }
   ],
   "source": [
    "index = pd.MultiIndex.from_tuples(tuples, names=[\"first\", \"second\"])\n",
    "index"
   ]
  },
  {
   "cell_type": "code",
   "execution_count": 70,
   "id": "9493e081-7e3c-4c36-a61d-6d9002e79524",
   "metadata": {},
   "outputs": [
    {
     "data": {
      "text/plain": [
       "first  second\n",
       "bar    one      -0.788776\n",
       "       two      -0.782407\n",
       "baz    one       0.088966\n",
       "       two       2.196748\n",
       "foo    one      -0.702395\n",
       "       two       0.601752\n",
       "qux    one      -0.306461\n",
       "       two       0.940319\n",
       "dtype: float64"
      ]
     },
     "execution_count": 70,
     "metadata": {},
     "output_type": "execute_result"
    }
   ],
   "source": [
    "s = pd.Series(np.random.randn(8), index=index)\n",
    "s"
   ]
  },
  {
   "cell_type": "markdown",
   "id": "8583a172-60a3-4020-99f1-fd7ffe95f3a9",
   "metadata": {},
   "source": [
    "同时如果你需要两个可迭代集合中的每个配对，可以使用 from_product()"
   ]
  },
  {
   "cell_type": "code",
   "execution_count": 71,
   "id": "ddf28058-bf37-47e8-9796-2ced50690f5d",
   "metadata": {},
   "outputs": [
    {
     "data": {
      "text/plain": [
       "MultiIndex([('bar', 'one'),\n",
       "            ('bar', 'two'),\n",
       "            ('baz', 'one'),\n",
       "            ('baz', 'two'),\n",
       "            ('foo', 'one'),\n",
       "            ('foo', 'two'),\n",
       "            ('qux', 'one'),\n",
       "            ('qux', 'two')],\n",
       "           names=['first', 'second'])"
      ]
     },
     "execution_count": 71,
     "metadata": {},
     "output_type": "execute_result"
    }
   ],
   "source": [
    "iterables = [[\"bar\", \"baz\", \"foo\", \"qux\"], [\"one\", \"two\"]]\n",
    "pd.MultiIndex.from_product(iterables, names=[\"first\", \"second\"])"
   ]
  },
  {
   "cell_type": "markdown",
   "id": "0ba56ac4-4953-4610-8da5-2a42d3674af8",
   "metadata": {},
   "source": [
    "也可以直接从 `DataFrame` 中直接构建："
   ]
  },
  {
   "cell_type": "code",
   "execution_count": 72,
   "id": "33b95a95-a924-4a6c-8b55-d0f67ae307ed",
   "metadata": {},
   "outputs": [
    {
     "name": "stdout",
     "output_type": "stream",
     "text": [
      "  first second\n",
      "0   bar    one\n",
      "1   bar    two\n",
      "2   foo    one\n",
      "3   foo    two\n"
     ]
    },
    {
     "data": {
      "text/plain": [
       "MultiIndex([('bar', 'one'),\n",
       "            ('bar', 'two'),\n",
       "            ('foo', 'one'),\n",
       "            ('foo', 'two')],\n",
       "           names=['first', 'second'])"
      ]
     },
     "execution_count": 72,
     "metadata": {},
     "output_type": "execute_result"
    }
   ],
   "source": [
    "df = pd.DataFrame(\n",
    "    [[\"bar\", \"one\"], [\"bar\", \"two\"], [\"foo\", \"one\"], [\"foo\", \"two\"]],\n",
    "    columns=[\"first\", \"second\"],\n",
    ")\n",
    "print(df)\n",
    "pd.MultiIndex.from_frame(df)"
   ]
  },
  {
   "cell_type": "markdown",
   "id": "18ce59fb-0768-4051-9d7a-a1c23ec7411c",
   "metadata": {},
   "source": [
    "更方便的构造 `Series` 或 `DataFrame` 的过程中自动采用 `MultiIndex`，传递一个由 array 组成的 list"
   ]
  },
  {
   "cell_type": "code",
   "execution_count": 73,
   "id": "7589a314-59fa-4f0a-97e5-179b8a214e49",
   "metadata": {},
   "outputs": [
    {
     "name": "stdout",
     "output_type": "stream",
     "text": [
      "bar  one    1.789862\n",
      "     two    0.752315\n",
      "baz  one   -0.493914\n",
      "     two   -1.050850\n",
      "foo  one   -0.072212\n",
      "     two    0.715477\n",
      "qux  one   -0.367162\n",
      "     two    0.781413\n",
      "dtype: float64\n"
     ]
    },
    {
     "data": {
      "text/html": [
       "<div>\n",
       "<style scoped>\n",
       "    .dataframe tbody tr th:only-of-type {\n",
       "        vertical-align: middle;\n",
       "    }\n",
       "\n",
       "    .dataframe tbody tr th {\n",
       "        vertical-align: top;\n",
       "    }\n",
       "\n",
       "    .dataframe thead th {\n",
       "        text-align: right;\n",
       "    }\n",
       "</style>\n",
       "<table border=\"1\" class=\"dataframe\">\n",
       "  <thead>\n",
       "    <tr style=\"text-align: right;\">\n",
       "      <th></th>\n",
       "      <th></th>\n",
       "      <th>0</th>\n",
       "      <th>1</th>\n",
       "      <th>2</th>\n",
       "      <th>3</th>\n",
       "    </tr>\n",
       "  </thead>\n",
       "  <tbody>\n",
       "    <tr>\n",
       "      <th rowspan=\"2\" valign=\"top\">bar</th>\n",
       "      <th>one</th>\n",
       "      <td>0.634739</td>\n",
       "      <td>-0.354264</td>\n",
       "      <td>0.942914</td>\n",
       "      <td>-1.334285</td>\n",
       "    </tr>\n",
       "    <tr>\n",
       "      <th>two</th>\n",
       "      <td>-0.218423</td>\n",
       "      <td>-0.276980</td>\n",
       "      <td>-0.117450</td>\n",
       "      <td>-0.104719</td>\n",
       "    </tr>\n",
       "    <tr>\n",
       "      <th rowspan=\"2\" valign=\"top\">baz</th>\n",
       "      <th>one</th>\n",
       "      <td>-0.530598</td>\n",
       "      <td>0.952550</td>\n",
       "      <td>0.005443</td>\n",
       "      <td>0.765474</td>\n",
       "    </tr>\n",
       "    <tr>\n",
       "      <th>two</th>\n",
       "      <td>1.224359</td>\n",
       "      <td>0.247148</td>\n",
       "      <td>-0.024585</td>\n",
       "      <td>1.172929</td>\n",
       "    </tr>\n",
       "    <tr>\n",
       "      <th rowspan=\"2\" valign=\"top\">foo</th>\n",
       "      <th>one</th>\n",
       "      <td>1.192576</td>\n",
       "      <td>0.045054</td>\n",
       "      <td>0.135321</td>\n",
       "      <td>1.357845</td>\n",
       "    </tr>\n",
       "    <tr>\n",
       "      <th>two</th>\n",
       "      <td>1.240415</td>\n",
       "      <td>-1.595178</td>\n",
       "      <td>0.940910</td>\n",
       "      <td>-1.898209</td>\n",
       "    </tr>\n",
       "    <tr>\n",
       "      <th rowspan=\"2\" valign=\"top\">qux</th>\n",
       "      <th>one</th>\n",
       "      <td>0.015723</td>\n",
       "      <td>0.510487</td>\n",
       "      <td>-0.291217</td>\n",
       "      <td>-0.099803</td>\n",
       "    </tr>\n",
       "    <tr>\n",
       "      <th>two</th>\n",
       "      <td>0.129531</td>\n",
       "      <td>-0.259850</td>\n",
       "      <td>0.619131</td>\n",
       "      <td>-0.275005</td>\n",
       "    </tr>\n",
       "  </tbody>\n",
       "</table>\n",
       "</div>"
      ],
      "text/plain": [
       "                0         1         2         3\n",
       "bar one  0.634739 -0.354264  0.942914 -1.334285\n",
       "    two -0.218423 -0.276980 -0.117450 -0.104719\n",
       "baz one -0.530598  0.952550  0.005443  0.765474\n",
       "    two  1.224359  0.247148 -0.024585  1.172929\n",
       "foo one  1.192576  0.045054  0.135321  1.357845\n",
       "    two  1.240415 -1.595178  0.940910 -1.898209\n",
       "qux one  0.015723  0.510487 -0.291217 -0.099803\n",
       "    two  0.129531 -0.259850  0.619131 -0.275005"
      ]
     },
     "execution_count": 73,
     "metadata": {},
     "output_type": "execute_result"
    }
   ],
   "source": [
    "arrays = [\n",
    "    np.array([\"bar\", \"bar\", \"baz\", \"baz\", \"foo\", \"foo\", \"qux\", \"qux\"]),\n",
    "    np.array([\"one\", \"two\", \"one\", \"two\", \"one\", \"two\", \"one\", \"two\"]),\n",
    "]\n",
    "s = pd.Series(np.random.randn(8), index=arrays)\n",
    "print(s)\n",
    "df = pd.DataFrame(np.random.randn(8, 4), index=arrays)\n",
    "df"
   ]
  },
  {
   "cell_type": "markdown",
   "id": "a4a3a314-7bee-4292-b918-4370948d39bc",
   "metadata": {},
   "source": [
    "对于 MultiIndex 的构造器，可以指定一个 `names` 的参数，若未指定则 `None`"
   ]
  },
  {
   "cell_type": "code",
   "execution_count": 74,
   "id": "12d6a200-930e-4313-8086-f6a7f458f25c",
   "metadata": {},
   "outputs": [
    {
     "data": {
      "text/plain": [
       "FrozenList([None, None])"
      ]
     },
     "execution_count": 74,
     "metadata": {},
     "output_type": "execute_result"
    }
   ],
   "source": [
    "df.index.names"
   ]
  },
  {
   "cell_type": "markdown",
   "id": "076ae432-7cb0-4161-b6cb-e44dac7d446a",
   "metadata": {},
   "source": [
    "索引可以支持 pandas 对象的任何轴（columns 也可以），层数由用户决定："
   ]
  },
  {
   "cell_type": "code",
   "execution_count": 75,
   "id": "43ae5a77-ffa7-438f-8080-06b67d19764f",
   "metadata": {},
   "outputs": [
    {
     "data": {
      "text/html": [
       "<div>\n",
       "<style scoped>\n",
       "    .dataframe tbody tr th:only-of-type {\n",
       "        vertical-align: middle;\n",
       "    }\n",
       "\n",
       "    .dataframe tbody tr th {\n",
       "        vertical-align: top;\n",
       "    }\n",
       "\n",
       "    .dataframe thead tr th {\n",
       "        text-align: left;\n",
       "    }\n",
       "</style>\n",
       "<table border=\"1\" class=\"dataframe\">\n",
       "  <thead>\n",
       "    <tr>\n",
       "      <th>first</th>\n",
       "      <th colspan=\"2\" halign=\"left\">bar</th>\n",
       "      <th colspan=\"2\" halign=\"left\">baz</th>\n",
       "      <th colspan=\"2\" halign=\"left\">foo</th>\n",
       "      <th colspan=\"2\" halign=\"left\">qux</th>\n",
       "    </tr>\n",
       "    <tr>\n",
       "      <th>second</th>\n",
       "      <th>one</th>\n",
       "      <th>two</th>\n",
       "      <th>one</th>\n",
       "      <th>two</th>\n",
       "      <th>one</th>\n",
       "      <th>two</th>\n",
       "      <th>one</th>\n",
       "      <th>two</th>\n",
       "    </tr>\n",
       "  </thead>\n",
       "  <tbody>\n",
       "    <tr>\n",
       "      <th>A</th>\n",
       "      <td>0.515448</td>\n",
       "      <td>-0.700512</td>\n",
       "      <td>0.301299</td>\n",
       "      <td>0.198850</td>\n",
       "      <td>0.017231</td>\n",
       "      <td>-0.773707</td>\n",
       "      <td>0.644001</td>\n",
       "      <td>0.388935</td>\n",
       "    </tr>\n",
       "    <tr>\n",
       "      <th>B</th>\n",
       "      <td>0.545639</td>\n",
       "      <td>1.085241</td>\n",
       "      <td>0.742409</td>\n",
       "      <td>0.351462</td>\n",
       "      <td>0.566660</td>\n",
       "      <td>-2.775674</td>\n",
       "      <td>1.034946</td>\n",
       "      <td>-0.329437</td>\n",
       "    </tr>\n",
       "    <tr>\n",
       "      <th>C</th>\n",
       "      <td>0.929922</td>\n",
       "      <td>-0.427700</td>\n",
       "      <td>-0.623823</td>\n",
       "      <td>-0.060027</td>\n",
       "      <td>-0.878089</td>\n",
       "      <td>0.116556</td>\n",
       "      <td>-0.758981</td>\n",
       "      <td>-0.794328</td>\n",
       "    </tr>\n",
       "  </tbody>\n",
       "</table>\n",
       "</div>"
      ],
      "text/plain": [
       "first        bar                 baz                 foo                 qux  \\\n",
       "second       one       two       one       two       one       two       one   \n",
       "A       0.515448 -0.700512  0.301299  0.198850  0.017231 -0.773707  0.644001   \n",
       "B       0.545639  1.085241  0.742409  0.351462  0.566660 -2.775674  1.034946   \n",
       "C       0.929922 -0.427700 -0.623823 -0.060027 -0.878089  0.116556 -0.758981   \n",
       "\n",
       "first             \n",
       "second       two  \n",
       "A       0.388935  \n",
       "B      -0.329437  \n",
       "C      -0.794328  "
      ]
     },
     "execution_count": 75,
     "metadata": {},
     "output_type": "execute_result"
    }
   ],
   "source": [
    "df = pd.DataFrame(np.random.randn(3, 8), index=[\"A\", \"B\", \"C\"], columns=index)\n",
    "\n",
    "df"
   ]
  },
  {
   "cell_type": "markdown",
   "id": "432aab87-a713-47d7-8fb1-c7d12d38cb7d",
   "metadata": {},
   "source": [
    "## 重塑层级 labels\n",
    "`get_level_values(n)`会返回一个包含 `MultiIndex` 变量每个位置的第 `n` 层级索引值的列表"
   ]
  },
  {
   "cell_type": "code",
   "execution_count": 76,
   "id": "09f5c6ac-20ff-4423-b0dc-af29b5dc1ffa",
   "metadata": {},
   "outputs": [
    {
     "name": "stdout",
     "output_type": "stream",
     "text": [
      "MultiIndex([('bar', 'one'),\n",
      "            ('bar', 'two'),\n",
      "            ('baz', 'one'),\n",
      "            ('baz', 'two'),\n",
      "            ('foo', 'one'),\n",
      "            ('foo', 'two'),\n",
      "            ('qux', 'one'),\n",
      "            ('qux', 'two')],\n",
      "           names=['first', 'second'])\n"
     ]
    },
    {
     "data": {
      "text/plain": [
       "Index(['bar', 'bar', 'baz', 'baz', 'foo', 'foo', 'qux', 'qux'], dtype='object', name='first')"
      ]
     },
     "execution_count": 76,
     "metadata": {},
     "output_type": "execute_result"
    }
   ],
   "source": [
    "print(index)\n",
    "index.get_level_values(0)"
   ]
  },
  {
   "cell_type": "code",
   "execution_count": 77,
   "id": "94f79680-5393-4c39-ba0a-a855a7efeaf5",
   "metadata": {},
   "outputs": [
    {
     "data": {
      "text/plain": [
       "Index(['one', 'two', 'one', 'two', 'one', 'two', 'one', 'two'], dtype='object', name='second')"
      ]
     },
     "execution_count": 77,
     "metadata": {},
     "output_type": "execute_result"
    }
   ],
   "source": [
    "index.get_level_values('second')"
   ]
  },
  {
   "cell_type": "markdown",
   "id": "d9d18963-634f-480a-b662-aa6c08020073",
   "metadata": {},
   "source": [
    "## 使用 MultiIndex 进行基础的索引\n",
    "可以根据**一部分**的 label 进行识别数据的一个 subgroup："
   ]
  },
  {
   "cell_type": "code",
   "execution_count": 78,
   "id": "2f1ffc7e-e849-4959-8a57-cf53b598cfe1",
   "metadata": {},
   "outputs": [
    {
     "name": "stdout",
     "output_type": "stream",
     "text": [
      "first        bar                 baz                 foo                 qux  \\\n",
      "second       one       two       one       two       one       two       one   \n",
      "A       0.515448 -0.700512  0.301299  0.198850  0.017231 -0.773707  0.644001   \n",
      "B       0.545639  1.085241  0.742409  0.351462  0.566660 -2.775674  1.034946   \n",
      "C       0.929922 -0.427700 -0.623823 -0.060027 -0.878089  0.116556 -0.758981   \n",
      "\n",
      "first             \n",
      "second       two  \n",
      "A       0.388935  \n",
      "B      -0.329437  \n",
      "C      -0.794328  \n"
     ]
    },
    {
     "data": {
      "text/html": [
       "<div>\n",
       "<style scoped>\n",
       "    .dataframe tbody tr th:only-of-type {\n",
       "        vertical-align: middle;\n",
       "    }\n",
       "\n",
       "    .dataframe tbody tr th {\n",
       "        vertical-align: top;\n",
       "    }\n",
       "\n",
       "    .dataframe thead th {\n",
       "        text-align: right;\n",
       "    }\n",
       "</style>\n",
       "<table border=\"1\" class=\"dataframe\">\n",
       "  <thead>\n",
       "    <tr style=\"text-align: right;\">\n",
       "      <th>second</th>\n",
       "      <th>one</th>\n",
       "      <th>two</th>\n",
       "    </tr>\n",
       "  </thead>\n",
       "  <tbody>\n",
       "    <tr>\n",
       "      <th>A</th>\n",
       "      <td>0.515448</td>\n",
       "      <td>-0.700512</td>\n",
       "    </tr>\n",
       "    <tr>\n",
       "      <th>B</th>\n",
       "      <td>0.545639</td>\n",
       "      <td>1.085241</td>\n",
       "    </tr>\n",
       "    <tr>\n",
       "      <th>C</th>\n",
       "      <td>0.929922</td>\n",
       "      <td>-0.427700</td>\n",
       "    </tr>\n",
       "  </tbody>\n",
       "</table>\n",
       "</div>"
      ],
      "text/plain": [
       "second       one       two\n",
       "A       0.515448 -0.700512\n",
       "B       0.545639  1.085241\n",
       "C       0.929922 -0.427700"
      ]
     },
     "execution_count": 78,
     "metadata": {},
     "output_type": "execute_result"
    }
   ],
   "source": [
    "print(df)\n",
    "df['bar']"
   ]
  },
  {
   "cell_type": "code",
   "execution_count": 79,
   "id": "76376349-c781-4e0e-8daf-ab883db1676d",
   "metadata": {},
   "outputs": [
    {
     "data": {
      "text/plain": [
       "A    0.515448\n",
       "B    0.545639\n",
       "C    0.929922\n",
       "Name: (bar, one), dtype: float64"
      ]
     },
     "execution_count": 79,
     "metadata": {},
     "output_type": "execute_result"
    }
   ],
   "source": [
    "df['bar', 'one'] # 是一个 Series\n",
    "# type(df['bar', 'one'])"
   ]
  },
  {
   "cell_type": "code",
   "execution_count": 80,
   "id": "fc8606c5-1702-452f-b39c-d80a98efde2f",
   "metadata": {},
   "outputs": [
    {
     "data": {
      "text/plain": [
       "A    0.515448\n",
       "B    0.545639\n",
       "C    0.929922\n",
       "Name: one, dtype: float64"
      ]
     },
     "execution_count": 80,
     "metadata": {},
     "output_type": "execute_result"
    }
   ],
   "source": [
    "df['bar']['one'] # 相当于从第一层选 'bar' 后生成的 DF 再从该 DF 中选择 'one'"
   ]
  },
  {
   "cell_type": "code",
   "execution_count": 81,
   "id": "8cfa668e-d1f3-41fd-87e5-31bcfc6b61c3",
   "metadata": {},
   "outputs": [
    {
     "name": "stdout",
     "output_type": "stream",
     "text": [
      "bar  one    1.789862\n",
      "     two    0.752315\n",
      "baz  one   -0.493914\n",
      "     two   -1.050850\n",
      "foo  one   -0.072212\n",
      "     two    0.715477\n",
      "qux  one   -0.367162\n",
      "     two    0.781413\n",
      "dtype: float64\n"
     ]
    },
    {
     "data": {
      "text/plain": [
       "one   -0.367162\n",
       "two    0.781413\n",
       "dtype: float64"
      ]
     },
     "execution_count": 81,
     "metadata": {},
     "output_type": "execute_result"
    }
   ],
   "source": [
    "print(s)\n",
    "s['qux']"
   ]
  },
  {
   "cell_type": "markdown",
   "id": "34721eb4-d692-44d1-8a4e-171fec53cf3d",
   "metadata": {},
   "source": [
    "## 定义 levels （索引层级）\n",
    "`MultiIndex` 会保留所有索引的所有定义的 levels，尽管他们可能没被使用，比如："
   ]
  },
  {
   "cell_type": "code",
   "execution_count": 82,
   "id": "fe3dfdb9-7fec-44e7-9914-32c6aedf9f20",
   "metadata": {},
   "outputs": [
    {
     "name": "stdout",
     "output_type": "stream",
     "text": [
      "first        bar                 baz                 foo                 qux  \\\n",
      "second       one       two       one       two       one       two       one   \n",
      "A       0.515448 -0.700512  0.301299  0.198850  0.017231 -0.773707  0.644001   \n",
      "B       0.545639  1.085241  0.742409  0.351462  0.566660 -2.775674  1.034946   \n",
      "C       0.929922 -0.427700 -0.623823 -0.060027 -0.878089  0.116556 -0.758981   \n",
      "\n",
      "first             \n",
      "second       two  \n",
      "A       0.388935  \n",
      "B      -0.329437  \n",
      "C      -0.794328  \n",
      "\n",
      " [['bar', 'baz', 'foo', 'qux'], ['one', 'two']]\n",
      "\n",
      " first        foo                 qux          \n",
      "second       one       two       one       two\n",
      "A       0.017231 -0.773707  0.644001  0.388935\n",
      "B       0.566660 -2.775674  1.034946 -0.329437\n",
      "C      -0.878089  0.116556 -0.758981 -0.794328 \n",
      "\n"
     ]
    },
    {
     "data": {
      "text/plain": [
       "FrozenList([['bar', 'baz', 'foo', 'qux'], ['one', 'two']])"
      ]
     },
     "execution_count": 82,
     "metadata": {},
     "output_type": "execute_result"
    }
   ],
   "source": [
    "print(df)\n",
    "print('\\n', df.columns.levels) # 原始的 MultiIndex\n",
    "\n",
    "print('\\n', df[['foo', 'qux']], '\\n')\n",
    "df[['foo', 'qux']].columns.levels # 经过切片，发现两者是一样的，尽管切片后已经不存在 bar 和 baz"
   ]
  },
  {
   "cell_type": "markdown",
   "id": "13abc9a4-8c92-41b4-a257-96ac3881fd30",
   "metadata": {},
   "source": [
    "这么做是为了避免 levels 的重复计算来获取更高的性能，如果只想要得到使用的 levels 则使用 `get_level_values()`"
   ]
  },
  {
   "cell_type": "code",
   "execution_count": 83,
   "id": "8cc7d53c-309f-40f4-a688-16f5148a60cd",
   "metadata": {},
   "outputs": [
    {
     "data": {
      "text/plain": [
       "array([('foo', 'one'), ('foo', 'two'), ('qux', 'one'), ('qux', 'two')],\n",
       "      dtype=object)"
      ]
     },
     "execution_count": 83,
     "metadata": {},
     "output_type": "execute_result"
    }
   ],
   "source": [
    "df[[\"foo\", \"qux\"]].columns.to_numpy()"
   ]
  },
  {
   "cell_type": "code",
   "execution_count": 84,
   "id": "2ae7bd3a-aa33-49c4-a4ba-32e8722e2228",
   "metadata": {},
   "outputs": [
    {
     "data": {
      "text/plain": [
       "Index(['foo', 'foo', 'qux', 'qux'], dtype='object', name='first')"
      ]
     },
     "execution_count": 84,
     "metadata": {},
     "output_type": "execute_result"
    }
   ],
   "source": [
    "df[[\"foo\", \"qux\"]].columns.get_level_values(0)"
   ]
  },
  {
   "cell_type": "markdown",
   "id": "0cf8b173-6372-4422-a27e-39c1de4bbb63",
   "metadata": {},
   "source": [
    "如果想要**重塑** `MultiINdex`，使其只包含已使用的 levels，则使用 `remove_unused_levels()`："
   ]
  },
  {
   "cell_type": "code",
   "execution_count": 85,
   "id": "7d2f5eca-5105-46ba-9087-b04b8b1e060e",
   "metadata": {},
   "outputs": [
    {
     "data": {
      "text/plain": [
       "FrozenList([['foo', 'qux'], ['one', 'two']])"
      ]
     },
     "execution_count": 85,
     "metadata": {},
     "output_type": "execute_result"
    }
   ],
   "source": [
    "new_mi = df[[\"foo\", \"qux\"]].columns.remove_unused_levels()\n",
    "\n",
    "new_mi.levels"
   ]
  },
  {
   "cell_type": "markdown",
   "id": "84f03309-844e-4653-bc9a-67fa4f85fe42",
   "metadata": {},
   "source": [
    "## Cross-Section 交叉区域\n",
    "`DataFrame` 的 `xs()` 方法接收一个层级的参数并选择在某个特定层级的数据："
   ]
  },
  {
   "cell_type": "code",
   "execution_count": 86,
   "id": "f0f128c5-428c-4552-a6ab-289cc6883eb7",
   "metadata": {},
   "outputs": [
    {
     "name": "stdout",
     "output_type": "stream",
     "text": [
      "first        bar                 baz                 foo                 qux  \\\n",
      "second       one       two       one       two       one       two       one   \n",
      "A       0.515448 -0.700512  0.301299  0.198850  0.017231 -0.773707  0.644001   \n",
      "B       0.545639  1.085241  0.742409  0.351462  0.566660 -2.775674  1.034946   \n",
      "C       0.929922 -0.427700 -0.623823 -0.060027 -0.878089  0.116556 -0.758981   \n",
      "\n",
      "first             \n",
      "second       two  \n",
      "A       0.388935  \n",
      "B      -0.329437  \n",
      "C      -0.794328  \n"
     ]
    },
    {
     "data": {
      "text/html": [
       "<div>\n",
       "<style scoped>\n",
       "    .dataframe tbody tr th:only-of-type {\n",
       "        vertical-align: middle;\n",
       "    }\n",
       "\n",
       "    .dataframe tbody tr th {\n",
       "        vertical-align: top;\n",
       "    }\n",
       "\n",
       "    .dataframe thead th {\n",
       "        text-align: right;\n",
       "    }\n",
       "</style>\n",
       "<table border=\"1\" class=\"dataframe\">\n",
       "  <thead>\n",
       "    <tr style=\"text-align: right;\">\n",
       "      <th></th>\n",
       "      <th></th>\n",
       "      <th>A</th>\n",
       "      <th>B</th>\n",
       "      <th>C</th>\n",
       "    </tr>\n",
       "    <tr>\n",
       "      <th>first</th>\n",
       "      <th>second</th>\n",
       "      <th></th>\n",
       "      <th></th>\n",
       "      <th></th>\n",
       "    </tr>\n",
       "  </thead>\n",
       "  <tbody>\n",
       "    <tr>\n",
       "      <th rowspan=\"2\" valign=\"top\">bar</th>\n",
       "      <th>one</th>\n",
       "      <td>0.515448</td>\n",
       "      <td>0.545639</td>\n",
       "      <td>0.929922</td>\n",
       "    </tr>\n",
       "    <tr>\n",
       "      <th>two</th>\n",
       "      <td>-0.700512</td>\n",
       "      <td>1.085241</td>\n",
       "      <td>-0.427700</td>\n",
       "    </tr>\n",
       "    <tr>\n",
       "      <th rowspan=\"2\" valign=\"top\">baz</th>\n",
       "      <th>one</th>\n",
       "      <td>0.301299</td>\n",
       "      <td>0.742409</td>\n",
       "      <td>-0.623823</td>\n",
       "    </tr>\n",
       "    <tr>\n",
       "      <th>two</th>\n",
       "      <td>0.198850</td>\n",
       "      <td>0.351462</td>\n",
       "      <td>-0.060027</td>\n",
       "    </tr>\n",
       "    <tr>\n",
       "      <th rowspan=\"2\" valign=\"top\">foo</th>\n",
       "      <th>one</th>\n",
       "      <td>0.017231</td>\n",
       "      <td>0.566660</td>\n",
       "      <td>-0.878089</td>\n",
       "    </tr>\n",
       "    <tr>\n",
       "      <th>two</th>\n",
       "      <td>-0.773707</td>\n",
       "      <td>-2.775674</td>\n",
       "      <td>0.116556</td>\n",
       "    </tr>\n",
       "    <tr>\n",
       "      <th rowspan=\"2\" valign=\"top\">qux</th>\n",
       "      <th>one</th>\n",
       "      <td>0.644001</td>\n",
       "      <td>1.034946</td>\n",
       "      <td>-0.758981</td>\n",
       "    </tr>\n",
       "    <tr>\n",
       "      <th>two</th>\n",
       "      <td>0.388935</td>\n",
       "      <td>-0.329437</td>\n",
       "      <td>-0.794328</td>\n",
       "    </tr>\n",
       "  </tbody>\n",
       "</table>\n",
       "</div>"
      ],
      "text/plain": [
       "                     A         B         C\n",
       "first second                              \n",
       "bar   one     0.515448  0.545639  0.929922\n",
       "      two    -0.700512  1.085241 -0.427700\n",
       "baz   one     0.301299  0.742409 -0.623823\n",
       "      two     0.198850  0.351462 -0.060027\n",
       "foo   one     0.017231  0.566660 -0.878089\n",
       "      two    -0.773707 -2.775674  0.116556\n",
       "qux   one     0.644001  1.034946 -0.758981\n",
       "      two     0.388935 -0.329437 -0.794328"
      ]
     },
     "execution_count": 86,
     "metadata": {},
     "output_type": "execute_result"
    }
   ],
   "source": [
    "# 将 df 转置一下\n",
    "print(df)\n",
    "df = df.T\n",
    "df"
   ]
  },
  {
   "cell_type": "code",
   "execution_count": 87,
   "id": "cd7f7217-a64b-4884-ba48-7cbbaf3fbff9",
   "metadata": {},
   "outputs": [
    {
     "data": {
      "text/html": [
       "<div>\n",
       "<style scoped>\n",
       "    .dataframe tbody tr th:only-of-type {\n",
       "        vertical-align: middle;\n",
       "    }\n",
       "\n",
       "    .dataframe tbody tr th {\n",
       "        vertical-align: top;\n",
       "    }\n",
       "\n",
       "    .dataframe thead th {\n",
       "        text-align: right;\n",
       "    }\n",
       "</style>\n",
       "<table border=\"1\" class=\"dataframe\">\n",
       "  <thead>\n",
       "    <tr style=\"text-align: right;\">\n",
       "      <th></th>\n",
       "      <th>A</th>\n",
       "      <th>B</th>\n",
       "      <th>C</th>\n",
       "    </tr>\n",
       "    <tr>\n",
       "      <th>first</th>\n",
       "      <th></th>\n",
       "      <th></th>\n",
       "      <th></th>\n",
       "    </tr>\n",
       "  </thead>\n",
       "  <tbody>\n",
       "    <tr>\n",
       "      <th>bar</th>\n",
       "      <td>0.515448</td>\n",
       "      <td>0.545639</td>\n",
       "      <td>0.929922</td>\n",
       "    </tr>\n",
       "    <tr>\n",
       "      <th>baz</th>\n",
       "      <td>0.301299</td>\n",
       "      <td>0.742409</td>\n",
       "      <td>-0.623823</td>\n",
       "    </tr>\n",
       "    <tr>\n",
       "      <th>foo</th>\n",
       "      <td>0.017231</td>\n",
       "      <td>0.566660</td>\n",
       "      <td>-0.878089</td>\n",
       "    </tr>\n",
       "    <tr>\n",
       "      <th>qux</th>\n",
       "      <td>0.644001</td>\n",
       "      <td>1.034946</td>\n",
       "      <td>-0.758981</td>\n",
       "    </tr>\n",
       "  </tbody>\n",
       "</table>\n",
       "</div>"
      ],
      "text/plain": [
       "              A         B         C\n",
       "first                              \n",
       "bar    0.515448  0.545639  0.929922\n",
       "baz    0.301299  0.742409 -0.623823\n",
       "foo    0.017231  0.566660 -0.878089\n",
       "qux    0.644001  1.034946 -0.758981"
      ]
     },
     "execution_count": 87,
     "metadata": {},
     "output_type": "execute_result"
    }
   ],
   "source": [
    "df.xs(\"one\", level=\"second\")"
   ]
  },
  {
   "cell_type": "markdown",
   "id": "f8b8a525-351c-4ed9-a269-9a89c92ec543",
   "metadata": {},
   "source": [
    "同时也可以通过 `xs` 选择 columns，将 `axis` 设置为 1"
   ]
  },
  {
   "cell_type": "code",
   "execution_count": 88,
   "id": "cf8ca28f-ec7a-4879-b45c-b2750ab2dccf",
   "metadata": {},
   "outputs": [
    {
     "name": "stdout",
     "output_type": "stream",
     "text": [
      "first        bar                 baz                 foo                 qux  \\\n",
      "second       one       two       one       two       one       two       one   \n",
      "A       0.515448 -0.700512  0.301299  0.198850  0.017231 -0.773707  0.644001   \n",
      "B       0.545639  1.085241  0.742409  0.351462  0.566660 -2.775674  1.034946   \n",
      "C       0.929922 -0.427700 -0.623823 -0.060027 -0.878089  0.116556 -0.758981   \n",
      "\n",
      "first             \n",
      "second       two  \n",
      "A       0.388935  \n",
      "B      -0.329437  \n",
      "C      -0.794328  \n"
     ]
    },
    {
     "data": {
      "text/html": [
       "<div>\n",
       "<style scoped>\n",
       "    .dataframe tbody tr th:only-of-type {\n",
       "        vertical-align: middle;\n",
       "    }\n",
       "\n",
       "    .dataframe tbody tr th {\n",
       "        vertical-align: top;\n",
       "    }\n",
       "\n",
       "    .dataframe thead th {\n",
       "        text-align: right;\n",
       "    }\n",
       "</style>\n",
       "<table border=\"1\" class=\"dataframe\">\n",
       "  <thead>\n",
       "    <tr style=\"text-align: right;\">\n",
       "      <th>first</th>\n",
       "      <th>bar</th>\n",
       "      <th>baz</th>\n",
       "      <th>foo</th>\n",
       "      <th>qux</th>\n",
       "    </tr>\n",
       "  </thead>\n",
       "  <tbody>\n",
       "    <tr>\n",
       "      <th>A</th>\n",
       "      <td>0.515448</td>\n",
       "      <td>0.301299</td>\n",
       "      <td>0.017231</td>\n",
       "      <td>0.644001</td>\n",
       "    </tr>\n",
       "    <tr>\n",
       "      <th>B</th>\n",
       "      <td>0.545639</td>\n",
       "      <td>0.742409</td>\n",
       "      <td>0.566660</td>\n",
       "      <td>1.034946</td>\n",
       "    </tr>\n",
       "    <tr>\n",
       "      <th>C</th>\n",
       "      <td>0.929922</td>\n",
       "      <td>-0.623823</td>\n",
       "      <td>-0.878089</td>\n",
       "      <td>-0.758981</td>\n",
       "    </tr>\n",
       "  </tbody>\n",
       "</table>\n",
       "</div>"
      ],
      "text/plain": [
       "first       bar       baz       foo       qux\n",
       "A      0.515448  0.301299  0.017231  0.644001\n",
       "B      0.545639  0.742409  0.566660  1.034946\n",
       "C      0.929922 -0.623823 -0.878089 -0.758981"
      ]
     },
     "execution_count": 88,
     "metadata": {},
     "output_type": "execute_result"
    }
   ],
   "source": [
    "df = df.T\n",
    "print(df)\n",
    "df.xs('one', level='second', axis=1)"
   ]
  },
  {
   "cell_type": "markdown",
   "id": "8eb76ce0-0ba0-4631-bcbf-69a26fda6d5f",
   "metadata": {},
   "source": [
    "`xs` 也可以使用多个 key 来进行选择："
   ]
  },
  {
   "cell_type": "code",
   "execution_count": 89,
   "id": "d695cf5c-3338-408a-9543-65674fb362e8",
   "metadata": {},
   "outputs": [
    {
     "data": {
      "text/html": [
       "<div>\n",
       "<style scoped>\n",
       "    .dataframe tbody tr th:only-of-type {\n",
       "        vertical-align: middle;\n",
       "    }\n",
       "\n",
       "    .dataframe tbody tr th {\n",
       "        vertical-align: top;\n",
       "    }\n",
       "\n",
       "    .dataframe thead tr th {\n",
       "        text-align: left;\n",
       "    }\n",
       "</style>\n",
       "<table border=\"1\" class=\"dataframe\">\n",
       "  <thead>\n",
       "    <tr>\n",
       "      <th>first</th>\n",
       "      <th>bar</th>\n",
       "    </tr>\n",
       "    <tr>\n",
       "      <th>second</th>\n",
       "      <th>one</th>\n",
       "    </tr>\n",
       "  </thead>\n",
       "  <tbody>\n",
       "    <tr>\n",
       "      <th>A</th>\n",
       "      <td>0.515448</td>\n",
       "    </tr>\n",
       "    <tr>\n",
       "      <th>B</th>\n",
       "      <td>0.545639</td>\n",
       "    </tr>\n",
       "    <tr>\n",
       "      <th>C</th>\n",
       "      <td>0.929922</td>\n",
       "    </tr>\n",
       "  </tbody>\n",
       "</table>\n",
       "</div>"
      ],
      "text/plain": [
       "first        bar\n",
       "second       one\n",
       "A       0.515448\n",
       "B       0.545639\n",
       "C       0.929922"
      ]
     },
     "execution_count": 89,
     "metadata": {},
     "output_type": "execute_result"
    }
   ],
   "source": [
    "df.xs((\"one\", \"bar\"), level=(\"second\", \"first\"), axis=1)"
   ]
  },
  {
   "cell_type": "markdown",
   "id": "ea1184bd-94ab-4d95-8dda-a1b97de292c6",
   "metadata": {},
   "source": [
    "`drop_level=True` 是默认的，即 `xs` 选择的 level 的值会被忽略，如果像保留则设置为 `False`："
   ]
  },
  {
   "cell_type": "code",
   "execution_count": 90,
   "id": "a04034be-3157-44da-9f7d-a2cdcc71cabd",
   "metadata": {},
   "outputs": [
    {
     "data": {
      "text/html": [
       "<div>\n",
       "<style scoped>\n",
       "    .dataframe tbody tr th:only-of-type {\n",
       "        vertical-align: middle;\n",
       "    }\n",
       "\n",
       "    .dataframe tbody tr th {\n",
       "        vertical-align: top;\n",
       "    }\n",
       "\n",
       "    .dataframe thead tr th {\n",
       "        text-align: left;\n",
       "    }\n",
       "</style>\n",
       "<table border=\"1\" class=\"dataframe\">\n",
       "  <thead>\n",
       "    <tr>\n",
       "      <th>first</th>\n",
       "      <th>bar</th>\n",
       "      <th>baz</th>\n",
       "      <th>foo</th>\n",
       "      <th>qux</th>\n",
       "    </tr>\n",
       "    <tr>\n",
       "      <th>second</th>\n",
       "      <th>one</th>\n",
       "      <th>one</th>\n",
       "      <th>one</th>\n",
       "      <th>one</th>\n",
       "    </tr>\n",
       "  </thead>\n",
       "  <tbody>\n",
       "    <tr>\n",
       "      <th>A</th>\n",
       "      <td>0.515448</td>\n",
       "      <td>0.301299</td>\n",
       "      <td>0.017231</td>\n",
       "      <td>0.644001</td>\n",
       "    </tr>\n",
       "    <tr>\n",
       "      <th>B</th>\n",
       "      <td>0.545639</td>\n",
       "      <td>0.742409</td>\n",
       "      <td>0.566660</td>\n",
       "      <td>1.034946</td>\n",
       "    </tr>\n",
       "    <tr>\n",
       "      <th>C</th>\n",
       "      <td>0.929922</td>\n",
       "      <td>-0.623823</td>\n",
       "      <td>-0.878089</td>\n",
       "      <td>-0.758981</td>\n",
       "    </tr>\n",
       "  </tbody>\n",
       "</table>\n",
       "</div>"
      ],
      "text/plain": [
       "first        bar       baz       foo       qux\n",
       "second       one       one       one       one\n",
       "A       0.515448  0.301299  0.017231  0.644001\n",
       "B       0.545639  0.742409  0.566660  1.034946\n",
       "C       0.929922 -0.623823 -0.878089 -0.758981"
      ]
     },
     "execution_count": 90,
     "metadata": {},
     "output_type": "execute_result"
    }
   ],
   "source": [
    "df.xs('one', level='second', axis=1, drop_level=False)"
   ]
  },
  {
   "cell_type": "markdown",
   "id": "1983e77d-21cb-401c-b3d0-eeab5671e95d",
   "metadata": {},
   "source": [
    "## 通过 `swaplevel` 来交换层级"
   ]
  },
  {
   "cell_type": "code",
   "execution_count": 91,
   "id": "b445d8ad-ee6c-49aa-aaf2-bfea1cdc2e20",
   "metadata": {},
   "outputs": [
    {
     "data": {
      "text/html": [
       "<div>\n",
       "<style scoped>\n",
       "    .dataframe tbody tr th:only-of-type {\n",
       "        vertical-align: middle;\n",
       "    }\n",
       "\n",
       "    .dataframe tbody tr th {\n",
       "        vertical-align: top;\n",
       "    }\n",
       "\n",
       "    .dataframe thead th {\n",
       "        text-align: right;\n",
       "    }\n",
       "</style>\n",
       "<table border=\"1\" class=\"dataframe\">\n",
       "  <thead>\n",
       "    <tr style=\"text-align: right;\">\n",
       "      <th></th>\n",
       "      <th></th>\n",
       "      <th>A</th>\n",
       "      <th>B</th>\n",
       "      <th>C</th>\n",
       "    </tr>\n",
       "    <tr>\n",
       "      <th>first</th>\n",
       "      <th>second</th>\n",
       "      <th></th>\n",
       "      <th></th>\n",
       "      <th></th>\n",
       "    </tr>\n",
       "  </thead>\n",
       "  <tbody>\n",
       "    <tr>\n",
       "      <th rowspan=\"2\" valign=\"top\">bar</th>\n",
       "      <th>one</th>\n",
       "      <td>0.515448</td>\n",
       "      <td>0.545639</td>\n",
       "      <td>0.929922</td>\n",
       "    </tr>\n",
       "    <tr>\n",
       "      <th>two</th>\n",
       "      <td>-0.700512</td>\n",
       "      <td>1.085241</td>\n",
       "      <td>-0.427700</td>\n",
       "    </tr>\n",
       "    <tr>\n",
       "      <th rowspan=\"2\" valign=\"top\">baz</th>\n",
       "      <th>one</th>\n",
       "      <td>0.301299</td>\n",
       "      <td>0.742409</td>\n",
       "      <td>-0.623823</td>\n",
       "    </tr>\n",
       "    <tr>\n",
       "      <th>two</th>\n",
       "      <td>0.198850</td>\n",
       "      <td>0.351462</td>\n",
       "      <td>-0.060027</td>\n",
       "    </tr>\n",
       "    <tr>\n",
       "      <th>foo</th>\n",
       "      <th>one</th>\n",
       "      <td>0.017231</td>\n",
       "      <td>0.566660</td>\n",
       "      <td>-0.878089</td>\n",
       "    </tr>\n",
       "  </tbody>\n",
       "</table>\n",
       "</div>"
      ],
      "text/plain": [
       "                     A         B         C\n",
       "first second                              \n",
       "bar   one     0.515448  0.545639  0.929922\n",
       "      two    -0.700512  1.085241 -0.427700\n",
       "baz   one     0.301299  0.742409 -0.623823\n",
       "      two     0.198850  0.351462 -0.060027\n",
       "foo   one     0.017231  0.566660 -0.878089"
      ]
     },
     "execution_count": 91,
     "metadata": {},
     "output_type": "execute_result"
    }
   ],
   "source": [
    "df = df.T\n",
    "df[:5]"
   ]
  },
  {
   "cell_type": "code",
   "execution_count": 92,
   "id": "806222a1-c5b8-454b-8154-8bf165cd412c",
   "metadata": {},
   "outputs": [
    {
     "data": {
      "text/html": [
       "<div>\n",
       "<style scoped>\n",
       "    .dataframe tbody tr th:only-of-type {\n",
       "        vertical-align: middle;\n",
       "    }\n",
       "\n",
       "    .dataframe tbody tr th {\n",
       "        vertical-align: top;\n",
       "    }\n",
       "\n",
       "    .dataframe thead th {\n",
       "        text-align: right;\n",
       "    }\n",
       "</style>\n",
       "<table border=\"1\" class=\"dataframe\">\n",
       "  <thead>\n",
       "    <tr style=\"text-align: right;\">\n",
       "      <th></th>\n",
       "      <th></th>\n",
       "      <th>A</th>\n",
       "      <th>B</th>\n",
       "      <th>C</th>\n",
       "    </tr>\n",
       "    <tr>\n",
       "      <th>second</th>\n",
       "      <th>first</th>\n",
       "      <th></th>\n",
       "      <th></th>\n",
       "      <th></th>\n",
       "    </tr>\n",
       "  </thead>\n",
       "  <tbody>\n",
       "    <tr>\n",
       "      <th rowspan=\"3\" valign=\"top\">one</th>\n",
       "      <th>bar</th>\n",
       "      <td>0.515448</td>\n",
       "      <td>0.545639</td>\n",
       "      <td>0.929922</td>\n",
       "    </tr>\n",
       "    <tr>\n",
       "      <th>baz</th>\n",
       "      <td>0.301299</td>\n",
       "      <td>0.742409</td>\n",
       "      <td>-0.623823</td>\n",
       "    </tr>\n",
       "    <tr>\n",
       "      <th>foo</th>\n",
       "      <td>0.017231</td>\n",
       "      <td>0.566660</td>\n",
       "      <td>-0.878089</td>\n",
       "    </tr>\n",
       "    <tr>\n",
       "      <th rowspan=\"2\" valign=\"top\">two</th>\n",
       "      <th>bar</th>\n",
       "      <td>-0.700512</td>\n",
       "      <td>1.085241</td>\n",
       "      <td>-0.427700</td>\n",
       "    </tr>\n",
       "    <tr>\n",
       "      <th>baz</th>\n",
       "      <td>0.198850</td>\n",
       "      <td>0.351462</td>\n",
       "      <td>-0.060027</td>\n",
       "    </tr>\n",
       "  </tbody>\n",
       "</table>\n",
       "</div>"
      ],
      "text/plain": [
       "                     A         B         C\n",
       "second first                              \n",
       "one    bar    0.515448  0.545639  0.929922\n",
       "       baz    0.301299  0.742409 -0.623823\n",
       "       foo    0.017231  0.566660 -0.878089\n",
       "two    bar   -0.700512  1.085241 -0.427700\n",
       "       baz    0.198850  0.351462 -0.060027"
      ]
     },
     "execution_count": 92,
     "metadata": {},
     "output_type": "execute_result"
    }
   ],
   "source": [
    "df[:5].swaplevel(0, 1, axis=0).sort_index() # 可以根据 index 排序整合"
   ]
  },
  {
   "cell_type": "markdown",
   "id": "d553a63c-fa1d-4b50-b5a9-98a67e3bc7ce",
   "metadata": {},
   "source": [
    "## 通过 `reorder_levels` 进行 levels 的重排\n",
    "`reorder_levels()` 整合了 `swaplevel`，允许一步改变层级： "
   ]
  },
  {
   "cell_type": "code",
   "execution_count": 93,
   "id": "20ac6853-9130-49cb-9ca6-654504635e20",
   "metadata": {},
   "outputs": [
    {
     "data": {
      "text/html": [
       "<div>\n",
       "<style scoped>\n",
       "    .dataframe tbody tr th:only-of-type {\n",
       "        vertical-align: middle;\n",
       "    }\n",
       "\n",
       "    .dataframe tbody tr th {\n",
       "        vertical-align: top;\n",
       "    }\n",
       "\n",
       "    .dataframe thead th {\n",
       "        text-align: right;\n",
       "    }\n",
       "</style>\n",
       "<table border=\"1\" class=\"dataframe\">\n",
       "  <thead>\n",
       "    <tr style=\"text-align: right;\">\n",
       "      <th></th>\n",
       "      <th></th>\n",
       "      <th>A</th>\n",
       "      <th>B</th>\n",
       "      <th>C</th>\n",
       "    </tr>\n",
       "    <tr>\n",
       "      <th>second</th>\n",
       "      <th>first</th>\n",
       "      <th></th>\n",
       "      <th></th>\n",
       "      <th></th>\n",
       "    </tr>\n",
       "  </thead>\n",
       "  <tbody>\n",
       "    <tr>\n",
       "      <th>one</th>\n",
       "      <th>bar</th>\n",
       "      <td>0.515448</td>\n",
       "      <td>0.545639</td>\n",
       "      <td>0.929922</td>\n",
       "    </tr>\n",
       "    <tr>\n",
       "      <th>two</th>\n",
       "      <th>bar</th>\n",
       "      <td>-0.700512</td>\n",
       "      <td>1.085241</td>\n",
       "      <td>-0.427700</td>\n",
       "    </tr>\n",
       "    <tr>\n",
       "      <th>one</th>\n",
       "      <th>baz</th>\n",
       "      <td>0.301299</td>\n",
       "      <td>0.742409</td>\n",
       "      <td>-0.623823</td>\n",
       "    </tr>\n",
       "    <tr>\n",
       "      <th>two</th>\n",
       "      <th>baz</th>\n",
       "      <td>0.198850</td>\n",
       "      <td>0.351462</td>\n",
       "      <td>-0.060027</td>\n",
       "    </tr>\n",
       "    <tr>\n",
       "      <th>one</th>\n",
       "      <th>foo</th>\n",
       "      <td>0.017231</td>\n",
       "      <td>0.566660</td>\n",
       "      <td>-0.878089</td>\n",
       "    </tr>\n",
       "  </tbody>\n",
       "</table>\n",
       "</div>"
      ],
      "text/plain": [
       "                     A         B         C\n",
       "second first                              \n",
       "one    bar    0.515448  0.545639  0.929922\n",
       "two    bar   -0.700512  1.085241 -0.427700\n",
       "one    baz    0.301299  0.742409 -0.623823\n",
       "two    baz    0.198850  0.351462 -0.060027\n",
       "one    foo    0.017231  0.566660 -0.878089"
      ]
     },
     "execution_count": 93,
     "metadata": {},
     "output_type": "execute_result"
    }
   ],
   "source": [
    "df[:5].reorder_levels([1, 0], axis=0)"
   ]
  },
  {
   "cell_type": "markdown",
   "id": "d0d14ef5-75ae-4421-ba06-a4c269fa9ed1",
   "metadata": {},
   "source": [
    "## 根据 `MultiIndex` 来排序\n",
    "`sort_index()`"
   ]
  },
  {
   "cell_type": "code",
   "execution_count": 94,
   "id": "05438ddb-38b8-4359-8773-8b8f039c4f8e",
   "metadata": {},
   "outputs": [
    {
     "data": {
      "text/plain": [
       "[('bar', 'one'),\n",
       " ('bar', 'two'),\n",
       " ('baz', 'one'),\n",
       " ('baz', 'two'),\n",
       " ('foo', 'one'),\n",
       " ('foo', 'two'),\n",
       " ('qux', 'one'),\n",
       " ('qux', 'two')]"
      ]
     },
     "execution_count": 94,
     "metadata": {},
     "output_type": "execute_result"
    }
   ],
   "source": [
    "tuples"
   ]
  },
  {
   "cell_type": "code",
   "execution_count": 95,
   "id": "3c955ae8-2b65-4af2-a4cd-150cd075e9a7",
   "metadata": {},
   "outputs": [
    {
     "data": {
      "text/plain": [
       "foo  two    1.107549\n",
       "baz  two   -0.819354\n",
       "qux  two    0.374674\n",
       "baz  one   -1.467010\n",
       "bar  one    0.875600\n",
       "foo  one    1.460846\n",
       "qux  one    0.359124\n",
       "bar  two   -0.187946\n",
       "dtype: float64"
      ]
     },
     "execution_count": 95,
     "metadata": {},
     "output_type": "execute_result"
    }
   ],
   "source": [
    "import random\n",
    "random.shuffle(tuples) # 将元组打乱\n",
    "s = pd.Series(np.random.randn(8), index=pd.MultiIndex.from_tuples(tuples))\n",
    "s"
   ]
  },
  {
   "cell_type": "code",
   "execution_count": 96,
   "id": "dc4e40a3-6534-43a6-afd3-59d1207ccad0",
   "metadata": {},
   "outputs": [
    {
     "data": {
      "text/plain": [
       "bar  one    0.875600\n",
       "     two   -0.187946\n",
       "baz  one   -1.467010\n",
       "     two   -0.819354\n",
       "foo  one    1.460846\n",
       "     two    1.107549\n",
       "qux  one    0.359124\n",
       "     two    0.374674\n",
       "dtype: float64"
      ]
     },
     "execution_count": 96,
     "metadata": {},
     "output_type": "execute_result"
    }
   ],
   "source": [
    "s.sort_index()"
   ]
  },
  {
   "cell_type": "code",
   "execution_count": 97,
   "id": "fe1698b2-13be-465f-b325-9b5a320f3732",
   "metadata": {},
   "outputs": [
    {
     "data": {
      "text/plain": [
       "bar  one    0.875600\n",
       "     two   -0.187946\n",
       "baz  one   -1.467010\n",
       "     two   -0.819354\n",
       "foo  one    1.460846\n",
       "     two    1.107549\n",
       "qux  one    0.359124\n",
       "     two    0.374674\n",
       "dtype: float64"
      ]
     },
     "execution_count": 97,
     "metadata": {},
     "output_type": "execute_result"
    }
   ],
   "source": [
    "s.sort_index(level=0)"
   ]
  },
  {
   "cell_type": "code",
   "execution_count": 98,
   "id": "a6b0b481-023c-4c39-888c-20947516dd4b",
   "metadata": {},
   "outputs": [
    {
     "data": {
      "text/plain": [
       "bar  one    0.875600\n",
       "baz  one   -1.467010\n",
       "foo  one    1.460846\n",
       "qux  one    0.359124\n",
       "bar  two   -0.187946\n",
       "baz  two   -0.819354\n",
       "foo  two    1.107549\n",
       "qux  two    0.374674\n",
       "dtype: float64"
      ]
     },
     "execution_count": 98,
     "metadata": {},
     "output_type": "execute_result"
    }
   ],
   "source": [
    "s.sort_index(level=1)"
   ]
  },
  {
   "cell_type": "markdown",
   "id": "456c1800-68c5-4a43-a6dd-7579fdca4c8e",
   "metadata": {},
   "source": [
    "也可以使用 level 的名称排序:"
   ]
  },
  {
   "cell_type": "code",
   "execution_count": 99,
   "id": "3f933cdd-31cf-4a5e-9621-cf66cf41920f",
   "metadata": {},
   "outputs": [
    {
     "data": {
      "text/plain": [
       "L1   L2 \n",
       "bar  one    0.875600\n",
       "     two   -0.187946\n",
       "baz  one   -1.467010\n",
       "     two   -0.819354\n",
       "foo  one    1.460846\n",
       "     two    1.107549\n",
       "qux  one    0.359124\n",
       "     two    0.374674\n",
       "dtype: float64"
      ]
     },
     "execution_count": 99,
     "metadata": {},
     "output_type": "execute_result"
    }
   ],
   "source": [
    "s.index = s.index.set_names(['L1', 'L2'])\n",
    "s.sort_index(level='L1')"
   ]
  },
  {
   "cell_type": "markdown",
   "id": "843978d1-610f-4308-a7e0-8e0a7474e0f2",
   "metadata": {},
   "source": [
    "同样的，也可以排序 columns："
   ]
  },
  {
   "cell_type": "code",
   "execution_count": 100,
   "id": "13113ecf-e8b5-44fb-a664-7bac288aac4b",
   "metadata": {},
   "outputs": [
    {
     "name": "stdout",
     "output_type": "stream",
     "text": [
      "                     A         B         C\n",
      "first second                              \n",
      "bar   one     0.515448  0.545639  0.929922\n",
      "      two    -0.700512  1.085241 -0.427700\n",
      "baz   one     0.301299  0.742409 -0.623823\n",
      "      two     0.198850  0.351462 -0.060027\n",
      "foo   one     0.017231  0.566660 -0.878089\n",
      "      two    -0.773707 -2.775674  0.116556\n",
      "qux   one     0.644001  1.034946 -0.758981\n",
      "      two     0.388935 -0.329437 -0.794328\n"
     ]
    },
    {
     "data": {
      "text/html": [
       "<div>\n",
       "<style scoped>\n",
       "    .dataframe tbody tr th:only-of-type {\n",
       "        vertical-align: middle;\n",
       "    }\n",
       "\n",
       "    .dataframe tbody tr th {\n",
       "        vertical-align: top;\n",
       "    }\n",
       "\n",
       "    .dataframe thead tr th {\n",
       "        text-align: left;\n",
       "    }\n",
       "</style>\n",
       "<table border=\"1\" class=\"dataframe\">\n",
       "  <thead>\n",
       "    <tr>\n",
       "      <th>first</th>\n",
       "      <th colspan=\"2\" halign=\"left\">bar</th>\n",
       "      <th colspan=\"2\" halign=\"left\">baz</th>\n",
       "      <th colspan=\"2\" halign=\"left\">foo</th>\n",
       "      <th colspan=\"2\" halign=\"left\">qux</th>\n",
       "    </tr>\n",
       "    <tr>\n",
       "      <th>second</th>\n",
       "      <th>one</th>\n",
       "      <th>two</th>\n",
       "      <th>one</th>\n",
       "      <th>two</th>\n",
       "      <th>one</th>\n",
       "      <th>two</th>\n",
       "      <th>one</th>\n",
       "      <th>two</th>\n",
       "    </tr>\n",
       "  </thead>\n",
       "  <tbody>\n",
       "    <tr>\n",
       "      <th>A</th>\n",
       "      <td>0.515448</td>\n",
       "      <td>-0.700512</td>\n",
       "      <td>0.301299</td>\n",
       "      <td>0.198850</td>\n",
       "      <td>0.017231</td>\n",
       "      <td>-0.773707</td>\n",
       "      <td>0.644001</td>\n",
       "      <td>0.388935</td>\n",
       "    </tr>\n",
       "    <tr>\n",
       "      <th>B</th>\n",
       "      <td>0.545639</td>\n",
       "      <td>1.085241</td>\n",
       "      <td>0.742409</td>\n",
       "      <td>0.351462</td>\n",
       "      <td>0.566660</td>\n",
       "      <td>-2.775674</td>\n",
       "      <td>1.034946</td>\n",
       "      <td>-0.329437</td>\n",
       "    </tr>\n",
       "    <tr>\n",
       "      <th>C</th>\n",
       "      <td>0.929922</td>\n",
       "      <td>-0.427700</td>\n",
       "      <td>-0.623823</td>\n",
       "      <td>-0.060027</td>\n",
       "      <td>-0.878089</td>\n",
       "      <td>0.116556</td>\n",
       "      <td>-0.758981</td>\n",
       "      <td>-0.794328</td>\n",
       "    </tr>\n",
       "  </tbody>\n",
       "</table>\n",
       "</div>"
      ],
      "text/plain": [
       "first        bar                 baz                 foo                 qux  \\\n",
       "second       one       two       one       two       one       two       one   \n",
       "A       0.515448 -0.700512  0.301299  0.198850  0.017231 -0.773707  0.644001   \n",
       "B       0.545639  1.085241  0.742409  0.351462  0.566660 -2.775674  1.034946   \n",
       "C       0.929922 -0.427700 -0.623823 -0.060027 -0.878089  0.116556 -0.758981   \n",
       "\n",
       "first             \n",
       "second       two  \n",
       "A       0.388935  \n",
       "B      -0.329437  \n",
       "C      -0.794328  "
      ]
     },
     "execution_count": 100,
     "metadata": {},
     "output_type": "execute_result"
    }
   ],
   "source": [
    "print(df)\n",
    "df.T.sort_index(level='first', axis=1)"
   ]
  },
  {
   "attachments": {
    "03d8d240-69d2-4033-b78f-820c78e7d5e9.png": {
     "image/png": "[encoded data removed]"
    }
   },
   "cell_type": "markdown",
   "id": "c012811c-52a0-40bd-a3ed-78e0b9e75b45",
   "metadata": {},
   "source": [
    "# Reshaping 和 pivot tables（透视表）\n",
    "![image.png](attachment:03d8d240-69d2-4033-b78f-820c78e7d5e9.png)\n",
    "简单说就是让某个列（column）的取值变成行索引或列索引或值"
   ]
  },
  {
   "cell_type": "markdown",
   "id": "407b7b21-e3bf-47d6-8888-dddf87cd32a2",
   "metadata": {},
   "source": [
    "## `pivot()`"
   ]
  },
  {
   "cell_type": "code",
   "execution_count": 101,
   "id": "807bf8dc-6f10-4f86-a2d8-6fe6ae09a630",
   "metadata": {},
   "outputs": [
    {
     "data": {
      "text/html": [
       "<div>\n",
       "<style scoped>\n",
       "    .dataframe tbody tr th:only-of-type {\n",
       "        vertical-align: middle;\n",
       "    }\n",
       "\n",
       "    .dataframe tbody tr th {\n",
       "        vertical-align: top;\n",
       "    }\n",
       "\n",
       "    .dataframe thead th {\n",
       "        text-align: right;\n",
       "    }\n",
       "</style>\n",
       "<table border=\"1\" class=\"dataframe\">\n",
       "  <thead>\n",
       "    <tr style=\"text-align: right;\">\n",
       "      <th></th>\n",
       "      <th>value</th>\n",
       "      <th>variable</th>\n",
       "      <th>date</th>\n",
       "    </tr>\n",
       "  </thead>\n",
       "  <tbody>\n",
       "    <tr>\n",
       "      <th>0</th>\n",
       "      <td>0</td>\n",
       "      <td>A</td>\n",
       "      <td>2020-01-03</td>\n",
       "    </tr>\n",
       "    <tr>\n",
       "      <th>1</th>\n",
       "      <td>1</td>\n",
       "      <td>A</td>\n",
       "      <td>2020-01-04</td>\n",
       "    </tr>\n",
       "    <tr>\n",
       "      <th>2</th>\n",
       "      <td>2</td>\n",
       "      <td>A</td>\n",
       "      <td>2020-01-05</td>\n",
       "    </tr>\n",
       "    <tr>\n",
       "      <th>3</th>\n",
       "      <td>3</td>\n",
       "      <td>B</td>\n",
       "      <td>2020-01-03</td>\n",
       "    </tr>\n",
       "    <tr>\n",
       "      <th>4</th>\n",
       "      <td>4</td>\n",
       "      <td>B</td>\n",
       "      <td>2020-01-04</td>\n",
       "    </tr>\n",
       "    <tr>\n",
       "      <th>5</th>\n",
       "      <td>5</td>\n",
       "      <td>B</td>\n",
       "      <td>2020-01-05</td>\n",
       "    </tr>\n",
       "    <tr>\n",
       "      <th>6</th>\n",
       "      <td>6</td>\n",
       "      <td>C</td>\n",
       "      <td>2020-01-03</td>\n",
       "    </tr>\n",
       "    <tr>\n",
       "      <th>7</th>\n",
       "      <td>7</td>\n",
       "      <td>C</td>\n",
       "      <td>2020-01-04</td>\n",
       "    </tr>\n",
       "    <tr>\n",
       "      <th>8</th>\n",
       "      <td>8</td>\n",
       "      <td>C</td>\n",
       "      <td>2020-01-05</td>\n",
       "    </tr>\n",
       "    <tr>\n",
       "      <th>9</th>\n",
       "      <td>9</td>\n",
       "      <td>D</td>\n",
       "      <td>2020-01-03</td>\n",
       "    </tr>\n",
       "    <tr>\n",
       "      <th>10</th>\n",
       "      <td>10</td>\n",
       "      <td>D</td>\n",
       "      <td>2020-01-04</td>\n",
       "    </tr>\n",
       "    <tr>\n",
       "      <th>11</th>\n",
       "      <td>11</td>\n",
       "      <td>D</td>\n",
       "      <td>2020-01-05</td>\n",
       "    </tr>\n",
       "  </tbody>\n",
       "</table>\n",
       "</div>"
      ],
      "text/plain": [
       "    value variable       date\n",
       "0       0        A 2020-01-03\n",
       "1       1        A 2020-01-04\n",
       "2       2        A 2020-01-05\n",
       "3       3        B 2020-01-03\n",
       "4       4        B 2020-01-04\n",
       "5       5        B 2020-01-05\n",
       "6       6        C 2020-01-03\n",
       "7       7        C 2020-01-04\n",
       "8       8        C 2020-01-05\n",
       "9       9        D 2020-01-03\n",
       "10     10        D 2020-01-04\n",
       "11     11        D 2020-01-05"
      ]
     },
     "execution_count": 101,
     "metadata": {},
     "output_type": "execute_result"
    }
   ],
   "source": [
    "data = {\n",
    "   \"value\": range(12),\n",
    "   \"variable\": [\"A\"] * 3 + [\"B\"] * 3 + [\"C\"] * 3 + [\"D\"] * 3,\n",
    "   \"date\": pd.to_datetime([\"2020-01-03\", \"2020-01-04\", \"2020-01-05\"] * 4)\n",
    "}\n",
    "\n",
    "df = pd.DataFrame(data)\n",
    "df"
   ]
  },
  {
   "cell_type": "markdown",
   "id": "2cd06505-3026-464f-b9c1-847c3764a0a3",
   "metadata": {},
   "source": [
    "为了表示不同时间对于变量（variable）的操作，更好的表示方式是 `columns` 是这些变量而 `index` 是时间，为了将数据改造为此种形式，使用 `DataFrame.pivot()`:"
   ]
  },
  {
   "cell_type": "code",
   "execution_count": 102,
   "id": "05f73538-c44d-4710-911e-e1776d5d0928",
   "metadata": {},
   "outputs": [
    {
     "data": {
      "text/html": [
       "<div>\n",
       "<style scoped>\n",
       "    .dataframe tbody tr th:only-of-type {\n",
       "        vertical-align: middle;\n",
       "    }\n",
       "\n",
       "    .dataframe tbody tr th {\n",
       "        vertical-align: top;\n",
       "    }\n",
       "\n",
       "    .dataframe thead th {\n",
       "        text-align: right;\n",
       "    }\n",
       "</style>\n",
       "<table border=\"1\" class=\"dataframe\">\n",
       "  <thead>\n",
       "    <tr style=\"text-align: right;\">\n",
       "      <th>variable</th>\n",
       "      <th>A</th>\n",
       "      <th>B</th>\n",
       "      <th>C</th>\n",
       "      <th>D</th>\n",
       "    </tr>\n",
       "    <tr>\n",
       "      <th>date</th>\n",
       "      <th></th>\n",
       "      <th></th>\n",
       "      <th></th>\n",
       "      <th></th>\n",
       "    </tr>\n",
       "  </thead>\n",
       "  <tbody>\n",
       "    <tr>\n",
       "      <th>2020-01-03</th>\n",
       "      <td>0</td>\n",
       "      <td>3</td>\n",
       "      <td>6</td>\n",
       "      <td>9</td>\n",
       "    </tr>\n",
       "    <tr>\n",
       "      <th>2020-01-04</th>\n",
       "      <td>1</td>\n",
       "      <td>4</td>\n",
       "      <td>7</td>\n",
       "      <td>10</td>\n",
       "    </tr>\n",
       "    <tr>\n",
       "      <th>2020-01-05</th>\n",
       "      <td>2</td>\n",
       "      <td>5</td>\n",
       "      <td>8</td>\n",
       "      <td>11</td>\n",
       "    </tr>\n",
       "  </tbody>\n",
       "</table>\n",
       "</div>"
      ],
      "text/plain": [
       "variable    A  B  C   D\n",
       "date                   \n",
       "2020-01-03  0  3  6   9\n",
       "2020-01-04  1  4  7  10\n",
       "2020-01-05  2  5  8  11"
      ]
     },
     "execution_count": 102,
     "metadata": {},
     "output_type": "execute_result"
    }
   ],
   "source": [
    "# 注意这个操作返回的是一个 DataFrame，且 pivot 不能在原 DF 为 MultiIndex 下进行\n",
    "# 且 pivot 的 columns 选定的列的值必须要不重复\n",
    "pivoted = df.pivot(index='date', columns='variable', values='value')\n",
    "pivoted"
   ]
  },
  {
   "cell_type": "markdown",
   "id": "f17fba03-ea45-46d6-bebe-914167534114",
   "metadata": {},
   "source": [
    "如果参数 `values` 没有传入，且输入的 `DataFrame` 有超过一列的 values 并没有被用作 column 或 index，那么会出现具有 MultiIndex 的 columns："
   ]
  },
  {
   "cell_type": "code",
   "execution_count": 103,
   "id": "de37617c-a9f7-4af5-b175-388a5212b595",
   "metadata": {},
   "outputs": [
    {
     "data": {
      "text/html": [
       "<div>\n",
       "<style scoped>\n",
       "    .dataframe tbody tr th:only-of-type {\n",
       "        vertical-align: middle;\n",
       "    }\n",
       "\n",
       "    .dataframe tbody tr th {\n",
       "        vertical-align: top;\n",
       "    }\n",
       "\n",
       "    .dataframe thead tr th {\n",
       "        text-align: left;\n",
       "    }\n",
       "\n",
       "    .dataframe thead tr:last-of-type th {\n",
       "        text-align: right;\n",
       "    }\n",
       "</style>\n",
       "<table border=\"1\" class=\"dataframe\">\n",
       "  <thead>\n",
       "    <tr>\n",
       "      <th></th>\n",
       "      <th colspan=\"4\" halign=\"left\">value</th>\n",
       "      <th colspan=\"4\" halign=\"left\">value2</th>\n",
       "    </tr>\n",
       "    <tr>\n",
       "      <th>variable</th>\n",
       "      <th>A</th>\n",
       "      <th>B</th>\n",
       "      <th>C</th>\n",
       "      <th>D</th>\n",
       "      <th>A</th>\n",
       "      <th>B</th>\n",
       "      <th>C</th>\n",
       "      <th>D</th>\n",
       "    </tr>\n",
       "    <tr>\n",
       "      <th>date</th>\n",
       "      <th></th>\n",
       "      <th></th>\n",
       "      <th></th>\n",
       "      <th></th>\n",
       "      <th></th>\n",
       "      <th></th>\n",
       "      <th></th>\n",
       "      <th></th>\n",
       "    </tr>\n",
       "  </thead>\n",
       "  <tbody>\n",
       "    <tr>\n",
       "      <th>2020-01-03</th>\n",
       "      <td>0</td>\n",
       "      <td>3</td>\n",
       "      <td>6</td>\n",
       "      <td>9</td>\n",
       "      <td>0</td>\n",
       "      <td>6</td>\n",
       "      <td>12</td>\n",
       "      <td>18</td>\n",
       "    </tr>\n",
       "    <tr>\n",
       "      <th>2020-01-04</th>\n",
       "      <td>1</td>\n",
       "      <td>4</td>\n",
       "      <td>7</td>\n",
       "      <td>10</td>\n",
       "      <td>2</td>\n",
       "      <td>8</td>\n",
       "      <td>14</td>\n",
       "      <td>20</td>\n",
       "    </tr>\n",
       "    <tr>\n",
       "      <th>2020-01-05</th>\n",
       "      <td>2</td>\n",
       "      <td>5</td>\n",
       "      <td>8</td>\n",
       "      <td>11</td>\n",
       "      <td>4</td>\n",
       "      <td>10</td>\n",
       "      <td>16</td>\n",
       "      <td>22</td>\n",
       "    </tr>\n",
       "  </tbody>\n",
       "</table>\n",
       "</div>"
      ],
      "text/plain": [
       "           value           value2            \n",
       "variable       A  B  C   D      A   B   C   D\n",
       "date                                         \n",
       "2020-01-03     0  3  6   9      0   6  12  18\n",
       "2020-01-04     1  4  7  10      2   8  14  20\n",
       "2020-01-05     2  5  8  11      4  10  16  22"
      ]
     },
     "execution_count": 103,
     "metadata": {},
     "output_type": "execute_result"
    }
   ],
   "source": [
    "df[\"value2\"] = df[\"value\"] * 2\n",
    "pivoted = df.pivot(index=\"date\", columns=\"variable\")\n",
    "pivoted"
   ]
  },
  {
   "cell_type": "markdown",
   "id": "d4c42486-3fa4-4fa2-b1aa-c4d6404cbe3f",
   "metadata": {},
   "source": [
    "## `pivot_table()`\n",
    "`pivot_table()` 则是专门用于数据的聚合操作："
   ]
  },
  {
   "cell_type": "code",
   "execution_count": 104,
   "id": "fc864fe7-0779-4067-8759-476a266be7d3",
   "metadata": {},
   "outputs": [
    {
     "data": {
      "text/html": [
       "<div>\n",
       "<style scoped>\n",
       "    .dataframe tbody tr th:only-of-type {\n",
       "        vertical-align: middle;\n",
       "    }\n",
       "\n",
       "    .dataframe tbody tr th {\n",
       "        vertical-align: top;\n",
       "    }\n",
       "\n",
       "    .dataframe thead th {\n",
       "        text-align: right;\n",
       "    }\n",
       "</style>\n",
       "<table border=\"1\" class=\"dataframe\">\n",
       "  <thead>\n",
       "    <tr style=\"text-align: right;\">\n",
       "      <th></th>\n",
       "      <th>A</th>\n",
       "      <th>B</th>\n",
       "      <th>C</th>\n",
       "      <th>D</th>\n",
       "      <th>E</th>\n",
       "      <th>F</th>\n",
       "    </tr>\n",
       "  </thead>\n",
       "  <tbody>\n",
       "    <tr>\n",
       "      <th>0</th>\n",
       "      <td>one</td>\n",
       "      <td>A</td>\n",
       "      <td>foo</td>\n",
       "      <td>0.651232</td>\n",
       "      <td>1.773483</td>\n",
       "      <td>2013-01-01</td>\n",
       "    </tr>\n",
       "    <tr>\n",
       "      <th>1</th>\n",
       "      <td>one</td>\n",
       "      <td>B</td>\n",
       "      <td>foo</td>\n",
       "      <td>-0.672246</td>\n",
       "      <td>0.951279</td>\n",
       "      <td>2013-02-01</td>\n",
       "    </tr>\n",
       "    <tr>\n",
       "      <th>2</th>\n",
       "      <td>two</td>\n",
       "      <td>C</td>\n",
       "      <td>foo</td>\n",
       "      <td>0.516505</td>\n",
       "      <td>-0.401428</td>\n",
       "      <td>2013-03-01</td>\n",
       "    </tr>\n",
       "    <tr>\n",
       "      <th>3</th>\n",
       "      <td>three</td>\n",
       "      <td>A</td>\n",
       "      <td>bar</td>\n",
       "      <td>-0.100747</td>\n",
       "      <td>0.004443</td>\n",
       "      <td>2013-04-01</td>\n",
       "    </tr>\n",
       "    <tr>\n",
       "      <th>4</th>\n",
       "      <td>one</td>\n",
       "      <td>B</td>\n",
       "      <td>bar</td>\n",
       "      <td>0.949774</td>\n",
       "      <td>0.870742</td>\n",
       "      <td>2013-05-01</td>\n",
       "    </tr>\n",
       "    <tr>\n",
       "      <th>5</th>\n",
       "      <td>one</td>\n",
       "      <td>C</td>\n",
       "      <td>bar</td>\n",
       "      <td>-0.455152</td>\n",
       "      <td>-0.612162</td>\n",
       "      <td>2013-06-01</td>\n",
       "    </tr>\n",
       "    <tr>\n",
       "      <th>6</th>\n",
       "      <td>two</td>\n",
       "      <td>A</td>\n",
       "      <td>foo</td>\n",
       "      <td>1.664678</td>\n",
       "      <td>-0.139050</td>\n",
       "      <td>2013-07-01</td>\n",
       "    </tr>\n",
       "    <tr>\n",
       "      <th>7</th>\n",
       "      <td>three</td>\n",
       "      <td>B</td>\n",
       "      <td>foo</td>\n",
       "      <td>-0.443938</td>\n",
       "      <td>-1.001369</td>\n",
       "      <td>2013-08-01</td>\n",
       "    </tr>\n",
       "    <tr>\n",
       "      <th>8</th>\n",
       "      <td>one</td>\n",
       "      <td>C</td>\n",
       "      <td>foo</td>\n",
       "      <td>0.669559</td>\n",
       "      <td>-0.215666</td>\n",
       "      <td>2013-09-01</td>\n",
       "    </tr>\n",
       "    <tr>\n",
       "      <th>9</th>\n",
       "      <td>one</td>\n",
       "      <td>A</td>\n",
       "      <td>bar</td>\n",
       "      <td>-1.819039</td>\n",
       "      <td>-1.044425</td>\n",
       "      <td>2013-10-01</td>\n",
       "    </tr>\n",
       "    <tr>\n",
       "      <th>10</th>\n",
       "      <td>two</td>\n",
       "      <td>B</td>\n",
       "      <td>bar</td>\n",
       "      <td>-0.042191</td>\n",
       "      <td>-0.762523</td>\n",
       "      <td>2013-11-01</td>\n",
       "    </tr>\n",
       "    <tr>\n",
       "      <th>11</th>\n",
       "      <td>three</td>\n",
       "      <td>C</td>\n",
       "      <td>bar</td>\n",
       "      <td>-0.251685</td>\n",
       "      <td>-1.353273</td>\n",
       "      <td>2013-12-01</td>\n",
       "    </tr>\n",
       "    <tr>\n",
       "      <th>12</th>\n",
       "      <td>one</td>\n",
       "      <td>A</td>\n",
       "      <td>foo</td>\n",
       "      <td>0.810755</td>\n",
       "      <td>1.658024</td>\n",
       "      <td>2013-01-15</td>\n",
       "    </tr>\n",
       "    <tr>\n",
       "      <th>13</th>\n",
       "      <td>one</td>\n",
       "      <td>B</td>\n",
       "      <td>foo</td>\n",
       "      <td>-1.362958</td>\n",
       "      <td>-0.110869</td>\n",
       "      <td>2013-02-15</td>\n",
       "    </tr>\n",
       "    <tr>\n",
       "      <th>14</th>\n",
       "      <td>two</td>\n",
       "      <td>C</td>\n",
       "      <td>foo</td>\n",
       "      <td>-1.077204</td>\n",
       "      <td>-0.019867</td>\n",
       "      <td>2013-03-15</td>\n",
       "    </tr>\n",
       "    <tr>\n",
       "      <th>15</th>\n",
       "      <td>three</td>\n",
       "      <td>A</td>\n",
       "      <td>bar</td>\n",
       "      <td>-0.060433</td>\n",
       "      <td>-0.377384</td>\n",
       "      <td>2013-04-15</td>\n",
       "    </tr>\n",
       "    <tr>\n",
       "      <th>16</th>\n",
       "      <td>one</td>\n",
       "      <td>B</td>\n",
       "      <td>bar</td>\n",
       "      <td>-0.326327</td>\n",
       "      <td>0.159204</td>\n",
       "      <td>2013-05-15</td>\n",
       "    </tr>\n",
       "    <tr>\n",
       "      <th>17</th>\n",
       "      <td>one</td>\n",
       "      <td>C</td>\n",
       "      <td>bar</td>\n",
       "      <td>-1.080494</td>\n",
       "      <td>-1.663333</td>\n",
       "      <td>2013-06-15</td>\n",
       "    </tr>\n",
       "    <tr>\n",
       "      <th>18</th>\n",
       "      <td>two</td>\n",
       "      <td>A</td>\n",
       "      <td>foo</td>\n",
       "      <td>-1.898033</td>\n",
       "      <td>-0.614972</td>\n",
       "      <td>2013-07-15</td>\n",
       "    </tr>\n",
       "    <tr>\n",
       "      <th>19</th>\n",
       "      <td>three</td>\n",
       "      <td>B</td>\n",
       "      <td>foo</td>\n",
       "      <td>0.571131</td>\n",
       "      <td>2.351003</td>\n",
       "      <td>2013-08-15</td>\n",
       "    </tr>\n",
       "    <tr>\n",
       "      <th>20</th>\n",
       "      <td>one</td>\n",
       "      <td>C</td>\n",
       "      <td>foo</td>\n",
       "      <td>-0.284208</td>\n",
       "      <td>-0.720346</td>\n",
       "      <td>2013-09-15</td>\n",
       "    </tr>\n",
       "    <tr>\n",
       "      <th>21</th>\n",
       "      <td>one</td>\n",
       "      <td>A</td>\n",
       "      <td>bar</td>\n",
       "      <td>0.475669</td>\n",
       "      <td>0.420066</td>\n",
       "      <td>2013-10-15</td>\n",
       "    </tr>\n",
       "    <tr>\n",
       "      <th>22</th>\n",
       "      <td>two</td>\n",
       "      <td>B</td>\n",
       "      <td>bar</td>\n",
       "      <td>-1.529621</td>\n",
       "      <td>0.647972</td>\n",
       "      <td>2013-11-15</td>\n",
       "    </tr>\n",
       "    <tr>\n",
       "      <th>23</th>\n",
       "      <td>three</td>\n",
       "      <td>C</td>\n",
       "      <td>bar</td>\n",
       "      <td>-0.430123</td>\n",
       "      <td>0.031600</td>\n",
       "      <td>2013-12-15</td>\n",
       "    </tr>\n",
       "  </tbody>\n",
       "</table>\n",
       "</div>"
      ],
      "text/plain": [
       "        A  B    C         D         E          F\n",
       "0     one  A  foo  0.651232  1.773483 2013-01-01\n",
       "1     one  B  foo -0.672246  0.951279 2013-02-01\n",
       "2     two  C  foo  0.516505 -0.401428 2013-03-01\n",
       "3   three  A  bar -0.100747  0.004443 2013-04-01\n",
       "4     one  B  bar  0.949774  0.870742 2013-05-01\n",
       "5     one  C  bar -0.455152 -0.612162 2013-06-01\n",
       "6     two  A  foo  1.664678 -0.139050 2013-07-01\n",
       "7   three  B  foo -0.443938 -1.001369 2013-08-01\n",
       "8     one  C  foo  0.669559 -0.215666 2013-09-01\n",
       "9     one  A  bar -1.819039 -1.044425 2013-10-01\n",
       "10    two  B  bar -0.042191 -0.762523 2013-11-01\n",
       "11  three  C  bar -0.251685 -1.353273 2013-12-01\n",
       "12    one  A  foo  0.810755  1.658024 2013-01-15\n",
       "13    one  B  foo -1.362958 -0.110869 2013-02-15\n",
       "14    two  C  foo -1.077204 -0.019867 2013-03-15\n",
       "15  three  A  bar -0.060433 -0.377384 2013-04-15\n",
       "16    one  B  bar -0.326327  0.159204 2013-05-15\n",
       "17    one  C  bar -1.080494 -1.663333 2013-06-15\n",
       "18    two  A  foo -1.898033 -0.614972 2013-07-15\n",
       "19  three  B  foo  0.571131  2.351003 2013-08-15\n",
       "20    one  C  foo -0.284208 -0.720346 2013-09-15\n",
       "21    one  A  bar  0.475669  0.420066 2013-10-15\n",
       "22    two  B  bar -1.529621  0.647972 2013-11-15\n",
       "23  three  C  bar -0.430123  0.031600 2013-12-15"
      ]
     },
     "execution_count": 104,
     "metadata": {},
     "output_type": "execute_result"
    }
   ],
   "source": [
    "import datetime\n",
    "\n",
    "df = pd.DataFrame(\n",
    "    {\n",
    "        \"A\": [\"one\", \"one\", \"two\", \"three\"] * 6,\n",
    "        \"B\": [\"A\", \"B\", \"C\"] * 8,\n",
    "        \"C\": [\"foo\", \"foo\", \"foo\", \"bar\", \"bar\", \"bar\"] * 4,\n",
    "        \"D\": np.random.randn(24),\n",
    "        \"E\": np.random.randn(24),\n",
    "        \"F\": [datetime.datetime(2013, i, 1) for i in range(1, 13)]\n",
    "        + [datetime.datetime(2013, i, 15) for i in range(1, 13)],\n",
    "    }\n",
    ")\n",
    "df"
   ]
  },
  {
   "cell_type": "code",
   "execution_count": 105,
   "id": "6d054ee6-9bce-488b-a35e-6b31bad3ae8d",
   "metadata": {},
   "outputs": [
    {
     "data": {
      "text/html": [
       "<div>\n",
       "<style scoped>\n",
       "    .dataframe tbody tr th:only-of-type {\n",
       "        vertical-align: middle;\n",
       "    }\n",
       "\n",
       "    .dataframe tbody tr th {\n",
       "        vertical-align: top;\n",
       "    }\n",
       "\n",
       "    .dataframe thead th {\n",
       "        text-align: right;\n",
       "    }\n",
       "</style>\n",
       "<table border=\"1\" class=\"dataframe\">\n",
       "  <thead>\n",
       "    <tr style=\"text-align: right;\">\n",
       "      <th></th>\n",
       "      <th>C</th>\n",
       "      <th>bar</th>\n",
       "      <th>foo</th>\n",
       "    </tr>\n",
       "    <tr>\n",
       "      <th>A</th>\n",
       "      <th>B</th>\n",
       "      <th></th>\n",
       "      <th></th>\n",
       "    </tr>\n",
       "  </thead>\n",
       "  <tbody>\n",
       "    <tr>\n",
       "      <th rowspan=\"3\" valign=\"top\">one</th>\n",
       "      <th>A</th>\n",
       "      <td>-0.671685</td>\n",
       "      <td>0.730994</td>\n",
       "    </tr>\n",
       "    <tr>\n",
       "      <th>B</th>\n",
       "      <td>0.311724</td>\n",
       "      <td>-1.017602</td>\n",
       "    </tr>\n",
       "    <tr>\n",
       "      <th>C</th>\n",
       "      <td>-0.767823</td>\n",
       "      <td>0.192675</td>\n",
       "    </tr>\n",
       "    <tr>\n",
       "      <th rowspan=\"3\" valign=\"top\">three</th>\n",
       "      <th>A</th>\n",
       "      <td>-0.080590</td>\n",
       "      <td>NaN</td>\n",
       "    </tr>\n",
       "    <tr>\n",
       "      <th>B</th>\n",
       "      <td>NaN</td>\n",
       "      <td>0.063596</td>\n",
       "    </tr>\n",
       "    <tr>\n",
       "      <th>C</th>\n",
       "      <td>-0.340904</td>\n",
       "      <td>NaN</td>\n",
       "    </tr>\n",
       "    <tr>\n",
       "      <th rowspan=\"3\" valign=\"top\">two</th>\n",
       "      <th>A</th>\n",
       "      <td>NaN</td>\n",
       "      <td>-0.116678</td>\n",
       "    </tr>\n",
       "    <tr>\n",
       "      <th>B</th>\n",
       "      <td>-0.785906</td>\n",
       "      <td>NaN</td>\n",
       "    </tr>\n",
       "    <tr>\n",
       "      <th>C</th>\n",
       "      <td>NaN</td>\n",
       "      <td>-0.280350</td>\n",
       "    </tr>\n",
       "  </tbody>\n",
       "</table>\n",
       "</div>"
      ],
      "text/plain": [
       "C             bar       foo\n",
       "A     B                    \n",
       "one   A -0.671685  0.730994\n",
       "      B  0.311724 -1.017602\n",
       "      C -0.767823  0.192675\n",
       "three A -0.080590       NaN\n",
       "      B       NaN  0.063596\n",
       "      C -0.340904       NaN\n",
       "two   A       NaN -0.116678\n",
       "      B -0.785906       NaN\n",
       "      C       NaN -0.280350"
      ]
     },
     "execution_count": 105,
     "metadata": {},
     "output_type": "execute_result"
    }
   ],
   "source": [
    "pd.pivot_table(df, values='D', index=[\"A\", \"B\"], columns=\"C\")"
   ]
  },
  {
   "cell_type": "code",
   "execution_count": 106,
   "id": "c7c71547-aa70-4bab-bdfd-4f7f91031940",
   "metadata": {},
   "outputs": [
    {
     "data": {
      "text/html": [
       "<div>\n",
       "<style scoped>\n",
       "    .dataframe tbody tr th:only-of-type {\n",
       "        vertical-align: middle;\n",
       "    }\n",
       "\n",
       "    .dataframe tbody tr th {\n",
       "        vertical-align: top;\n",
       "    }\n",
       "\n",
       "    .dataframe thead tr th {\n",
       "        text-align: left;\n",
       "    }\n",
       "\n",
       "    .dataframe thead tr:last-of-type th {\n",
       "        text-align: right;\n",
       "    }\n",
       "</style>\n",
       "<table border=\"1\" class=\"dataframe\">\n",
       "  <thead>\n",
       "    <tr>\n",
       "      <th></th>\n",
       "      <th colspan=\"6\" halign=\"left\">D</th>\n",
       "      <th colspan=\"6\" halign=\"left\">E</th>\n",
       "    </tr>\n",
       "    <tr>\n",
       "      <th>A</th>\n",
       "      <th colspan=\"2\" halign=\"left\">one</th>\n",
       "      <th colspan=\"2\" halign=\"left\">three</th>\n",
       "      <th colspan=\"2\" halign=\"left\">two</th>\n",
       "      <th colspan=\"2\" halign=\"left\">one</th>\n",
       "      <th colspan=\"2\" halign=\"left\">three</th>\n",
       "      <th colspan=\"2\" halign=\"left\">two</th>\n",
       "    </tr>\n",
       "    <tr>\n",
       "      <th>C</th>\n",
       "      <th>bar</th>\n",
       "      <th>foo</th>\n",
       "      <th>bar</th>\n",
       "      <th>foo</th>\n",
       "      <th>bar</th>\n",
       "      <th>foo</th>\n",
       "      <th>bar</th>\n",
       "      <th>foo</th>\n",
       "      <th>bar</th>\n",
       "      <th>foo</th>\n",
       "      <th>bar</th>\n",
       "      <th>foo</th>\n",
       "    </tr>\n",
       "    <tr>\n",
       "      <th>B</th>\n",
       "      <th></th>\n",
       "      <th></th>\n",
       "      <th></th>\n",
       "      <th></th>\n",
       "      <th></th>\n",
       "      <th></th>\n",
       "      <th></th>\n",
       "      <th></th>\n",
       "      <th></th>\n",
       "      <th></th>\n",
       "      <th></th>\n",
       "      <th></th>\n",
       "    </tr>\n",
       "  </thead>\n",
       "  <tbody>\n",
       "    <tr>\n",
       "      <th>A</th>\n",
       "      <td>-1.343371</td>\n",
       "      <td>1.461988</td>\n",
       "      <td>-0.161180</td>\n",
       "      <td>NaN</td>\n",
       "      <td>NaN</td>\n",
       "      <td>-0.233356</td>\n",
       "      <td>-0.624359</td>\n",
       "      <td>3.431506</td>\n",
       "      <td>-0.372941</td>\n",
       "      <td>NaN</td>\n",
       "      <td>NaN</td>\n",
       "      <td>-0.754023</td>\n",
       "    </tr>\n",
       "    <tr>\n",
       "      <th>B</th>\n",
       "      <td>0.623447</td>\n",
       "      <td>-2.035205</td>\n",
       "      <td>NaN</td>\n",
       "      <td>0.127193</td>\n",
       "      <td>-1.571812</td>\n",
       "      <td>NaN</td>\n",
       "      <td>1.029946</td>\n",
       "      <td>0.840410</td>\n",
       "      <td>NaN</td>\n",
       "      <td>1.349634</td>\n",
       "      <td>-0.11455</td>\n",
       "      <td>NaN</td>\n",
       "    </tr>\n",
       "    <tr>\n",
       "      <th>C</th>\n",
       "      <td>-1.535646</td>\n",
       "      <td>0.385351</td>\n",
       "      <td>-0.681808</td>\n",
       "      <td>NaN</td>\n",
       "      <td>NaN</td>\n",
       "      <td>-0.560700</td>\n",
       "      <td>-2.275496</td>\n",
       "      <td>-0.936012</td>\n",
       "      <td>-1.321673</td>\n",
       "      <td>NaN</td>\n",
       "      <td>NaN</td>\n",
       "      <td>-0.421294</td>\n",
       "    </tr>\n",
       "  </tbody>\n",
       "</table>\n",
       "</div>"
      ],
      "text/plain": [
       "          D                                                           E  \\\n",
       "A       one               three                 two                 one   \n",
       "C       bar       foo       bar       foo       bar       foo       bar   \n",
       "B                                                                         \n",
       "A -1.343371  1.461988 -0.161180       NaN       NaN -0.233356 -0.624359   \n",
       "B  0.623447 -2.035205       NaN  0.127193 -1.571812       NaN  1.029946   \n",
       "C -1.535646  0.385351 -0.681808       NaN       NaN -0.560700 -2.275496   \n",
       "\n",
       "                                                    \n",
       "A               three                two            \n",
       "C       foo       bar       foo      bar       foo  \n",
       "B                                                   \n",
       "A  3.431506 -0.372941       NaN      NaN -0.754023  \n",
       "B  0.840410       NaN  1.349634 -0.11455       NaN  \n",
       "C -0.936012 -1.321673       NaN      NaN -0.421294  "
      ]
     },
     "execution_count": 106,
     "metadata": {},
     "output_type": "execute_result"
    }
   ],
   "source": [
    "# 指定 aggfunc 进行操作\n",
    "pd.pivot_table(\n",
    "    df, values=[\"D\", \"E\"],\n",
    "    index=[\"B\"],\n",
    "    columns=[\"A\", \"C\"],\n",
    "    aggfunc=\"sum\",\n",
    ")"
   ]
  },
  {
   "cell_type": "code",
   "execution_count": 107,
   "id": "1812e531-4d36-4b79-b1ac-e93dacc13d0e",
   "metadata": {},
   "outputs": [
    {
     "data": {
      "text/html": [
       "<div>\n",
       "<style scoped>\n",
       "    .dataframe tbody tr th:only-of-type {\n",
       "        vertical-align: middle;\n",
       "    }\n",
       "\n",
       "    .dataframe tbody tr th {\n",
       "        vertical-align: top;\n",
       "    }\n",
       "\n",
       "    .dataframe thead tr th {\n",
       "        text-align: left;\n",
       "    }\n",
       "\n",
       "    .dataframe thead tr:last-of-type th {\n",
       "        text-align: right;\n",
       "    }\n",
       "</style>\n",
       "<table border=\"1\" class=\"dataframe\">\n",
       "  <thead>\n",
       "    <tr>\n",
       "      <th></th>\n",
       "      <th></th>\n",
       "      <th colspan=\"3\" halign=\"left\">sum</th>\n",
       "      <th colspan=\"3\" halign=\"left\">mean</th>\n",
       "    </tr>\n",
       "    <tr>\n",
       "      <th></th>\n",
       "      <th>A</th>\n",
       "      <th>one</th>\n",
       "      <th>three</th>\n",
       "      <th>two</th>\n",
       "      <th>one</th>\n",
       "      <th>three</th>\n",
       "      <th>two</th>\n",
       "    </tr>\n",
       "    <tr>\n",
       "      <th>B</th>\n",
       "      <th>C</th>\n",
       "      <th></th>\n",
       "      <th></th>\n",
       "      <th></th>\n",
       "      <th></th>\n",
       "      <th></th>\n",
       "      <th></th>\n",
       "    </tr>\n",
       "  </thead>\n",
       "  <tbody>\n",
       "    <tr>\n",
       "      <th rowspan=\"2\" valign=\"top\">A</th>\n",
       "      <th>bar</th>\n",
       "      <td>-0.624359</td>\n",
       "      <td>-0.372941</td>\n",
       "      <td>NaN</td>\n",
       "      <td>-0.312180</td>\n",
       "      <td>-0.186471</td>\n",
       "      <td>NaN</td>\n",
       "    </tr>\n",
       "    <tr>\n",
       "      <th>foo</th>\n",
       "      <td>3.431506</td>\n",
       "      <td>NaN</td>\n",
       "      <td>-0.754023</td>\n",
       "      <td>1.715753</td>\n",
       "      <td>NaN</td>\n",
       "      <td>-0.377011</td>\n",
       "    </tr>\n",
       "    <tr>\n",
       "      <th rowspan=\"2\" valign=\"top\">B</th>\n",
       "      <th>bar</th>\n",
       "      <td>1.029946</td>\n",
       "      <td>NaN</td>\n",
       "      <td>-0.114550</td>\n",
       "      <td>0.514973</td>\n",
       "      <td>NaN</td>\n",
       "      <td>-0.057275</td>\n",
       "    </tr>\n",
       "    <tr>\n",
       "      <th>foo</th>\n",
       "      <td>0.840410</td>\n",
       "      <td>1.349634</td>\n",
       "      <td>NaN</td>\n",
       "      <td>0.420205</td>\n",
       "      <td>0.674817</td>\n",
       "      <td>NaN</td>\n",
       "    </tr>\n",
       "    <tr>\n",
       "      <th rowspan=\"2\" valign=\"top\">C</th>\n",
       "      <th>bar</th>\n",
       "      <td>-2.275496</td>\n",
       "      <td>-1.321673</td>\n",
       "      <td>NaN</td>\n",
       "      <td>-1.137748</td>\n",
       "      <td>-0.660836</td>\n",
       "      <td>NaN</td>\n",
       "    </tr>\n",
       "    <tr>\n",
       "      <th>foo</th>\n",
       "      <td>-0.936012</td>\n",
       "      <td>NaN</td>\n",
       "      <td>-0.421294</td>\n",
       "      <td>-0.468006</td>\n",
       "      <td>NaN</td>\n",
       "      <td>-0.210647</td>\n",
       "    </tr>\n",
       "  </tbody>\n",
       "</table>\n",
       "</div>"
      ],
      "text/plain": [
       "            sum                          mean                    \n",
       "A           one     three       two       one     three       two\n",
       "B C                                                              \n",
       "A bar -0.624359 -0.372941       NaN -0.312180 -0.186471       NaN\n",
       "  foo  3.431506       NaN -0.754023  1.715753       NaN -0.377011\n",
       "B bar  1.029946       NaN -0.114550  0.514973       NaN -0.057275\n",
       "  foo  0.840410  1.349634       NaN  0.420205  0.674817       NaN\n",
       "C bar -2.275496 -1.321673       NaN -1.137748 -0.660836       NaN\n",
       "  foo -0.936012       NaN -0.421294 -0.468006       NaN -0.210647"
      ]
     },
     "execution_count": 107,
     "metadata": {},
     "output_type": "execute_result"
    }
   ],
   "source": [
    "pd.pivot_table(\n",
    "    df, values=\"E\",\n",
    "    index=[\"B\", \"C\"],\n",
    "    columns=[\"A\"],\n",
    "    aggfunc=[\"sum\", \"mean\"],\n",
    ")"
   ]
  },
  {
   "cell_type": "markdown",
   "id": "3da83692-7e36-4a0c-b34a-d87d0cac049d",
   "metadata": {},
   "source": [
    "# Group by：分割-应用-整合\n",
    "- 根据门类**分割**数据\n",
    "- 对每个 group 独立地**应用**函数\n",
    "- 将结果**整合**存储到数据结构中\n",
    "\n",
    "我们可能用到的操作：\n",
    "- **聚合**：计算数值的统计信息，如：\n",
    "> - group sums or means\n",
    "> - group sizes / counts.\n",
    "\n",
    "- **变换**：一些基于分组的计算，如：\n",
    "> - 标准化组内数据\n",
    "> - 根据每个组中信息填充 NAs\n",
    "\n",
    "- **筛选**：以组为单位筛选，如：\n",
    "> - 丢弃组内一些取值特殊的\n",
    "> - 根据组内平均值筛选数据"
   ]
  },
  {
   "cell_type": "markdown",
   "id": "d665f549-9166-4b8c-a7ed-91c9f408512f",
   "metadata": {},
   "source": [
    "## 以组分割数据"
   ]
  },
  {
   "cell_type": "code",
   "execution_count": 108,
   "id": "7daa24a0-474b-48f7-a6bc-7a1b44349b6e",
   "metadata": {},
   "outputs": [
    {
     "data": {
      "text/html": [
       "<div>\n",
       "<style scoped>\n",
       "    .dataframe tbody tr th:only-of-type {\n",
       "        vertical-align: middle;\n",
       "    }\n",
       "\n",
       "    .dataframe tbody tr th {\n",
       "        vertical-align: top;\n",
       "    }\n",
       "\n",
       "    .dataframe thead th {\n",
       "        text-align: right;\n",
       "    }\n",
       "</style>\n",
       "<table border=\"1\" class=\"dataframe\">\n",
       "  <thead>\n",
       "    <tr style=\"text-align: right;\">\n",
       "      <th></th>\n",
       "      <th>class</th>\n",
       "      <th>order</th>\n",
       "      <th>max_speed</th>\n",
       "    </tr>\n",
       "  </thead>\n",
       "  <tbody>\n",
       "    <tr>\n",
       "      <th>falcon</th>\n",
       "      <td>bird</td>\n",
       "      <td>Falconiformes</td>\n",
       "      <td>389.0</td>\n",
       "    </tr>\n",
       "    <tr>\n",
       "      <th>parrot</th>\n",
       "      <td>bird</td>\n",
       "      <td>Psittaciformes</td>\n",
       "      <td>24.0</td>\n",
       "    </tr>\n",
       "    <tr>\n",
       "      <th>lion</th>\n",
       "      <td>mammal</td>\n",
       "      <td>Carnivora</td>\n",
       "      <td>80.2</td>\n",
       "    </tr>\n",
       "    <tr>\n",
       "      <th>monkey</th>\n",
       "      <td>mammal</td>\n",
       "      <td>Primates</td>\n",
       "      <td>NaN</td>\n",
       "    </tr>\n",
       "    <tr>\n",
       "      <th>leopard</th>\n",
       "      <td>mammal</td>\n",
       "      <td>Carnivora</td>\n",
       "      <td>58.0</td>\n",
       "    </tr>\n",
       "  </tbody>\n",
       "</table>\n",
       "</div>"
      ],
      "text/plain": [
       "          class           order  max_speed\n",
       "falcon     bird   Falconiformes      389.0\n",
       "parrot     bird  Psittaciformes       24.0\n",
       "lion     mammal       Carnivora       80.2\n",
       "monkey   mammal        Primates        NaN\n",
       "leopard  mammal       Carnivora       58.0"
      ]
     },
     "execution_count": 108,
     "metadata": {},
     "output_type": "execute_result"
    }
   ],
   "source": [
    "speeds = pd.DataFrame(\n",
    "    [\n",
    "        (\"bird\", \"Falconiformes\", 389.0),\n",
    "        (\"bird\", \"Psittaciformes\", 24.0),\n",
    "        (\"mammal\", \"Carnivora\", 80.2),\n",
    "        (\"mammal\", \"Primates\", np.nan),\n",
    "        (\"mammal\", \"Carnivora\", 58),\n",
    "    ],\n",
    "    index=[\"falcon\", \"parrot\", \"lion\", \"monkey\", \"leopard\"],\n",
    "    columns=(\"class\", \"order\", \"max_speed\"),\n",
    ")\n",
    "speeds"
   ]
  },
  {
   "cell_type": "code",
   "execution_count": 109,
   "id": "657da577-b415-4e6e-b88f-a600e782c2de",
   "metadata": {},
   "outputs": [],
   "source": [
    "grouped = speeds.groupby(\"class\") # groupby 后的数据是不能直接查看的"
   ]
  },
  {
   "cell_type": "code",
   "execution_count": 110,
   "id": "b674847e-5df0-4685-a749-e2013da5dc45",
   "metadata": {},
   "outputs": [],
   "source": [
    "grouped = speeds.groupby(['class', 'order'])"
   ]
  },
  {
   "cell_type": "code",
   "execution_count": 111,
   "id": "d7d18cf8-e2f2-4674-977e-926ad9b1c87e",
   "metadata": {},
   "outputs": [
    {
     "data": {
      "text/html": [
       "<div>\n",
       "<style scoped>\n",
       "    .dataframe tbody tr th:only-of-type {\n",
       "        vertical-align: middle;\n",
       "    }\n",
       "\n",
       "    .dataframe tbody tr th {\n",
       "        vertical-align: top;\n",
       "    }\n",
       "\n",
       "    .dataframe thead th {\n",
       "        text-align: right;\n",
       "    }\n",
       "</style>\n",
       "<table border=\"1\" class=\"dataframe\">\n",
       "  <thead>\n",
       "    <tr style=\"text-align: right;\">\n",
       "      <th></th>\n",
       "      <th>A</th>\n",
       "      <th>B</th>\n",
       "      <th>C</th>\n",
       "      <th>D</th>\n",
       "    </tr>\n",
       "  </thead>\n",
       "  <tbody>\n",
       "    <tr>\n",
       "      <th>0</th>\n",
       "      <td>foo</td>\n",
       "      <td>one</td>\n",
       "      <td>-1.805364</td>\n",
       "      <td>-1.251228</td>\n",
       "    </tr>\n",
       "    <tr>\n",
       "      <th>1</th>\n",
       "      <td>bar</td>\n",
       "      <td>one</td>\n",
       "      <td>-2.618873</td>\n",
       "      <td>0.182393</td>\n",
       "    </tr>\n",
       "    <tr>\n",
       "      <th>2</th>\n",
       "      <td>foo</td>\n",
       "      <td>two</td>\n",
       "      <td>-0.067018</td>\n",
       "      <td>-0.314270</td>\n",
       "    </tr>\n",
       "    <tr>\n",
       "      <th>3</th>\n",
       "      <td>bar</td>\n",
       "      <td>three</td>\n",
       "      <td>-1.544230</td>\n",
       "      <td>0.801179</td>\n",
       "    </tr>\n",
       "    <tr>\n",
       "      <th>4</th>\n",
       "      <td>foo</td>\n",
       "      <td>two</td>\n",
       "      <td>-0.165879</td>\n",
       "      <td>-0.324945</td>\n",
       "    </tr>\n",
       "    <tr>\n",
       "      <th>5</th>\n",
       "      <td>bar</td>\n",
       "      <td>two</td>\n",
       "      <td>-1.067598</td>\n",
       "      <td>-0.459163</td>\n",
       "    </tr>\n",
       "    <tr>\n",
       "      <th>6</th>\n",
       "      <td>foo</td>\n",
       "      <td>one</td>\n",
       "      <td>-0.085292</td>\n",
       "      <td>-0.810569</td>\n",
       "    </tr>\n",
       "    <tr>\n",
       "      <th>7</th>\n",
       "      <td>foo</td>\n",
       "      <td>three</td>\n",
       "      <td>1.450323</td>\n",
       "      <td>-0.457832</td>\n",
       "    </tr>\n",
       "  </tbody>\n",
       "</table>\n",
       "</div>"
      ],
      "text/plain": [
       "     A      B         C         D\n",
       "0  foo    one -1.805364 -1.251228\n",
       "1  bar    one -2.618873  0.182393\n",
       "2  foo    two -0.067018 -0.314270\n",
       "3  bar  three -1.544230  0.801179\n",
       "4  foo    two -0.165879 -0.324945\n",
       "5  bar    two -1.067598 -0.459163\n",
       "6  foo    one -0.085292 -0.810569\n",
       "7  foo  three  1.450323 -0.457832"
      ]
     },
     "execution_count": 111,
     "metadata": {},
     "output_type": "execute_result"
    }
   ],
   "source": [
    "df = pd.DataFrame(\n",
    "    {\n",
    "        \"A\": [\"foo\", \"bar\", \"foo\", \"bar\", \"foo\", \"bar\", \"foo\", \"foo\"],\n",
    "        \"B\": [\"one\", \"one\", \"two\", \"three\", \"two\", \"two\", \"one\", \"three\"],\n",
    "        \"C\": np.random.randn(8),\n",
    "        \"D\": np.random.randn(8),\n",
    "    }\n",
    ")\n",
    "df"
   ]
  },
  {
   "cell_type": "markdown",
   "id": "e9629001-6089-4b49-8753-34bc3cc1d8d4",
   "metadata": {},
   "source": [
    "通过 `groupby()` 我们得到的是一个 GroupBy 对象。 `df.groupby('A')` 是 `df.groupby(df['A'])` 的一个**语法糖**"
   ]
  },
  {
   "cell_type": "code",
   "execution_count": 112,
   "id": "0f9bfaba-bb11-49af-bc98-87362dc375ea",
   "metadata": {},
   "outputs": [
    {
     "data": {
      "text/html": [
       "<div>\n",
       "<style scoped>\n",
       "    .dataframe tbody tr th:only-of-type {\n",
       "        vertical-align: middle;\n",
       "    }\n",
       "\n",
       "    .dataframe tbody tr th {\n",
       "        vertical-align: top;\n",
       "    }\n",
       "\n",
       "    .dataframe thead th {\n",
       "        text-align: right;\n",
       "    }\n",
       "</style>\n",
       "<table border=\"1\" class=\"dataframe\">\n",
       "  <thead>\n",
       "    <tr style=\"text-align: right;\">\n",
       "      <th></th>\n",
       "      <th></th>\n",
       "      <th>C</th>\n",
       "      <th>D</th>\n",
       "    </tr>\n",
       "    <tr>\n",
       "      <th>A</th>\n",
       "      <th>B</th>\n",
       "      <th></th>\n",
       "      <th></th>\n",
       "    </tr>\n",
       "  </thead>\n",
       "  <tbody>\n",
       "    <tr>\n",
       "      <th>foo</th>\n",
       "      <th>one</th>\n",
       "      <td>-1.805364</td>\n",
       "      <td>-1.251228</td>\n",
       "    </tr>\n",
       "    <tr>\n",
       "      <th>bar</th>\n",
       "      <th>one</th>\n",
       "      <td>-2.618873</td>\n",
       "      <td>0.182393</td>\n",
       "    </tr>\n",
       "    <tr>\n",
       "      <th>foo</th>\n",
       "      <th>two</th>\n",
       "      <td>-0.067018</td>\n",
       "      <td>-0.314270</td>\n",
       "    </tr>\n",
       "    <tr>\n",
       "      <th>bar</th>\n",
       "      <th>three</th>\n",
       "      <td>-1.544230</td>\n",
       "      <td>0.801179</td>\n",
       "    </tr>\n",
       "    <tr>\n",
       "      <th>foo</th>\n",
       "      <th>two</th>\n",
       "      <td>-0.165879</td>\n",
       "      <td>-0.324945</td>\n",
       "    </tr>\n",
       "    <tr>\n",
       "      <th>bar</th>\n",
       "      <th>two</th>\n",
       "      <td>-1.067598</td>\n",
       "      <td>-0.459163</td>\n",
       "    </tr>\n",
       "    <tr>\n",
       "      <th rowspan=\"2\" valign=\"top\">foo</th>\n",
       "      <th>one</th>\n",
       "      <td>-0.085292</td>\n",
       "      <td>-0.810569</td>\n",
       "    </tr>\n",
       "    <tr>\n",
       "      <th>three</th>\n",
       "      <td>1.450323</td>\n",
       "      <td>-0.457832</td>\n",
       "    </tr>\n",
       "  </tbody>\n",
       "</table>\n",
       "</div>"
      ],
      "text/plain": [
       "                  C         D\n",
       "A   B                        \n",
       "foo one   -1.805364 -1.251228\n",
       "bar one   -2.618873  0.182393\n",
       "foo two   -0.067018 -0.314270\n",
       "bar three -1.544230  0.801179\n",
       "foo two   -0.165879 -0.324945\n",
       "bar two   -1.067598 -0.459163\n",
       "foo one   -0.085292 -0.810569\n",
       "    three  1.450323 -0.457832"
      ]
     },
     "execution_count": 112,
     "metadata": {},
     "output_type": "execute_result"
    }
   ],
   "source": [
    "# 对于多级索引，能显示地 groupby\n",
    "df2 = df.set_index(['A', 'B'])\n",
    "df2"
   ]
  },
  {
   "cell_type": "code",
   "execution_count": 113,
   "id": "113df77b-35e8-45cb-bd9a-c0cce2d5672c",
   "metadata": {},
   "outputs": [
    {
     "data": {
      "text/html": [
       "<div>\n",
       "<style scoped>\n",
       "    .dataframe tbody tr th:only-of-type {\n",
       "        vertical-align: middle;\n",
       "    }\n",
       "\n",
       "    .dataframe tbody tr th {\n",
       "        vertical-align: top;\n",
       "    }\n",
       "\n",
       "    .dataframe thead th {\n",
       "        text-align: right;\n",
       "    }\n",
       "</style>\n",
       "<table border=\"1\" class=\"dataframe\">\n",
       "  <thead>\n",
       "    <tr style=\"text-align: right;\">\n",
       "      <th></th>\n",
       "      <th>C</th>\n",
       "      <th>D</th>\n",
       "    </tr>\n",
       "    <tr>\n",
       "      <th>A</th>\n",
       "      <th></th>\n",
       "      <th></th>\n",
       "    </tr>\n",
       "  </thead>\n",
       "  <tbody>\n",
       "    <tr>\n",
       "      <th>bar</th>\n",
       "      <td>-5.230702</td>\n",
       "      <td>0.524409</td>\n",
       "    </tr>\n",
       "    <tr>\n",
       "      <th>foo</th>\n",
       "      <td>-0.673230</td>\n",
       "      <td>-3.158844</td>\n",
       "    </tr>\n",
       "  </tbody>\n",
       "</table>\n",
       "</div>"
      ],
      "text/plain": [
       "            C         D\n",
       "A                      \n",
       "bar -5.230702  0.524409\n",
       "foo -0.673230 -3.158844"
      ]
     },
     "execution_count": 113,
     "metadata": {},
     "output_type": "execute_result"
    }
   ],
   "source": [
    "grouped = df2.groupby(level=df2.index.names.difference('B'))\n",
    "grouped.sum()"
   ]
  },
  {
   "cell_type": "code",
   "execution_count": 114,
   "id": "aac43711-6f47-4acc-9dbb-f02623238018",
   "metadata": {},
   "outputs": [
    {
     "data": {
      "text/plain": [
       "\u001b[0;31mSignature:\u001b[0m \u001b[0mdf2\u001b[0m\u001b[0;34m.\u001b[0m\u001b[0mindex\u001b[0m\u001b[0;34m.\u001b[0m\u001b[0mnames\u001b[0m\u001b[0;34m.\u001b[0m\u001b[0mdifference\u001b[0m\u001b[0;34m(\u001b[0m\u001b[0mother\u001b[0m\u001b[0;34m)\u001b[0m \u001b[0;34m->\u001b[0m \u001b[0;34m'FrozenList'\u001b[0m\u001b[0;34m\u001b[0m\u001b[0;34m\u001b[0m\u001b[0m\n",
       "\u001b[0;31mDocstring:\u001b[0m\n",
       "Returns a FrozenList with elements from other removed from self.\n",
       "\n",
       "Parameters\n",
       "----------\n",
       "other : array-like\n",
       "    The array-like whose elements we are removing self.\n",
       "\n",
       "Returns\n",
       "-------\n",
       "FrozenList\n",
       "    The collection difference between self and other.\n",
       "\u001b[0;31mFile:\u001b[0m      ~/miniconda3/envs/py38/lib/python3.8/site-packages/pandas/core/indexes/frozen.py\n",
       "\u001b[0;31mType:\u001b[0m      method"
      ]
     },
     "metadata": {},
     "output_type": "display_data"
    }
   ],
   "source": [
    "df2.index.names.difference?"
   ]
  },
  {
   "cell_type": "markdown",
   "id": "6705bec0-7ac7-436c-bd4b-768cc60e5c7e",
   "metadata": {},
   "source": [
    "## 聚合\n",
    "聚合操作降低分组 object 的维度。"
   ]
  },
  {
   "cell_type": "code",
   "execution_count": 115,
   "id": "b615589e-22df-410d-b825-f1edfc73143f",
   "metadata": {},
   "outputs": [
    {
     "data": {
      "text/html": [
       "<div>\n",
       "<style scoped>\n",
       "    .dataframe tbody tr th:only-of-type {\n",
       "        vertical-align: middle;\n",
       "    }\n",
       "\n",
       "    .dataframe tbody tr th {\n",
       "        vertical-align: top;\n",
       "    }\n",
       "\n",
       "    .dataframe thead th {\n",
       "        text-align: right;\n",
       "    }\n",
       "</style>\n",
       "<table border=\"1\" class=\"dataframe\">\n",
       "  <thead>\n",
       "    <tr style=\"text-align: right;\">\n",
       "      <th></th>\n",
       "      <th>kind</th>\n",
       "      <th>height</th>\n",
       "      <th>weight</th>\n",
       "    </tr>\n",
       "  </thead>\n",
       "  <tbody>\n",
       "    <tr>\n",
       "      <th>0</th>\n",
       "      <td>cat</td>\n",
       "      <td>9.1</td>\n",
       "      <td>7.9</td>\n",
       "    </tr>\n",
       "    <tr>\n",
       "      <th>1</th>\n",
       "      <td>dog</td>\n",
       "      <td>6.0</td>\n",
       "      <td>7.5</td>\n",
       "    </tr>\n",
       "    <tr>\n",
       "      <th>2</th>\n",
       "      <td>cat</td>\n",
       "      <td>9.5</td>\n",
       "      <td>9.9</td>\n",
       "    </tr>\n",
       "    <tr>\n",
       "      <th>3</th>\n",
       "      <td>dog</td>\n",
       "      <td>34.0</td>\n",
       "      <td>198.0</td>\n",
       "    </tr>\n",
       "  </tbody>\n",
       "</table>\n",
       "</div>"
      ],
      "text/plain": [
       "  kind  height  weight\n",
       "0  cat     9.1     7.9\n",
       "1  dog     6.0     7.5\n",
       "2  cat     9.5     9.9\n",
       "3  dog    34.0   198.0"
      ]
     },
     "execution_count": 115,
     "metadata": {},
     "output_type": "execute_result"
    }
   ],
   "source": [
    "animals = pd.DataFrame(\n",
    "    {\n",
    "        \"kind\": [\"cat\", \"dog\", \"cat\", \"dog\"],\n",
    "        \"height\": [9.1, 6.0, 9.5, 34.0],\n",
    "        \"weight\": [7.9, 7.5, 9.9, 198.0],\n",
    "    }\n",
    ")\n",
    "\n",
    "animals"
   ]
  },
  {
   "cell_type": "code",
   "execution_count": 116,
   "id": "0e3c55bc-b26c-4c5a-9823-4b19b2a75c11",
   "metadata": {},
   "outputs": [
    {
     "data": {
      "text/html": [
       "<div>\n",
       "<style scoped>\n",
       "    .dataframe tbody tr th:only-of-type {\n",
       "        vertical-align: middle;\n",
       "    }\n",
       "\n",
       "    .dataframe tbody tr th {\n",
       "        vertical-align: top;\n",
       "    }\n",
       "\n",
       "    .dataframe thead th {\n",
       "        text-align: right;\n",
       "    }\n",
       "</style>\n",
       "<table border=\"1\" class=\"dataframe\">\n",
       "  <thead>\n",
       "    <tr style=\"text-align: right;\">\n",
       "      <th></th>\n",
       "      <th>height</th>\n",
       "      <th>weight</th>\n",
       "    </tr>\n",
       "    <tr>\n",
       "      <th>kind</th>\n",
       "      <th></th>\n",
       "      <th></th>\n",
       "    </tr>\n",
       "  </thead>\n",
       "  <tbody>\n",
       "    <tr>\n",
       "      <th>cat</th>\n",
       "      <td>18.6</td>\n",
       "      <td>17.8</td>\n",
       "    </tr>\n",
       "    <tr>\n",
       "      <th>dog</th>\n",
       "      <td>40.0</td>\n",
       "      <td>205.5</td>\n",
       "    </tr>\n",
       "  </tbody>\n",
       "</table>\n",
       "</div>"
      ],
      "text/plain": [
       "      height  weight\n",
       "kind                \n",
       "cat     18.6    17.8\n",
       "dog     40.0   205.5"
      ]
     },
     "execution_count": 116,
     "metadata": {},
     "output_type": "execute_result"
    }
   ],
   "source": [
    "animals.groupby(\"kind\").sum() # 同时还有 mean()，std() 等"
   ]
  },
  {
   "cell_type": "markdown",
   "id": "4a813f3f-9771-436c-8479-df9dfe173a3d",
   "metadata": {},
   "source": [
    "## `aggregate()` 方法\n",
    "任何降维的方法都可以用字符串传入给 `aggregate()` 中。也可以用 `agg()`："
   ]
  },
  {
   "cell_type": "code",
   "execution_count": 117,
   "id": "ab8be2a5-218a-4f17-9ed1-b69ab5f21218",
   "metadata": {},
   "outputs": [
    {
     "data": {
      "text/html": [
       "<div>\n",
       "<style scoped>\n",
       "    .dataframe tbody tr th:only-of-type {\n",
       "        vertical-align: middle;\n",
       "    }\n",
       "\n",
       "    .dataframe tbody tr th {\n",
       "        vertical-align: top;\n",
       "    }\n",
       "\n",
       "    .dataframe thead th {\n",
       "        text-align: right;\n",
       "    }\n",
       "</style>\n",
       "<table border=\"1\" class=\"dataframe\">\n",
       "  <thead>\n",
       "    <tr style=\"text-align: right;\">\n",
       "      <th></th>\n",
       "      <th>C</th>\n",
       "      <th>D</th>\n",
       "    </tr>\n",
       "    <tr>\n",
       "      <th>A</th>\n",
       "      <th></th>\n",
       "      <th></th>\n",
       "    </tr>\n",
       "  </thead>\n",
       "  <tbody>\n",
       "    <tr>\n",
       "      <th>bar</th>\n",
       "      <td>-5.230702</td>\n",
       "      <td>0.524409</td>\n",
       "    </tr>\n",
       "    <tr>\n",
       "      <th>foo</th>\n",
       "      <td>-0.673230</td>\n",
       "      <td>-3.158844</td>\n",
       "    </tr>\n",
       "  </tbody>\n",
       "</table>\n",
       "</div>"
      ],
      "text/plain": [
       "            C         D\n",
       "A                      \n",
       "bar -5.230702  0.524409\n",
       "foo -0.673230 -3.158844"
      ]
     },
     "execution_count": 117,
     "metadata": {},
     "output_type": "execute_result"
    }
   ],
   "source": [
    "grouped = df.groupby(\"A\")\n",
    "\n",
    "grouped[[\"C\", \"D\"]].aggregate(\"sum\")"
   ]
  },
  {
   "cell_type": "markdown",
   "id": "3f91bf8b-4e2d-4e2c-bc04-e776940be4bc",
   "metadata": {},
   "source": [
    "`reset_index()` 的方法，可以重置 `agg()` 后的索引"
   ]
  },
  {
   "cell_type": "code",
   "execution_count": 118,
   "id": "fd49eb0d-85fa-486c-92b9-fe6e2a86b7ab",
   "metadata": {},
   "outputs": [
    {
     "name": "stdout",
     "output_type": "stream",
     "text": [
      "                  C                   D          \n",
      "                sum    median       sum    median\n",
      "A   B                                            \n",
      "bar one   -2.618873 -2.618873  0.182393  0.182393\n",
      "    three -1.544230 -1.544230  0.801179  0.801179\n",
      "    two   -1.067598 -1.067598 -0.459163 -0.459163\n",
      "foo one   -1.890656 -0.945328 -2.061796 -1.030898\n",
      "    three  1.450323  1.450323 -0.457832 -0.457832\n",
      "    two   -0.232897 -0.116448 -0.639215 -0.319608\n"
     ]
    },
    {
     "data": {
      "text/html": [
       "<div>\n",
       "<style scoped>\n",
       "    .dataframe tbody tr th:only-of-type {\n",
       "        vertical-align: middle;\n",
       "    }\n",
       "\n",
       "    .dataframe tbody tr th {\n",
       "        vertical-align: top;\n",
       "    }\n",
       "\n",
       "    .dataframe thead tr th {\n",
       "        text-align: left;\n",
       "    }\n",
       "</style>\n",
       "<table border=\"1\" class=\"dataframe\">\n",
       "  <thead>\n",
       "    <tr>\n",
       "      <th></th>\n",
       "      <th>A</th>\n",
       "      <th>B</th>\n",
       "      <th colspan=\"2\" halign=\"left\">C</th>\n",
       "      <th colspan=\"2\" halign=\"left\">D</th>\n",
       "    </tr>\n",
       "    <tr>\n",
       "      <th></th>\n",
       "      <th></th>\n",
       "      <th></th>\n",
       "      <th>sum</th>\n",
       "      <th>median</th>\n",
       "      <th>sum</th>\n",
       "      <th>median</th>\n",
       "    </tr>\n",
       "  </thead>\n",
       "  <tbody>\n",
       "    <tr>\n",
       "      <th>0</th>\n",
       "      <td>bar</td>\n",
       "      <td>one</td>\n",
       "      <td>-2.618873</td>\n",
       "      <td>-2.618873</td>\n",
       "      <td>0.182393</td>\n",
       "      <td>0.182393</td>\n",
       "    </tr>\n",
       "    <tr>\n",
       "      <th>1</th>\n",
       "      <td>bar</td>\n",
       "      <td>three</td>\n",
       "      <td>-1.544230</td>\n",
       "      <td>-1.544230</td>\n",
       "      <td>0.801179</td>\n",
       "      <td>0.801179</td>\n",
       "    </tr>\n",
       "    <tr>\n",
       "      <th>2</th>\n",
       "      <td>bar</td>\n",
       "      <td>two</td>\n",
       "      <td>-1.067598</td>\n",
       "      <td>-1.067598</td>\n",
       "      <td>-0.459163</td>\n",
       "      <td>-0.459163</td>\n",
       "    </tr>\n",
       "    <tr>\n",
       "      <th>3</th>\n",
       "      <td>foo</td>\n",
       "      <td>one</td>\n",
       "      <td>-1.890656</td>\n",
       "      <td>-0.945328</td>\n",
       "      <td>-2.061796</td>\n",
       "      <td>-1.030898</td>\n",
       "    </tr>\n",
       "    <tr>\n",
       "      <th>4</th>\n",
       "      <td>foo</td>\n",
       "      <td>three</td>\n",
       "      <td>1.450323</td>\n",
       "      <td>1.450323</td>\n",
       "      <td>-0.457832</td>\n",
       "      <td>-0.457832</td>\n",
       "    </tr>\n",
       "    <tr>\n",
       "      <th>5</th>\n",
       "      <td>foo</td>\n",
       "      <td>two</td>\n",
       "      <td>-0.232897</td>\n",
       "      <td>-0.116448</td>\n",
       "      <td>-0.639215</td>\n",
       "      <td>-0.319608</td>\n",
       "    </tr>\n",
       "  </tbody>\n",
       "</table>\n",
       "</div>"
      ],
      "text/plain": [
       "     A      B         C                   D          \n",
       "                    sum    median       sum    median\n",
       "0  bar    one -2.618873 -2.618873  0.182393  0.182393\n",
       "1  bar  three -1.544230 -1.544230  0.801179  0.801179\n",
       "2  bar    two -1.067598 -1.067598 -0.459163 -0.459163\n",
       "3  foo    one -1.890656 -0.945328 -2.061796 -1.030898\n",
       "4  foo  three  1.450323  1.450323 -0.457832 -0.457832\n",
       "5  foo    two -0.232897 -0.116448 -0.639215 -0.319608"
      ]
     },
     "execution_count": 118,
     "metadata": {},
     "output_type": "execute_result"
    }
   ],
   "source": [
    "grouped = df.groupby([\"A\", \"B\"]) # groupby 选择的 `A`，`B` 列会自动变成 index，可以设置为 False\n",
    "ag = grouped.agg([\"sum\", 'median'])\n",
    "print(ag)\n",
    "\n",
    "ag.reset_index()"
   ]
  },
  {
   "cell_type": "markdown",
   "id": "bd9982ae-ec68-4b1a-88f0-68718fb6c6a6",
   "metadata": {},
   "source": [
    "## 多个方程，一次应用\n",
    "对于一个分组的 `Series`，可以使用 `SeriesGroupBy.agg()`，会输出一个 DataFrame:"
   ]
  },
  {
   "cell_type": "code",
   "execution_count": 119,
   "id": "bdb485bf-3f51-4949-8617-f42894bf579a",
   "metadata": {},
   "outputs": [
    {
     "name": "stdout",
     "output_type": "stream",
     "text": [
      "<class 'pandas.core.groupby.generic.SeriesGroupBy'>\n"
     ]
    },
    {
     "data": {
      "text/html": [
       "<div>\n",
       "<style scoped>\n",
       "    .dataframe tbody tr th:only-of-type {\n",
       "        vertical-align: middle;\n",
       "    }\n",
       "\n",
       "    .dataframe tbody tr th {\n",
       "        vertical-align: top;\n",
       "    }\n",
       "\n",
       "    .dataframe thead th {\n",
       "        text-align: right;\n",
       "    }\n",
       "</style>\n",
       "<table border=\"1\" class=\"dataframe\">\n",
       "  <thead>\n",
       "    <tr style=\"text-align: right;\">\n",
       "      <th></th>\n",
       "      <th>sum</th>\n",
       "      <th>mean</th>\n",
       "      <th>std</th>\n",
       "    </tr>\n",
       "    <tr>\n",
       "      <th>A</th>\n",
       "      <th></th>\n",
       "      <th></th>\n",
       "      <th></th>\n",
       "    </tr>\n",
       "  </thead>\n",
       "  <tbody>\n",
       "    <tr>\n",
       "      <th>bar</th>\n",
       "      <td>-5.230702</td>\n",
       "      <td>-1.743567</td>\n",
       "      <td>0.794616</td>\n",
       "    </tr>\n",
       "    <tr>\n",
       "      <th>foo</th>\n",
       "      <td>-0.673230</td>\n",
       "      <td>-0.134646</td>\n",
       "      <td>1.152325</td>\n",
       "    </tr>\n",
       "  </tbody>\n",
       "</table>\n",
       "</div>"
      ],
      "text/plain": [
       "          sum      mean       std\n",
       "A                                \n",
       "bar -5.230702 -1.743567  0.794616\n",
       "foo -0.673230 -0.134646  1.152325"
      ]
     },
     "execution_count": 119,
     "metadata": {},
     "output_type": "execute_result"
    }
   ],
   "source": [
    "grouped = df.groupby('A')\n",
    "print(type(grouped['C']))\n",
    "grouped['C'].agg(['sum', 'mean', 'std'])"
   ]
  },
  {
   "cell_type": "markdown",
   "id": "fe3eb91f-d462-4794-9089-af455fb9a338",
   "metadata": {},
   "source": [
    "对于一个分组的 `DataFrame`，可以传递一个方程的 list，用 `DataFrameGroupBy.agg()` 对每一列都进行聚合，通过 MultiIndex 来展现："
   ]
  },
  {
   "cell_type": "code",
   "execution_count": 120,
   "id": "15c3ef76-144d-4df5-83e8-abdb6969e241",
   "metadata": {},
   "outputs": [
    {
     "data": {
      "text/html": [
       "<div>\n",
       "<style scoped>\n",
       "    .dataframe tbody tr th:only-of-type {\n",
       "        vertical-align: middle;\n",
       "    }\n",
       "\n",
       "    .dataframe tbody tr th {\n",
       "        vertical-align: top;\n",
       "    }\n",
       "\n",
       "    .dataframe thead tr th {\n",
       "        text-align: left;\n",
       "    }\n",
       "\n",
       "    .dataframe thead tr:last-of-type th {\n",
       "        text-align: right;\n",
       "    }\n",
       "</style>\n",
       "<table border=\"1\" class=\"dataframe\">\n",
       "  <thead>\n",
       "    <tr>\n",
       "      <th></th>\n",
       "      <th colspan=\"3\" halign=\"left\">C</th>\n",
       "      <th colspan=\"3\" halign=\"left\">D</th>\n",
       "    </tr>\n",
       "    <tr>\n",
       "      <th></th>\n",
       "      <th>sum</th>\n",
       "      <th>mean</th>\n",
       "      <th>std</th>\n",
       "      <th>sum</th>\n",
       "      <th>mean</th>\n",
       "      <th>std</th>\n",
       "    </tr>\n",
       "    <tr>\n",
       "      <th>A</th>\n",
       "      <th></th>\n",
       "      <th></th>\n",
       "      <th></th>\n",
       "      <th></th>\n",
       "      <th></th>\n",
       "      <th></th>\n",
       "    </tr>\n",
       "  </thead>\n",
       "  <tbody>\n",
       "    <tr>\n",
       "      <th>bar</th>\n",
       "      <td>-5.230702</td>\n",
       "      <td>-1.743567</td>\n",
       "      <td>0.794616</td>\n",
       "      <td>0.524409</td>\n",
       "      <td>0.174803</td>\n",
       "      <td>0.630205</td>\n",
       "    </tr>\n",
       "    <tr>\n",
       "      <th>foo</th>\n",
       "      <td>-0.673230</td>\n",
       "      <td>-0.134646</td>\n",
       "      <td>1.152325</td>\n",
       "      <td>-3.158844</td>\n",
       "      <td>-0.631769</td>\n",
       "      <td>0.400281</td>\n",
       "    </tr>\n",
       "  </tbody>\n",
       "</table>\n",
       "</div>"
      ],
      "text/plain": [
       "            C                             D                    \n",
       "          sum      mean       std       sum      mean       std\n",
       "A                                                              \n",
       "bar -5.230702 -1.743567  0.794616  0.524409  0.174803  0.630205\n",
       "foo -0.673230 -0.134646  1.152325 -3.158844 -0.631769  0.400281"
      ]
     },
     "execution_count": 120,
     "metadata": {},
     "output_type": "execute_result"
    }
   ],
   "source": [
    "grouped[[\"C\", \"D\"]].agg([\"sum\", \"mean\", \"std\"])"
   ]
  },
  {
   "cell_type": "markdown",
   "id": "aa5fb1b0-d5cd-40c5-97b5-3c0c4b327b23",
   "metadata": {},
   "source": [
    "如果需要重命名列："
   ]
  },
  {
   "cell_type": "code",
   "execution_count": 121,
   "id": "3e589f1a-bd6d-492b-98be-3c8519d63e8c",
   "metadata": {},
   "outputs": [
    {
     "data": {
      "text/html": [
       "<div>\n",
       "<style scoped>\n",
       "    .dataframe tbody tr th:only-of-type {\n",
       "        vertical-align: middle;\n",
       "    }\n",
       "\n",
       "    .dataframe tbody tr th {\n",
       "        vertical-align: top;\n",
       "    }\n",
       "\n",
       "    .dataframe thead th {\n",
       "        text-align: right;\n",
       "    }\n",
       "</style>\n",
       "<table border=\"1\" class=\"dataframe\">\n",
       "  <thead>\n",
       "    <tr style=\"text-align: right;\">\n",
       "      <th></th>\n",
       "      <th>foo</th>\n",
       "      <th>bar</th>\n",
       "      <th>baz</th>\n",
       "    </tr>\n",
       "    <tr>\n",
       "      <th>A</th>\n",
       "      <th></th>\n",
       "      <th></th>\n",
       "      <th></th>\n",
       "    </tr>\n",
       "  </thead>\n",
       "  <tbody>\n",
       "    <tr>\n",
       "      <th>bar</th>\n",
       "      <td>-5.230702</td>\n",
       "      <td>-1.743567</td>\n",
       "      <td>0.794616</td>\n",
       "    </tr>\n",
       "    <tr>\n",
       "      <th>foo</th>\n",
       "      <td>-0.673230</td>\n",
       "      <td>-0.134646</td>\n",
       "      <td>1.152325</td>\n",
       "    </tr>\n",
       "  </tbody>\n",
       "</table>\n",
       "</div>"
      ],
      "text/plain": [
       "          foo       bar       baz\n",
       "A                                \n",
       "bar -5.230702 -1.743567  0.794616\n",
       "foo -0.673230 -0.134646  1.152325"
      ]
     },
     "execution_count": 121,
     "metadata": {},
     "output_type": "execute_result"
    }
   ],
   "source": [
    "(\n",
    "    grouped[\"C\"]\n",
    "    .agg([\"sum\", \"mean\", \"std\"])\n",
    "    .rename(columns={\"sum\": \"foo\", \"mean\": \"bar\", \"std\": \"baz\"})\n",
    ")"
   ]
  },
  {
   "cell_type": "code",
   "execution_count": 122,
   "id": "4b214b78-c274-47c6-8028-be70ab808ce1",
   "metadata": {},
   "outputs": [
    {
     "data": {
      "text/html": [
       "<div>\n",
       "<style scoped>\n",
       "    .dataframe tbody tr th:only-of-type {\n",
       "        vertical-align: middle;\n",
       "    }\n",
       "\n",
       "    .dataframe tbody tr th {\n",
       "        vertical-align: top;\n",
       "    }\n",
       "\n",
       "    .dataframe thead tr th {\n",
       "        text-align: left;\n",
       "    }\n",
       "\n",
       "    .dataframe thead tr:last-of-type th {\n",
       "        text-align: right;\n",
       "    }\n",
       "</style>\n",
       "<table border=\"1\" class=\"dataframe\">\n",
       "  <thead>\n",
       "    <tr>\n",
       "      <th></th>\n",
       "      <th colspan=\"3\" halign=\"left\">C</th>\n",
       "      <th colspan=\"3\" halign=\"left\">D</th>\n",
       "    </tr>\n",
       "    <tr>\n",
       "      <th></th>\n",
       "      <th>foo</th>\n",
       "      <th>bar</th>\n",
       "      <th>baz</th>\n",
       "      <th>foo</th>\n",
       "      <th>bar</th>\n",
       "      <th>baz</th>\n",
       "    </tr>\n",
       "    <tr>\n",
       "      <th>A</th>\n",
       "      <th></th>\n",
       "      <th></th>\n",
       "      <th></th>\n",
       "      <th></th>\n",
       "      <th></th>\n",
       "      <th></th>\n",
       "    </tr>\n",
       "  </thead>\n",
       "  <tbody>\n",
       "    <tr>\n",
       "      <th>bar</th>\n",
       "      <td>-5.230702</td>\n",
       "      <td>-1.743567</td>\n",
       "      <td>0.794616</td>\n",
       "      <td>0.524409</td>\n",
       "      <td>0.174803</td>\n",
       "      <td>0.630205</td>\n",
       "    </tr>\n",
       "    <tr>\n",
       "      <th>foo</th>\n",
       "      <td>-0.673230</td>\n",
       "      <td>-0.134646</td>\n",
       "      <td>1.152325</td>\n",
       "      <td>-3.158844</td>\n",
       "      <td>-0.631769</td>\n",
       "      <td>0.400281</td>\n",
       "    </tr>\n",
       "  </tbody>\n",
       "</table>\n",
       "</div>"
      ],
      "text/plain": [
       "            C                             D                    \n",
       "          foo       bar       baz       foo       bar       baz\n",
       "A                                                              \n",
       "bar -5.230702 -1.743567  0.794616  0.524409  0.174803  0.630205\n",
       "foo -0.673230 -0.134646  1.152325 -3.158844 -0.631769  0.400281"
      ]
     },
     "execution_count": 122,
     "metadata": {},
     "output_type": "execute_result"
    }
   ],
   "source": [
    "# 对于 DataFrame 也可以同样方法\n",
    "(\n",
    "    grouped[[\"C\", \"D\"]].agg([\"sum\", \"mean\", \"std\"]).rename(\n",
    "        columns={\"sum\": \"foo\", \"mean\": \"bar\", \"std\": \"baz\"}\n",
    "    )\n",
    ")"
   ]
  },
  {
   "cell_type": "markdown",
   "id": "bb5f8be7-ef9f-4050-9c46-2c6222e51f4b",
   "metadata": {},
   "source": [
    "也可以使用自己的 lambda 函数："
   ]
  },
  {
   "cell_type": "code",
   "execution_count": 123,
   "id": "98a8035a-8401-4c58-b6a0-5e2ae12317b3",
   "metadata": {},
   "outputs": [
    {
     "data": {
      "text/html": [
       "<div>\n",
       "<style scoped>\n",
       "    .dataframe tbody tr th:only-of-type {\n",
       "        vertical-align: middle;\n",
       "    }\n",
       "\n",
       "    .dataframe tbody tr th {\n",
       "        vertical-align: top;\n",
       "    }\n",
       "\n",
       "    .dataframe thead th {\n",
       "        text-align: right;\n",
       "    }\n",
       "</style>\n",
       "<table border=\"1\" class=\"dataframe\">\n",
       "  <thead>\n",
       "    <tr style=\"text-align: right;\">\n",
       "      <th></th>\n",
       "      <th>&lt;lambda_0&gt;</th>\n",
       "      <th>&lt;lambda_1&gt;</th>\n",
       "    </tr>\n",
       "    <tr>\n",
       "      <th>A</th>\n",
       "      <th></th>\n",
       "      <th></th>\n",
       "    </tr>\n",
       "  </thead>\n",
       "  <tbody>\n",
       "    <tr>\n",
       "      <th>bar</th>\n",
       "      <td>1.551275</td>\n",
       "      <td>0.199337</td>\n",
       "    </tr>\n",
       "    <tr>\n",
       "      <th>foo</th>\n",
       "      <td>3.255687</td>\n",
       "      <td>0.049354</td>\n",
       "    </tr>\n",
       "  </tbody>\n",
       "</table>\n",
       "</div>"
      ],
      "text/plain": [
       "     <lambda_0>  <lambda_1>\n",
       "A                          \n",
       "bar    1.551275    0.199337\n",
       "foo    3.255687    0.049354"
      ]
     },
     "execution_count": 123,
     "metadata": {},
     "output_type": "execute_result"
    }
   ],
   "source": [
    "grouped[\"C\"].agg([lambda x: x.max() - x.min(), lambda x: x.median() - x.mean()])"
   ]
  },
  {
   "cell_type": "markdown",
   "id": "dc2646a4-2b8d-4896-b957-8d67c374feb4",
   "metadata": {},
   "source": [
    "## 对于不同列应用不同的函数"
   ]
  },
  {
   "cell_type": "code",
   "execution_count": 124,
   "id": "58d79995-c8e3-4ed1-a97a-a8160a61aae1",
   "metadata": {},
   "outputs": [
    {
     "data": {
      "text/html": [
       "<div>\n",
       "<style scoped>\n",
       "    .dataframe tbody tr th:only-of-type {\n",
       "        vertical-align: middle;\n",
       "    }\n",
       "\n",
       "    .dataframe tbody tr th {\n",
       "        vertical-align: top;\n",
       "    }\n",
       "\n",
       "    .dataframe thead th {\n",
       "        text-align: right;\n",
       "    }\n",
       "</style>\n",
       "<table border=\"1\" class=\"dataframe\">\n",
       "  <thead>\n",
       "    <tr style=\"text-align: right;\">\n",
       "      <th></th>\n",
       "      <th>C</th>\n",
       "      <th>D</th>\n",
       "    </tr>\n",
       "    <tr>\n",
       "      <th>A</th>\n",
       "      <th></th>\n",
       "      <th></th>\n",
       "    </tr>\n",
       "  </thead>\n",
       "  <tbody>\n",
       "    <tr>\n",
       "      <th>bar</th>\n",
       "      <td>-5.230702</td>\n",
       "      <td>0.630205</td>\n",
       "    </tr>\n",
       "    <tr>\n",
       "      <th>foo</th>\n",
       "      <td>-0.673230</td>\n",
       "      <td>0.400281</td>\n",
       "    </tr>\n",
       "  </tbody>\n",
       "</table>\n",
       "</div>"
      ],
      "text/plain": [
       "            C         D\n",
       "A                      \n",
       "bar -5.230702  0.630205\n",
       "foo -0.673230  0.400281"
      ]
     },
     "execution_count": 124,
     "metadata": {},
     "output_type": "execute_result"
    }
   ],
   "source": [
    "# ddof 表示了需要减去的自由度，如此处为 N-1，则 ddof 为 1，表示了样本的标准差，pandas 中的 std() 函数默认是 N-1 计算。\n",
    "grouped.agg({\"C\": \"sum\", \"D\": lambda x: np.std(x, ddof=1)})"
   ]
  },
  {
   "cell_type": "code",
   "execution_count": 125,
   "id": "b4699abb-016a-4005-917b-a89575c08fc2",
   "metadata": {},
   "outputs": [
    {
     "data": {
      "text/html": [
       "<div>\n",
       "<style scoped>\n",
       "    .dataframe tbody tr th:only-of-type {\n",
       "        vertical-align: middle;\n",
       "    }\n",
       "\n",
       "    .dataframe tbody tr th {\n",
       "        vertical-align: top;\n",
       "    }\n",
       "\n",
       "    .dataframe thead th {\n",
       "        text-align: right;\n",
       "    }\n",
       "</style>\n",
       "<table border=\"1\" class=\"dataframe\">\n",
       "  <thead>\n",
       "    <tr style=\"text-align: right;\">\n",
       "      <th></th>\n",
       "      <th>C</th>\n",
       "      <th>D</th>\n",
       "    </tr>\n",
       "    <tr>\n",
       "      <th>A</th>\n",
       "      <th></th>\n",
       "      <th></th>\n",
       "    </tr>\n",
       "  </thead>\n",
       "  <tbody>\n",
       "    <tr>\n",
       "      <th>bar</th>\n",
       "      <td>-5.230702</td>\n",
       "      <td>0.630205</td>\n",
       "    </tr>\n",
       "    <tr>\n",
       "      <th>foo</th>\n",
       "      <td>-0.673230</td>\n",
       "      <td>0.400281</td>\n",
       "    </tr>\n",
       "  </tbody>\n",
       "</table>\n",
       "</div>"
      ],
      "text/plain": [
       "            C         D\n",
       "A                      \n",
       "bar -5.230702  0.630205\n",
       "foo -0.673230  0.400281"
      ]
     },
     "execution_count": 125,
     "metadata": {},
     "output_type": "execute_result"
    }
   ],
   "source": [
    "grouped.agg({\"C\": \"sum\", \"D\": \"std\"})"
   ]
  },
  {
   "cell_type": "markdown",
   "id": "7cd8df33-275d-4c10-ad8b-777b87f2ac57",
   "metadata": {},
   "source": [
    "# 合并操作"
   ]
  },
  {
   "cell_type": "markdown",
   "id": "55276a1c-979b-485d-81ab-11d6363384da",
   "metadata": {},
   "source": [
    "## concat"
   ]
  },
  {
   "cell_type": "markdown",
   "id": "ab5798ab-aeb7-46fe-a98a-5a1ad3ac0a0f",
   "metadata": {},
   "source": [
    "## Merge"
   ]
  }
 ],
 "metadata": {
  "kernelspec": {
   "display_name": "py38",
   "language": "python",
   "name": "py38"
  },
  "language_info": {
   "codemirror_mode": {
    "name": "ipython",
    "version": 3
   },
   "file_extension": ".py",
   "mimetype": "text/x-python",
   "name": "python",
   "nbconvert_exporter": "python",
   "pygments_lexer": "ipython3",
   "version": "3.8.19"
  }
 },
 "nbformat": 4,
 "nbformat_minor": 5
}
