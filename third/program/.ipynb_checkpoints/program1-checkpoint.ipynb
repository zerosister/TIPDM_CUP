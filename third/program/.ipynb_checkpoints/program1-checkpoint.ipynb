{
 "cells": [
  {
   "cell_type": "code",
   "execution_count": 1,
   "id": "4f3373c6-e550-427b-ad30-f2f8fd548c99",
   "metadata": {},
   "outputs": [],
   "source": [
    "import pandas as pd"
   ]
  },
  {
   "cell_type": "code",
   "execution_count": 61,
   "id": "f75ec279-eb52-4b83-a3d6-04f23c755346",
   "metadata": {},
   "outputs": [
    {
     "name": "stdout",
     "output_type": "stream",
     "text": [
      "   user_id   register_time recently_logged  number_of_classes_join  \\\n",
      "0  用户44251  2020/6/18 9:49  2020/6/18 9:49                       0   \n",
      "1  用户44250  2020/6/18 9:47  2020/6/18 9:48                       0   \n",
      "2  用户44249  2020/6/18 9:43  2020/6/18 9:43                       0   \n",
      "\n",
      "   number_of_classes_out learn_time school  \n",
      "0                      0      41.25    NaN  \n",
      "1                      0          0    NaN  \n",
      "2                      0      16.22    NaN  \n",
      "  user_id           login_time login_place\n",
      "0     用户3  2018-09-06 09:32:47      中国广东广州\n",
      "1     用户3  2018-09-07 09:28:28      中国广东广州\n",
      "2     用户3  2018-09-07 09:57:44      中国广东广州\n",
      "  user_id course_id     course_join_time learn_process  price\n",
      "0     用户3     课程106  2020-04-21 10:11:50    width: 0%;    0.0\n",
      "1     用户3     课程136  2020-03-05 11:44:36    width: 1%;    0.0\n",
      "2     用户3     课程205  2018-09-10 18:17:01   width: 63%;    0.0\n"
     ]
    }
   ],
   "source": [
    "# task 1 数据预处理\n",
    "## 加载数据\n",
    "import os\n",
    "path = os.getcwd()\n",
    "result_dir = os.path.join('result')\n",
    "user = pd.read_csv(os.path.join(path, 'data', 'users.csv'), encoding='gbk')\n",
    "login = pd.read_csv(os.path.join(path, 'data', 'login.csv'), encoding='gbk')\n",
    "study_info = pd.read_csv(os.path.join(path, 'data', 'study_information.csv'), encoding='gbk')\n",
    "\n",
    "print(user.head(3))\n",
    "print(login.head(3))\n",
    "print(study_info.head(3))"
   ]
  },
  {
   "cell_type": "code",
   "execution_count": 54,
   "id": "193556ab-805f-4325-bf71-9b3681e9e42d",
   "metadata": {},
   "outputs": [
    {
     "name": "stdout",
     "output_type": "stream",
     "text": [
      "the num of nans in csv 1  is 33414\n",
      "the num of duplicates in csv 1  is 3\n",
      "\n",
      "\n",
      "the num of nans in csv 2  is 4238\n",
      "the num of duplicates in csv 2  is 0\n",
      "\n",
      "\n",
      "the num of nans in csv 3  is 0\n",
      "the num of duplicates in csv 3  is 0\n",
      "\n",
      "\n",
      "/root/TIPDM_CUP/third/result/task1_1_1.csv\n",
      "/root/TIPDM_CUP/third/result/task1_1_2.csv\n",
      "/root/TIPDM_CUP/third/result/task1_1_3.csv\n"
     ]
    }
   ],
   "source": [
    "## 1.1 缺失值，重复值，有效值\n",
    "# 记录数即为行数\n",
    "# print(study_info.notna().value_counts())\n",
    "csvs = [user, study_info, login]\n",
    "na_dups = []\n",
    "i = 0\n",
    "for csv in csvs:\n",
    "    # 统计缺失值\n",
    "    csv_na_cnt = csv.isnull().any(axis=1).sum()\n",
    "    \n",
    "    # 统计重复值\n",
    "    csv_dup_cnt = csv.duplicated().sum()\n",
    "    na_dups.append((csv_na_cnt, csv_dup_cnt))\n",
    "\n",
    "i = 0\n",
    "for na, dup in na_dups:\n",
    "    i += 1\n",
    "    print('the num of nans in csv %d  is %d'%(i, na))\n",
    "    print('the num of duplicates in csv %d  is %d'%(i, dup))\n",
    "    print('\\n')\n",
    "\n",
    "task1_1_results = []\n",
    "\n",
    "# print(user.isnull().value_counts()) # 查看 nan 数据情况\n",
    "# 对于 user 重复值应当去除\n",
    "user_2 = user.drop_duplicates()\n",
    "# 对于 没有 user_id 的直接去除\n",
    "user_3 = user_2.dropna(subset='user_id')\n",
    "# 对于 没有 学校的 user，默认填充为 0\n",
    "task1_1_1 = user_3.fillna(0)\n",
    "task1_1_results.append(task1_1_1)\n",
    "\n",
    "# 对于 study_info，将 缺失的 price 置为 -1\n",
    "# print(study_info.isnull().value_counts()) # 查看 nan 数据情况\n",
    "task1_1_2 = study_info.fillna(-1)\n",
    "task1_1_results.append(task1_1_2)\n",
    "\n",
    "# 对于 login 表，不用处理\n",
    "task1_1_results.append(login)\n",
    "\n",
    "\n",
    "i = 1\n",
    "for task in task1_1_results:\n",
    "    task_path = os.path.join(path, 'result', 'task1_1_%d.csv'%i)\n",
    "    i += 1\n",
    "    print(task_path)\n",
    "    task.to_csv(task_path)"
   ]
  },
  {
   "cell_type": "code",
   "execution_count": 62,
   "id": "520ad8e2-52f0-4951-9828-749d322e003c",
   "metadata": {},
   "outputs": [],
   "source": [
    "# task1_1_1.value_counts(subset=['recently_logged', 'learn_time']) # 注意到 recently_logged 为 '--' 和 learning_time 为 '0' 是必然的\n",
    "task1_1_1.loc[task1_1_1['recently_logged'] == '--', 'recently_logged'] = task1_1_1['register_time']\n",
    "# task1_1_1.value_counts(subset=['recently_logged', 'learn_time'])\n",
    "task1_1_1.to_csv(os.path.join(result_dir, 'task1_2.csv'))"
   ]
  },
  {
   "cell_type": "code",
   "execution_count": null,
   "id": "965d4d6d-5b1c-4fd5-a36f-f086f11cdfa4",
   "metadata": {},
   "outputs": [],
   "source": []
  }
 ],
 "metadata": {
  "kernelspec": {
   "display_name": "py38",
   "language": "python",
   "name": "py38"
  },
  "language_info": {
   "codemirror_mode": {
    "name": "ipython",
    "version": 3
   },
   "file_extension": ".py",
   "mimetype": "text/x-python",
   "name": "python",
   "nbconvert_exporter": "python",
   "pygments_lexer": "ipython3",
   "version": "3.8.19"
  }
 },
 "nbformat": 4,
 "nbformat_minor": 5
}
