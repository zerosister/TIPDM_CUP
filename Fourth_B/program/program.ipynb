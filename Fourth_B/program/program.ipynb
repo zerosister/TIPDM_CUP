{
 "cells": [
  {
   "cell_type": "markdown",
   "id": "1555c093-8659-4795-be5f-d5c737687b58",
   "metadata": {},
   "source": [
    "# programs"
   ]
  },
  {
   "cell_type": "code",
   "execution_count": 19,
   "id": "59ea3c43-9b3e-4967-8e4a-03d0ff03d183",
   "metadata": {},
   "outputs": [],
   "source": [
    "# SetUP\n",
    "import pandas as pd\n",
    "import matplotlib.pyplot as plt\n",
    "import numpy as np\n",
    "import os\n",
    "\n",
    "\n",
    "plt.rcParams['font.sans-serif'] = 'SimHei' # 设置中文显示\n",
    "plt.rcParams['axes.unicode_minus'] = False\n",
    "\n",
    "project_path = os.path.join(os.getcwd(), os.path.pardir)\n",
    "result_path = os.path.join(project_path, 'result')"
   ]
  },
  {
   "cell_type": "code",
   "execution_count": 20,
   "id": "7d77961d-4cf8-43a3-837e-b82559188cbd",
   "metadata": {},
   "outputs": [],
   "source": [
    "att1 = pd.read_excel(os.path.join(project_path, 'att1.xlsx'))\n",
    "att2 = pd.read_excel(os.path.join(project_path, 'att2.xlsx'))\n",
    "att3 = pd.read_excel(os.path.join(project_path, 'att3.xlsx'))\n",
    "att4 = pd.read_excel(os.path.join(project_path, 'att4.xlsx'))"
   ]
  },
  {
   "cell_type": "code",
   "execution_count": 6,
   "id": "a0baf597-d3a0-49dc-b760-a3de9a6fb92c",
   "metadata": {},
   "outputs": [
    {
     "name": "stdout",
     "output_type": "stream",
     "text": [
      "        序号             企业名称 产品通用名称 产品形态   总氮百分比  P2O5百分比  K2O百分比 含氯情况  有机质百分比  \\\n",
      "0        1     安徽中元化肥股份有限公司   复混肥料   颗粒  0.1300   0.1700  0.2000   低氯    0.00   \n",
      "1        2     安徽中元化肥股份有限公司   复混肥料   颗粒  0.1300   0.1700  0.2000   中氯    0.00   \n",
      "2        3     安徽中元化肥股份有限公司   复混肥料   颗粒  0.2000   0.1500  0.1600   低氯    0.00   \n",
      "3        4     安徽中元化肥股份有限公司   复混肥料   颗粒  0.2600   0.1300  0.1200   低氯    0.00   \n",
      "4        5     安徽中元化肥股份有限公司   复混肥料   颗粒  0.2600   0.1300  0.1200   中氯    0.00   \n",
      "...    ...              ...    ...  ...     ...      ...     ...  ...     ...   \n",
      "2920  2921   安徽泰又丰有机肥科技有限公司   有机肥料   粉状  0.0167   0.0167  0.0167   无氯    0.45   \n",
      "2921  2922  滁州市塔山生物有机肥料有限公司   有机肥料   粉状  0.0167   0.0167  0.0167   无氯    0.45   \n",
      "2922  2923  利辛县鑫圣农业科技有限责任公司   有机肥料   粉状  0.0167   0.0167  0.0167   无氯    0.45   \n",
      "2923  2924  利辛县鑫圣农业科技有限责任公司   有机肥料   颗粒  0.0167   0.0167  0.0167   无氯    0.45   \n",
      "2924  2925     六安亿牛生物科技有限公司   有机肥料   粉状  0.0167   0.0167  0.0167   无氯    0.45   \n",
      "\n",
      "                正式登记证号        发证日期      有效期  \n",
      "0     皖农肥(2016)准字4255号  2016-01-08  2021-01  \n",
      "1     皖农肥(2016)准字4256号  2016-01-08  2021-01  \n",
      "2     皖农肥(2016)准字4257号  2016-01-08  2021-01  \n",
      "3     皖农肥(2016)准字4258号  2016-01-08  2021-01  \n",
      "4     皖农肥(2016)准字4259号  2016-01-08  2021-01  \n",
      "...                ...         ...      ...  \n",
      "2920  皖农肥（2021）准字7174号    2021-3-8       5年  \n",
      "2921  皖农肥（2021）准字7175号    2021-3-8       5年  \n",
      "2922  皖农肥（2021）准字7176号    2021-3-8       5年  \n",
      "2923  皖农肥（2021）准字7177号    2021-3-8       5年  \n",
      "2924  皖农肥（2021）准字7178号   2021-3-17       5年  \n",
      "\n",
      "[2925 rows x 12 columns] \n",
      "\n",
      "        序号            企业名称     产品通用名称  产品形态   总氮百分比  P2O5百分比  K2O百分比 含氯情况  \\\n",
      "0        1  武汉楚天艾科生物工程有限公司  有机-无机复混肥料    粒状  0.0900   0.0600  0.0000   无氯   \n",
      "1        2   嘉施利（应城）化肥有限公司       复混肥料    粒状  0.1700   0.1700  0.0700   低氯   \n",
      "2        3   嘉施利（应城）化肥有限公司       复混肥料    粒状  0.2000   0.0500  0.1500   无氯   \n",
      "3        4   嘉施利（应城）化肥有限公司       复混肥料    粒状  0.2600   0.0800  0.1000   中氯   \n",
      "4        5     湖北澳特尔化工有限公司       复混肥料    粒状  0.1500   0.1500  0.1500   无氯   \n",
      "...    ...             ...        ...   ...     ...      ...     ...  ...   \n",
      "7614  2231      广西田丰肥业有限公司  有机-无机复混肥料    粒状  0.0800   0.0300  0.0400   低氯   \n",
      "7615  2232    广西佳旺生物科技有限公司       有机肥料    粉状  0.0167   0.0167  0.0167   无氯   \n",
      "7616  2233  广西海源生态农业开发有限公司       有机肥料  粉、粒状  0.0167   0.0167  0.0167   无氯   \n",
      "7617  2234   广西亿裕发生态肥业有限公司       有机肥料    粉状  0.0167   0.0167  0.0167   无氯   \n",
      "7618  2235      广西群星肥业有限公司       有机肥料    粉状  0.0167   0.0167  0.0167   无氯   \n",
      "\n",
      "      有机质百分比             正式登记证号        发证日期      有效期     产品商品名称 适用作物  总无机养分百分比  \n",
      "0       0.20   鄂农肥（2009）准字0001号  2014-02-25  2019-02        NaN  NaN    0.1500  \n",
      "1       0.00   鄂农肥（2009）准字0004号  2014-08-15  2019-08        NaN  NaN    0.4100  \n",
      "2       0.00   鄂农肥（2009）准字0005号  2014-08-15  2019-08        NaN  NaN    0.4000  \n",
      "3       0.00   鄂农肥（2009）准字0006号  2014-08-15  2019-08        NaN  NaN    0.4400  \n",
      "4       0.00  鄂农肥（2009）准字00079号  2014-10-25  2019-10        NaN  NaN    0.4500  \n",
      "...      ...                ...         ...      ...        ...  ...       ...  \n",
      "7614    0.20   桂农肥(2010)准字1143号  2020-11-04  2025-11  有机-无机复混肥料  NaN    0.1500  \n",
      "7615    0.45   桂农肥(2015)准字2257号  2020-11-16  2025-11      精制有机肥  NaN    0.0501  \n",
      "7616    0.45   桂农肥(2015)准字2304号  2020-11-30  2025-11      精制有机肥  NaN    0.0501  \n",
      "7617    0.45   桂农肥(2016)准字2591号  2020-12-14  2022-01     莫老爷有机肥  NaN    0.0501  \n",
      "7618    0.45   桂农肥(2019)准字3446号  2020-12-16  2024-02      精制有机肥  NaN    0.0501  \n",
      "\n",
      "[7619 rows x 15 columns] \n",
      "\n",
      "      序号   企业名称  蘑菇渣  石灰渣  酒精发酵浓缩液   磷酸一铵     尿素  氧化钾  草木灰    氯化钾  ...  牛骨粉  \\\n",
      "0      1    ID1  NaN  NaN      NaN  0.199  0.100  NaN  NaN  0.030  ...  NaN   \n",
      "1      2    ID1  NaN  NaN      NaN  0.250  0.117  NaN  NaN  0.150  ...  NaN   \n",
      "2      3    ID1  NaN  NaN      NaN    NaN  0.225  NaN  NaN  0.115  ...  NaN   \n",
      "3      4    ID1  NaN  NaN      NaN  0.123  0.292  NaN  NaN  0.135  ...  NaN   \n",
      "4      5    ID1  NaN  NaN      NaN  0.103    NaN  NaN  NaN  0.135  ...  NaN   \n",
      "..   ...    ...  ...  ...      ...    ...    ...  ...  ...    ...  ...  ...   \n",
      "545  546  ID200  NaN  NaN      NaN    NaN    NaN  NaN  NaN    NaN  ...  NaN   \n",
      "546  547  ID201  NaN  NaN      NaN    NaN    NaN  NaN  NaN    NaN  ...  NaN   \n",
      "547  548  ID202  NaN  NaN      NaN    NaN    NaN  NaN  NaN    NaN  ...  NaN   \n",
      "548  549  ID204  NaN  NaN      NaN    NaN    NaN  NaN  NaN    NaN  ...  NaN   \n",
      "549  550  ID205  NaN  NaN      NaN    NaN    NaN  NaN  NaN    NaN  ...  NaN   \n",
      "\n",
      "     谷壳  生物菌剂  奶盖  酒糟粉  大颗粒磷酸二铵  大颗粒硫酸钾  大颗粒硫酸铵   种  55磷酸一铵  \n",
      "0   NaN   NaN NaN  NaN      NaN     NaN     NaN NaN     NaN  \n",
      "1   NaN   NaN NaN  NaN      NaN     NaN     NaN NaN     NaN  \n",
      "2   NaN   NaN NaN  NaN      NaN     NaN     NaN NaN     NaN  \n",
      "3   NaN   NaN NaN  NaN      NaN     NaN     NaN NaN     NaN  \n",
      "4   NaN   NaN NaN  NaN      NaN     NaN     NaN NaN     NaN  \n",
      "..   ..   ...  ..  ...      ...     ...     ...  ..     ...  \n",
      "545 NaN   NaN NaN  NaN      NaN     NaN     NaN NaN     NaN  \n",
      "546 NaN   NaN NaN  NaN      NaN     NaN     NaN NaN     NaN  \n",
      "547 NaN   NaN NaN  NaN      NaN     NaN     NaN NaN     NaN  \n",
      "548 NaN   NaN NaN  NaN      NaN     NaN     NaN NaN     NaN  \n",
      "549 NaN   NaN NaN  NaN      NaN     NaN     NaN NaN     NaN  \n",
      "\n",
      "[550 rows x 296 columns] \n",
      "\n",
      "      序号     产品通用名称                                               技术指标  \\\n",
      "0      1       复混肥料                总养分（N+P2O5+K2O）≥35%（14-8-13）   硫酸钾型   \n",
      "1      2       复混肥料                   总养分（N+P2O5+K2O）≥30%（15-6-9）   中氯   \n",
      "2      3       有机肥料                             N+P2O5+K2O≥5% ,有机质≥45%   \n",
      "3      4       复混肥料               总养分(N+P2O5+K2O)≥43％ （10―18―15）含氯（低氯）   \n",
      "4      5       有机肥料      总养分(N+P2O5+K2O)≥5.0％ 有机质≥45％ 酸碱度（PH）  5.5∽8.5   \n",
      "..   ...        ...                                                ...   \n",
      "195  196  有机-无机复混肥料  有机-无机肥复混肥料（Ⅰ型）6-8-6（含氯 ）总含量：N+P2O5+K2O≥20%，有机质...   \n",
      "196  197  有机-无机复混肥料                      总养份≥29％（9-7-13）  有机质≥20％   含氯   \n",
      "197  198       有机肥料       总养分(N+P2O5+K2O)≥5.0％ 有机质≥45％ 酸碱度（PH） 5.5∽8.5   \n",
      "198  199       有机肥料                        总养分（N+P2O5+K2O）≥5.0%有机质≥45%   \n",
      "199  200  有机-无机复混肥料        总养分≥25%（N+P2O5+K2O）   有机质  ≥15%     含氯  II型   \n",
      "\n",
      "                                                 原料与占比  \n",
      "0    尿素 (占15%),高岭土 (占15.5%),硫酸铵 (占28.16%),磷酸一铵 (占16...  \n",
      "1    尿素 (占15%),高岭土 (占30.23%),氯化铵 (占28%),磷酸一铵 (占12.2...  \n",
      "2               木薯渣（干基） (占84.9%),菌种 (占0.1%),黄豆渣 (占15%)  \n",
      "3        尿素 (占15%),高岭土 (占20%),粉状磷酸一铵 (占40%),氯化钾 (占25%)  \n",
      "4           畜禽粪便 (占50%),菌种 (占2%),桐 麸 (占30%),滤 泥 (占18%)  \n",
      "..                                                 ...  \n",
      "195  尿素 (占5%),膨润土 (占25%),氯化铵 (占10%),氯化钾 (占10%),磷酸一铵...  \n",
      "196  尿素 (占16.5%),酒糟 (占13%),滤泥 (占33.2%),磷酸一铵 (占15.6%...  \n",
      "197          畜禽粪便 (占50%),菌种 (占2%),桐 麸 (占30%),滤泥 (占18%)  \n",
      "198  牛粪 (占85%),发酵剂 (占0.03%),鸡粪 (占10%), (占0%), (占0%)...  \n",
      "199  尿素 (占26%),高岭土 (占10%),55磷酸一铵 (占12%),氯化钾 (占12%),...  \n",
      "\n",
      "[200 rows x 4 columns] \n",
      "\n"
     ]
    }
   ],
   "source": [
    "print(att1,'\\n')\n",
    "print(att2,'\\n')\n",
    "print(att3,'\\n')\n",
    "print(att4,'\\n')"
   ]
  },
  {
   "cell_type": "code",
   "execution_count": 7,
   "id": "97b51d03-5a94-4be9-8524-ad34ceedd44c",
   "metadata": {},
   "outputs": [
    {
     "data": {
      "text/plain": [
       "产品通用名称\n",
       "复混肥料            1647\n",
       "掺混肥料             941\n",
       "有机肥料             180\n",
       "有机-无机复混肥料        124\n",
       "有机-无机   复混肥料       9\n",
       "床土调酸剂              7\n",
       "有机无机    复混肥料       5\n",
       "稻苗床土调酸剂            3\n",
       "\\n有机肥料\\n           3\n",
       "有机－无机复混肥料          2\n",
       "有机肥料\\n             1\n",
       "有机肥料               1\n",
       "有机无机   复混肥料        1\n",
       " 掺混肥料              1\n",
       "Name: count, dtype: int64"
      ]
     },
     "execution_count": 7,
     "metadata": {},
     "output_type": "execute_result"
    }
   ],
   "source": [
    "att1['产品通用名称'].value_counts()"
   ]
  },
  {
   "cell_type": "code",
   "execution_count": 8,
   "id": "4f6877b7-2208-4c64-9775-0f6a9bb7f84d",
   "metadata": {},
   "outputs": [
    {
     "data": {
      "text/plain": [
       "技术指标\n",
       "总养分≥35%                                                                                         2\n",
       "有机质≥60%总养分≥5%                                                                                   2\n",
       "N+P2O5+K2O≥40%                                                                                  2\n",
       "N+P2O5+K2O≥35%                                                                                  2\n",
       "有机质≥50%，总养分≥6%                                                                                  2\n",
       "                                                                                               ..\n",
       "N+P2O5+K2O≥40.0%（30-5-5）含氯（中氯）                                                                  1\n",
       "总养分（（N+P2O5+K2O）≥15.0%(9-4.5-1.5)  水溶性锌≥0.2%                                                    1\n",
       "N+P2O5+K2O≥7%，有机质≥45% .                                                                         1\n",
       "有机质的质量分数（以烘干基计），%  ≥45总养分（氮+五氧化二磷+氧化钾）的质量分数（以烘干基计），%  ≥5.0水份（鲜样）的质量分数，%，≤30酸碱度（PH）   5.5-8.5    1\n",
       "总养分≥25%（N+P2O5+K2O）   有机质  ≥15%     含氯  II型                                                     1\n",
       "Name: count, Length: 191, dtype: int64"
      ]
     },
     "execution_count": 8,
     "metadata": {},
     "output_type": "execute_result"
    }
   ],
   "source": [
    "att4['技术指标'].value_counts()"
   ]
  },
  {
   "cell_type": "code",
   "execution_count": 9,
   "id": "a6fd1b06-f04f-40d9-9c10-5407a15a29a8",
   "metadata": {},
   "outputs": [
    {
     "data": {
      "text/plain": [
       "产品通用名称\n",
       "复混肥料         5954\n",
       "有机肥料         1045\n",
       "有机-无机复混肥料     611\n",
       "床土调酸剂           9\n",
       "Name: count, dtype: int64"
      ]
     },
     "execution_count": 9,
     "metadata": {},
     "output_type": "execute_result"
    }
   ],
   "source": [
    "att2['产品通用名称'].value_counts()"
   ]
  },
  {
   "cell_type": "code",
   "execution_count": 7,
   "id": "338a1336-6131-4758-bab2-166a90a057d3",
   "metadata": {},
   "outputs": [
    {
     "name": "stdout",
     "output_type": "stream",
     "text": [
      "0.72 0.0\n"
     ]
    }
   ],
   "source": [
    "# task 2.1\n",
    "df = att2[att2['产品通用名称'] == '复混肥料']\n",
    "# print(df['总无机养分百分比'].unique())\n",
    "# print(df['总无机养分百分比'].isna().value_counts())\n",
    "M = np.max(df['总无机养分百分比'])\n",
    "m = np.min(df['总无机养分百分比'])\n",
    "print(M, m)\n",
    "\n",
    "# 观察到无机物含量为 0，\n",
    "# df['总氮百分比'].value_counts()\n",
    "# 去除值为零的\n",
    "# df = df[df['总无机养分百分比'] != 0]\n",
    "# # print(df['总无机养分百分比'].isna().value_counts())\n",
    "# M = np.max(df['总无机养分百分比'])\n",
    "# m = np.min(df['总无机养分百分比'])\n",
    "# print(M, m)"
   ]
  },
  {
   "cell_type": "code",
   "execution_count": 8,
   "id": "c60252aa-00ac-4a2c-ae3b-a791a6efc3c3",
   "metadata": {},
   "outputs": [
    {
     "name": "stderr",
     "output_type": "stream",
     "text": [
      "/tmp/ipykernel_26128/147878346.py:1: SettingWithCopyWarning: \n",
      "A value is trying to be set on a copy of a slice from a DataFrame.\n",
      "Try using .loc[row_indexer,col_indexer] = value instead\n",
      "\n",
      "See the caveats in the documentation: https://pandas.pydata.org/pandas-docs/stable/user_guide/indexing.html#returning-a-view-versus-a-copy\n",
      "  df.loc[:, 'tags'] = (df['总无机养分百分比']-m) / ((M-m+0.01) / 10) + 1\n"
     ]
    },
    {
     "name": "stdout",
     "output_type": "stream",
     "text": [
      "tags\n",
      "1.0        3\n",
      "4.0      430\n",
      "5.0     1097\n",
      "6.0     1470\n",
      "7.0     2507\n",
      "8.0      434\n",
      "9.0       12\n",
      "10.0       1\n",
      "Name: count, dtype: int64\n"
     ]
    }
   ],
   "source": [
    "df.loc[:, 'tags'] = (df['总无机养分百分比']-m) / ((M-m+0.01) / 10) + 1\n",
    "df.loc[:, 'tags'] = df['tags'].astype(int)\n",
    "df.to_excel(os.path.join(result_path, 'result2_1.xlsx'))\n",
    "g1 = df['tags'].value_counts().sort_index()\n",
    "print(g1)"
   ]
  },
  {
   "cell_type": "code",
   "execution_count": 9,
   "id": "e8d79168-6af0-477b-9223-c80eaa58e1e7",
   "metadata": {},
   "outputs": [
    {
     "data": {
      "image/png": "[encoded data removed]",
      "text/plain": [
       "<Figure size 600x600 with 1 Axes>"
      ]
     },
     "metadata": {},
     "output_type": "display_data"
    }
   ],
   "source": [
    "# 画图\n",
    "x = g1.index\n",
    "y = g1.values\n",
    "plt.figure(figsize=(6, 6))\n",
    "plt.bar(x, y)\n",
    "strs = []\n",
    "increment = (M-m)/10\n",
    "for i in range(0,11,1):\n",
    "    j = i * increment\n",
    "    s = '标签%d_%.2f~%.2f'%(i, j, j+increment)\n",
    "    strs.append(s)\n",
    "plt.xticks(range(0, 11, 1), strs, rotation=45)\n",
    "plt.xlabel('总无机养分百分比')\n",
    "\n",
    "plt.title('总无机养分百分比肥料产品数据')\n",
    "plt.ylabel('肥料产品/个')\n",
    "\n",
    "for i in range(len(y)):\n",
    "    height = y[i] + 30\n",
    "    plt.text(x[i], height, y[i], ha='center')\n",
    "\n",
    "plt.savefig(os.path.join(result_path, 'task2_1.png'))\n",
    "plt.show()"
   ]
  },
  {
   "cell_type": "code",
   "execution_count": 127,
   "id": "f3dae34b-b2a7-4ff9-a338-d07ba3a33eab",
   "metadata": {},
   "outputs": [
    {
     "data": {
      "text/plain": [
       "tags\n",
       "7.0     2507\n",
       "6.0     1470\n",
       "5.0     1097\n",
       "8.0      434\n",
       "4.0      430\n",
       "9.0       12\n",
       "1.0        3\n",
       "10.0       1\n",
       "Name: count, dtype: int64"
      ]
     },
     "execution_count": 127,
     "metadata": {},
     "output_type": "execute_result"
    }
   ],
   "source": [
    "g1.sort_values(inplace=True, ascending=False)\n",
    "g1"
   ]
  },
  {
   "cell_type": "code",
   "execution_count": 141,
   "id": "203b633a-b3d4-4dc5-a87f-480469a9899b",
   "metadata": {},
   "outputs": [
    {
     "name": "stdout",
     "output_type": "stream",
     "text": [
      "0.9 0.0\n"
     ]
    }
   ],
   "source": [
    "df = att2[att2['产品通用名称'] == '有机肥料']\n",
    "M = np.max(df['有机质百分比'])\n",
    "m = np.min(df['有机质百分比'])\n",
    "print(M, m)"
   ]
  },
  {
   "cell_type": "code",
   "execution_count": 142,
   "id": "949f99f3-3008-4cdf-9281-7eb06ccfc132",
   "metadata": {},
   "outputs": [
    {
     "name": "stderr",
     "output_type": "stream",
     "text": [
      "/tmp/ipykernel_2796/1620190403.py:2: SettingWithCopyWarning: \n",
      "A value is trying to be set on a copy of a slice from a DataFrame.\n",
      "Try using .loc[row_indexer,col_indexer] = value instead\n",
      "\n",
      "See the caveats in the documentation: https://pandas.pydata.org/pandas-docs/stable/user_guide/indexing.html#returning-a-view-versus-a-copy\n",
      "  df.loc[:, 't2s'] = (df['有机质百分比']-m) / ((M-m+0.01) / 10) + 1\n"
     ]
    },
    {
     "data": {
      "text/plain": [
       "t2s\n",
       "1.0       8\n",
       "5.0     857\n",
       "6.0      46\n",
       "7.0      97\n",
       "8.0      27\n",
       "9.0       7\n",
       "10.0      3\n",
       "Name: count, dtype: int64"
      ]
     },
     "execution_count": 142,
     "metadata": {},
     "output_type": "execute_result"
    }
   ],
   "source": [
    "# 观察到 45% 有机质含量的化肥数量过少，将其删除\n",
    "df.loc[:, 't2s'] = (df['有机质百分比']-m) / ((M-m+0.01) / 10) + 1\n",
    "df.loc[:, 't2s'] = df['t2s'].astype(int)\n",
    "g1 = df['t2s'].value_counts().sort_index()\n",
    "g1"
   ]
  },
  {
   "cell_type": "code",
   "execution_count": 143,
   "id": "349cdcc0-ca9e-4756-9f40-c8ff110d315d",
   "metadata": {},
   "outputs": [
    {
     "name": "stdout",
     "output_type": "stream",
     "text": [
      "0.43 0.0501\n"
     ]
    },
    {
     "name": "stderr",
     "output_type": "stream",
     "text": [
      "/tmp/ipykernel_2796/379670291.py:4: SettingWithCopyWarning: \n",
      "A value is trying to be set on a copy of a slice from a DataFrame.\n",
      "Try using .loc[row_indexer,col_indexer] = value instead\n",
      "\n",
      "See the caveats in the documentation: https://pandas.pydata.org/pandas-docs/stable/user_guide/indexing.html#returning-a-view-versus-a-copy\n",
      "  df.loc[:, 'tags'] = (df['总无机养分百分比']-m) / ((M-m+0.01) / 10) + 1\n",
      "/tmp/ipykernel_2796/379670291.py:7: SettingWithCopyWarning: \n",
      "A value is trying to be set on a copy of a slice from a DataFrame.\n",
      "Try using .loc[row_indexer,col_indexer] = value instead\n",
      "\n",
      "See the caveats in the documentation: https://pandas.pydata.org/pandas-docs/stable/user_guide/indexing.html#returning-a-view-versus-a-copy\n",
      "  df['tag_tuple'] = list(zip(df['tags'], df['t2s']))\n"
     ]
    }
   ],
   "source": [
    "M = np.max(df['总无机养分百分比'])\n",
    "m = np.min(df['总无机养分百分比'])\n",
    "print(M, m)\n",
    "df.loc[:, 'tags'] = (df['总无机养分百分比']-m) / ((M-m+0.01) / 10) + 1\n",
    "df.loc[:, 'tags'] = df['tags'].astype(int)\n",
    "g1 = df['tags'].value_counts().sort_index()\n",
    "df['tag_tuple'] = list(zip(df['tags'], df['t2s']))\n",
    "df1 = df.drop(['tags', 't2s'], axis=1)\n",
    "df1.to_excel(os.path.join(result_path, 'result2_2.xlsx'))"
   ]
  },
  {
   "cell_type": "code",
   "execution_count": 149,
   "id": "fbbe7803-6464-467c-9e74-bf7a15683cd8",
   "metadata": {},
   "outputs": [
    {
     "data": {
      "image/png": "[encoded data removed]",
      "text/plain": [
       "<Figure size 800x600 with 2 Axes>"
      ]
     },
     "metadata": {},
     "output_type": "display_data"
    }
   ],
   "source": [
    "# 创建数据透视表，统计每个坐标的出现次数\n",
    "pivot_table = df.pivot_table(index='t2s', columns='tags', aggfunc='size', fill_value=0)\n",
    "\n",
    "# 使用 Matplotlib 绘制热力图\n",
    "plt.figure(figsize=(8, 6))\n",
    "plt.imshow(pivot_table, cmap='YlGnBu', interpolation='nearest')\n",
    "plt.colorbar(label='个数')\n",
    "\n",
    "# 设置坐标轴标签\n",
    "plt.xticks(ticks=np.arange(len(pivot_table.columns)), labels=pivot_table.columns)\n",
    "plt.yticks(ticks=np.arange(len(pivot_table.index)), labels=pivot_table.index)\n",
    "\n",
    "plt.title('有机肥料产品分布热力图')\n",
    "plt.xlabel('无机养分标签，1~10表示含量由小到大')\n",
    "plt.ylabel('有机养分标签，1~10表示含量由小到大')\n",
    "\n",
    "plt.savefig(os.path.join(result_path, 'task2_2.png'))\n",
    "plt.show()"
   ]
  },
  {
   "cell_type": "code",
   "execution_count": 150,
   "id": "f68fc5f2-4df3-4cdd-98b3-0736eca19002",
   "metadata": {},
   "outputs": [
    {
     "data": {
      "text/plain": [
       "tag_tuple\n",
       "(1.0, 5.0)    802\n",
       "(1.0, 7.0)     68\n",
       "(2.0, 5.0)     50\n",
       "Name: count, dtype: int64"
      ]
     },
     "execution_count": 150,
     "metadata": {},
     "output_type": "execute_result"
    }
   ],
   "source": [
    "df1['tag_tuple'].value_counts().head(3)"
   ]
  },
  {
   "cell_type": "code",
   "execution_count": null,
   "id": "259e5987-5d84-487e-8da8-e241c65e82b0",
   "metadata": {},
   "outputs": [],
   "source": [
    "# task 2.3\n"
   ]
  },
  {
   "cell_type": "markdown",
   "id": "5215eb94-eced-46ea-8569-3b06d3557248",
   "metadata": {},
   "source": [
    "# task 4"
   ]
  },
  {
   "cell_type": "code",
   "execution_count": 3,
   "id": "625b17ea-60a8-4d20-85c5-5468d6ed0c1d",
   "metadata": {},
   "outputs": [
    {
     "name": "stdout",
     "output_type": "stream",
     "text": [
      "总养分（N+P2O5+K2O）≥35%（14-8-13）   硫酸钾型\n",
      "总养分（N+P2O5+K2O）≥30%（15-6-9）   中氯\n",
      "N+P2O5+K2O≥5% ,有机质≥45%\n",
      "总养分(N+P2O5+K2O)≥43％ （10―18―15）含氯（低氯）\n",
      "总养分(N+P2O5+K2O)≥5.0％ 有机质≥45％ 酸碱度（PH）  5.5∽8.5\n",
      "总养分(N+P2O5+K2O)≥20％ （10―4―6）有机质≥20％含氯\n",
      "总养分（N+P2O5+K2O）≥5%，有机质≥45%\n",
      "N+P2O5+K2O  ≥6%         有机质≥50%水分≤30%酸碱度（pH）5.5—8.5\n",
      "N+P2O5+K2O  ≥7%         有机质≥45%水分≤30%酸碱度（pH）5.5—8.5\n",
      "N+P2O5+K2O  ≥7%         有机质≥55%水分≤30%酸碱度（pH）5.5—8.5\n",
      "N+P2O5+K2O  ≥9%         有机质≥45%水分≤30%酸碱度（pH）5.5—8.5\n",
      "N+P2O5+K2O  ≥10%         有机质≥45%水分≤30%酸碱度（pH）5.5—8.5\n",
      "N+P2O5 +K2O ≥35%  （15-8-12）高氯\n",
      "N+P2O5+K2O  ≥10%         有机质≥45%水分≤30%酸碱度（pH）5.5—8.5\n",
      "N+P2O5+K2O  ≥11%         有机质≥45%水分≤30%酸碱度（pH）5.5—8.5\n",
      "N+P2O5+K2O  ≥12%         有机质≥45%水分≤30%酸碱度（pH）5.5—8.5\n",
      "N+P2O5 +K2O ≥30%  （12-8-10）高氯\n",
      "N+P2O5 +K2O ≥30%  （14-7-9）高氯\n",
      "N+P2O5 +K2O ≥40%  （17-8-15）   硫酸钾型\n",
      "N+P2O5 +K2O ≥46%  （15-13-18）含氯 （高氯）\n",
      "N+P2O5+K2O≥30%，（16-6-8），含氯（低氯）\n",
      "总养分（N+P2O5+K2O）≥5.0%有机质≥45%\n",
      "有机质的质量分数（以烘干基计），%\n",
      "N+P2O5+K2O≥5%，有机质≥45%\n",
      "N+P2O5 +K2O ≥38%  （12-8-18）硫酸钾型\n",
      "1、养分（N+P2O5+K2O）≥25%2、有机质≥15%\n",
      "N+P2O5+K2O≥12% 有机质≥45%\n",
      "总养分（N+P2O5+K2O）≥40%（17-7-16）硫酸钾型 含硝态氮\n",
      "总养分≥5.0% 有机质≧45%含氯：0\n",
      "总养分(N+P2O5+K2O)≥5.0%      有机质≥45%\n",
      "氮：10;磷：8；钾：12；有机质≥15%（II型），含氯（低氯）\n",
      "NPK≥38%\n",
      "N+P2O5+K2O≥45%\n",
      "N+P2O5+K2O≥40%\n",
      "N+P5O2+K2O≥5%   有机质≥70%\n",
      "总养分≥31%（16-5-10），有机质≥15% ，含氯（中氯)\n",
      "有机质（以烘干基）≥55%                                                                                                                  总养分（N+P2O5+K2O)≥6%\n",
      "总养分（N+P2O5+K2O），%   ≥10有机质   %                              ≥60\n",
      "N+P2O5+K2O≥40%  17-10-13 含氯（中氯）\n",
      "总养分≥5.0%有机质≥45%水分≤30%\n",
      "N+P2O5+K2O≥5.0%有机质≥45%不含氯\n",
      "有机质≥15%   总养分≥32.0%  （18-6-8）  含氯\n",
      "总养分≥35%\n",
      "总养分≥30.0%\n",
      "总养分≧29%（13-6-10）有机质≥15 含氯\n",
      "总养分≧30%（15-6-9）有机质≥15  含氯\n",
      "总养分≧22%（12-4-6）有机质≥20 含氯\n",
      "总养分≧30%（15-7-8）有机质≥15%  含氯\n",
      "N+P2O5+K2O≥35%\n",
      "N+P2O5+K2O≥33%\n",
      "总氧分（N+P2O5+K2O）≧27%（22-0-5）高氯\n",
      "总养分≥51%（N-P2O5-K2O）配比：17-17-17含硫\n",
      "N+P2O5+K2O≥41%     配比式：20-6-15含氯（中氯）\n",
      "有机质的质量分数（以烘干基计）≥45%总养分（氮＋五氧化二磷＋氧化钾）的质量分数（以烘干基计）≥5％\n",
      "有机质的质量分数≥45.0%总养分的质量分数≥5.0%水分的质量分数≤30.0%酸碱度=5.5～8.5总砷≤15mg/kg总汞≤2mg/kg总铅≤50mg/kg总镉≤3mg/kg总铬≤150mg/kg\n",
      "总养分≧22%（8-6-8）   有机质≥20\n",
      "总养分≧40%（18-10-12）中氯、水溶性磷\n",
      "含氯（高氯）\n",
      "总养分（N+P₂O5+K20)≥25%，有机质≥15%\n",
      "总养分：（N+P2O5+K2O） ≥ 36%   (14-6-16）有机质≥15%     含氯\n",
      "总养分（N+P2O5+K2O）≥51% （20-5-26）含氯\n",
      "总养分：（N+P₂O5+K₂O)≥15%，有机质≥20%\n",
      "有机质≥45%总养分（氮+五氧化二磷+氧化钾）≥5%\n",
      "总养分（N+P2O5+K2O）≥5%           有机质（以干基计）≥45%               水分≤30%\n",
      "有机-无机肥复混肥料（Ⅱ型）8-8-14（硫酸钾型 ）总含量：N+P2O5+K2O≥30%，有机质≥15%\n",
      "总养分（N＋P2O5＋K2O）≥6%有机质≥45%\n",
      "N+P2O5+K2O≥45.0%（15-15-15）硫酸钾\n",
      "N+P2O5+K2O≥51.0%（17-17-17）含氯（中氯）\n",
      "N+P2O5+K2O≥54.0%（18-18-18）含氯（低氯）\n",
      "N+P2O5+K2O≥35.0%（30-0-5）含氯（中氯）\n",
      "N+P2O5+K2O≥40.0%（30-5-5）含氯（中氯）\n",
      "总养分（（N+P2O5+K2O）≥15.0%(9-4.5-1.5)  水溶性锌≥0.2%\n",
      "N+P2O5+K2O≥7%，有机质≥45% .\n",
      "有机质的质量分数（以烘干基计），%  ≥45总养分（氮+五氧化二磷+氧化钾）的质量分数（以烘干基计），%  ≥5.0水份（鲜样）的质量分数，%，≤30酸碱度（PH）   5.5-8.5\n",
      "有机质≥45%，总养分：N+P205+K2O≥5%含氯\n",
      "有机质≧45%; 总氧份≧5%；\n",
      "有机质≥45%    总养分≥5%\n",
      "有机质≥45%，总养分：N+P205+K2O≥5%含氯\n",
      "总养分N+P2O5+K2O≥25%配合式:16-0-9；含氯（高氯）、枸溶性磷\n",
      "总养分(N+P2 O5+K2 O)≥7%、有机质≥45%\n",
      "总养分≥32%（N-P2O5-K2O）配比：15-6-11含氯（高氯）、枸溶性磷\n",
      "总养分（N+P2O5+K2O）≥5%有机质≥45%不含氯\n",
      "总养分(N+P2O5+K2O)≥5.0%有机质≥45%\n",
      "总养分（N+P2O5+K2O）≥43% （15-6-22）\n",
      "主要技术指标：N+P2O5+K2O≥40.0%（25-9-6）中氯\n",
      "主要技术指标：N+P2O5+K2O≥45.0%（25-13-7）低氯\n",
      "主要技术指标：N+P2O5+K2O≥51.0%（27-16-8）低氯\n",
      "N+P2O5 +K2O ≥44% （9-9-26）硫酸钾型 水溶性磷\n",
      "N+P2O5+K2O≥30%配合式：15-6-9，有机质≥15%，含氯。\n",
      "总养分≥25%(20-0-5)   含氯（高氯）\n",
      "N+P2O5+K2O≥20%（9-5-6）， 硫基， 有机质≥20%\n",
      "氮+五氧化二磷+氧化钾≥9%，有机质≥45%，酸碱度（PH）：5.5-8.5，水分的质量分数≤30%\n",
      "有机质的质量分数（以烘干基计）69.2%，氮3.25%，五氧化二磷6.21%，氧化钾2.75%\n",
      "高浓度：总养分（N+P2O5+K2O）≥45%   （15-15-15）  含氯（高氯）\n",
      "总养分（N+P2O5+K2O）≥40%  （16-12-12） 含氯（高氯）\n",
      "总养分（N+P2O5+K2O）≧8%,有机质≧45%\n",
      "总养分≥25%\n",
      "总养分N-P2O5-K2O≥40%，配合式：16-8-16，含氯(高氯)，枸溶性磷\n",
      "总养分≥40%硫酸钾型\n",
      "N+P2O5+K2O≥42% 含氯\n",
      "总养分≥10% 有%机质≥60%\n",
      "N+P2O5+K2O≥37%   含氯\n",
      "N+P2O5+K2O≥30 %（16 —5—9），含 氯\n",
      "总养分≥35%\n",
      "总养分（N+ P2O5+K2O）≥25%\n",
      "有机质≥60%总养分≥5%\n",
      "有机质≥45%总养分≥5%\n",
      "有机质≥60%总养分≥5%\n",
      "N+P2O5+K2O≥30%（10-5-15）， 硫基， 有机质≥15%\n",
      "总养分≥43%含氯(中氯)，拘溶性磷\n",
      "总养分≥25%）（15-5-5）高氯拘溶性磷\n",
      "总养分（N+P2O5+K2O）≥5%，有机质≥60%\n",
      "总养分（N+P2O5+K2O）≥12%，有机质≥60%\n",
      "总养分含量≥5，有机质≥60%，水份≤30%\n",
      "总养分≥30%\n",
      "N+P2O5+K2O≥5%；有机质≥80%\n",
      "N+P2O5+K2O≥28%     配比式：15-5-8    含氯（高氯）；含硝态氮\n",
      "N+P2O5+K2O≥50%  （10-10-30）\n",
      "N+P2O5+K2O≥60%  （14.5-25.5-20）\n",
      "总养分：N+P₂O5+K₂O≥25%（18-0-7）含氯（高氯）\n",
      "20-0-5\n",
      "总养分（N+P2O5+K2O）的质量分数≥25%水溶性磷含氯\n",
      "N+P2O5+K2O≥40%\n",
      "有机质≥60%，N-P-K≥5%\n",
      "有机质≥45.0%总养分（N+P2O5+K2O）≥5.0%\n",
      "五氧化二磷5.07%氧化钾2.69%有机质54.9%，技术要求≥45，单项判定：合格总氮2.25%总养分10.01%，技术要求≥5.0，单项判定：合格\n",
      "复混肥料：N+P2O5+K2O≥30% ，配合式：15-6-9，含氯（中氯），枸溶性磷。\n",
      "N+P2O5+K2O≥30%配合式：15-8-12含氯（中氯），枸溶性磷。\n",
      "有机质≥75%      N+P2O5+K2O≥14.0%\n",
      "有机质≥50%N+P2O5+K2O≥10%\n",
      "总养分：N+P2O5+K2O≥5% ； 有机质≥45%；水分≤30%；PH值7.2;净含量：40KG；有效活菌数≥1亿/克。\n",
      "有机质≥45%总养分≥5.0%水份≤30%\n",
      "N+P2O5+K2O≥32%  (18-6-8)含氯（中氯）\n",
      "N-P2O5-K2O≥30%\n",
      "N+P2O5+K2O≥35%\n",
      "N+P2O5+K2O≥42%\n",
      "总养分≥5%有机质≥45%\n",
      "N-P2O5-K2O≥45%15-15-15\n",
      "N+P2O5+K2O≥45%  硫酸钾型\n",
      "总养分≥5%有机质≥45%\n",
      "N+P2O5+K2O≥42%     配比式：12-6-24硫酸钾型；含硝态氮\n",
      "总养分≥25% 有机质≥15%\n",
      "总养分≥29%   枸溶性磷\n",
      "总养分≥29%（15-6-8）含氯（中氯）、枸溶性磷\n",
      "总养分≥33%（15-7-11）含氯（中氯）、枸溶性磷\n",
      "N+P2O5+K2O≥5.0%有机质≥45%\n",
      "复混肥料：N+P2O5+K2O≥30% ，配合式：14-7-9，含氯（中氯），枸溶性磷。\n",
      "总养分≥45%，硫酸钾型\n",
      "总养分≥30%  （12-8-10） 含氯 （中氯）  含枸溶性磷\n",
      "总养分≥35%  （15-8-12） 含氯 （中氯）  含枸溶性磷\n",
      "N+P2O5+K2O≥30%\n",
      "N+P2O+K2O≥ 51%\n",
      "总养分（N+P2O5+K2O）≥45%(18-11-16)含硫，水溶性磷\n",
      "总养分≥45%，氮 、磷 、钾（15-15-15）含氯（高氯）含缩二脲\n",
      "总养分（N＋P2O5＋K2O）≥6.0%有机质≥60%\n",
      "总养分（N+P2O5+K2O）≥33%（16-6-11）含氯（中氯） 枸溶性磷 含硝态氮\n",
      "N+P2O5+K2O≥8%有机质≥95%\n",
      "N+P2O5+K2O≥8%有机质99%\n",
      "氮≥15   有效磷≥5  氧化钾≥5  总养分≥25  （含氯、高氯、构溶性磷）\n",
      "总养分(N+ P2O5+ K2O)≥30%,(14-7-9)，含氯（高氯），枸溶性磷。\n",
      "复混肥料：N+P2O5+K2O≥25% ，配合式：5-10-10，含氯（中氯），枸溶性磷。\n",
      "总养分(N+P2O5+K2O)≥27％ （17-6―12）含氯（中氯）、水溶性磷\n",
      "总养分(N+P2O5+K2O)≥27％ （10―5―12）含氯（中氯）、 枸溶性磷\n",
      "总养分(N+P2O5+K2O)≥25％ （20―0―5）含氯（高氯）\n",
      "N+P2O5+K2O≥51% 硫酸钾型\n",
      "N+P2O5+K2O≥51%\n",
      "氮10、磷5、钾25，总含量≥40.0%（10-5-25）\n",
      "总养分(N+ P2o5+K2O)≥36%\n",
      "总养分(N+ P2o5+K2O)≥45%\n",
      "总养分(N+ P2o5+K2O)≥25%\n",
      "总养分(N+ P2o5+K2O)≥30%\n",
      "总养分(N+ P2o5+K2O)≥48%\n",
      "总养分≥40.0%（18-7-15）含氯（高氯）枸溶性磷\n",
      "总养分（N +P2O5 +K2O）≥33%  含氯（中氯）养分配比：17 - 6 - 10\n",
      "总养分（N +P2O5 +K2O）≥35%  中氯养分配比：18 - 7 - 10\n",
      "总养份≥45%，有机质≥60%不含氯\n",
      "N+P2O5+K2O≥30%（15-5-10），有机质≥15%，含氯\n",
      "N+P2O5+K2O≥5%   有机质≥45%\n",
      "总养分：（N +P2O5 +K2O）≥40%  高氯养分配比：17 - 8 - 15\n",
      "总养分≥30%（15-6-9）      有机质含量≥15%\n",
      "总养分≥25.0%（15-5-5）含氯（高氯）枸溶性磷\n",
      "总养分（N+P2O5+K2O）≥27%（10-5-12）含氯（中氯）、枸溶性磷\n",
      "总含量≥40.0%（16-8-16）含氯（高氯）枸溶性磷\n",
      "总养分（N+P2O5+K2O）≥28%  （11-5-12）含氯（中氯）、枸溶性磷\n",
      "总养分（N+P2O5+K2O）≥35%（17-6-12）含氯（中氯）、水溶性磷\n",
      "总养分（N+P2O5+K2O）≥40%  (20-8-12)含氯（中氯）、水溶性磷\n",
      "总养分(N+P2O5+K2O)≥57％ （19―19―19）含氯（低氯）、水溶性磷\n",
      "N+P2O5+K2O≥45%(含氯）\n",
      "有机质≥45%，总养分≥5.0%\n",
      "有机质≥ 45.0%   N+P2O5+K2O≥ 12.0%\n",
      "有机质≥50%，总养分≥6%\n",
      "规格型号:N+P2O5+K2O≧30% 配合式:3-3-24 净含量: 50㎏ 硫酸钾型 有机质≧20%\n",
      "有机质≥50%，总养分≥6%\n",
      "N-P2O5-K2O≥15%（12-0-3）（含氯）     有机质≥20%\n",
      "有机-无机肥复混肥料（Ⅰ型）6-8-6（含氯 ）总含量：N+P2O5+K2O≥20%，有机质≥20%\n",
      "总养份≥29％（9-7-13）  有机质≥20％   含氯\n",
      "总养分(N+P2O5+K2O)≥5.0％ 有机质≥45％ 酸碱度（PH） 5.5∽8.5\n",
      "总养分（N+P2O5+K2O）≥5.0%有机质≥45%\n",
      "总养分≥25%（N+P2O5+K2O）   有机质  ≥15%     含氯  II型\n"
     ]
    }
   ],
   "source": [
    "# 非结构化数据处理\n",
    "att4 = att4[att4['技术指标'] != pd.to_datetime('2017-08-15 00:00:00')].reset_index()\n",
    "metrics = att4['技术指标']\n",
    "for i in metrics:\n",
    "    print(i)"
   ]
  },
  {
   "cell_type": "code",
   "execution_count": 21,
   "id": "90146fd9-3afe-4f12-ac97-032dd6411b3f",
   "metadata": {},
   "outputs": [
    {
     "name": "stdout",
     "output_type": "stream",
     "text": [
      "氮含量百分比\n",
      "False    195\n",
      "True       5\n",
      "Name: count, dtype: int64\n",
      "有机质的质量分数（以烘干基计），%  the place is 22\n",
      "氮：10;磷：8；钾：12；有机质≥15%（II型），含氯（低氯）  the place is 30\n",
      "NPK≥38%  the place is 31\n",
      "N+P5O2+K2O≥5%   有机质≥70%  the place is 34\n",
      "含氯（高氯）  the place is 57\n",
      "有机质≧45%; 总氧份≧5%；  the place is 75\n",
      "氮+五氧化二磷+氧化钾≥9%，有机质≥45%，酸碱度（PH）：5.5-8.5，水分的质量分数≤30%  the place is 91\n",
      "有机质的质量分数（以烘干基计）69.2%，氮3.25%，五氧化二磷6.21%，氧化钾2.75%  the place is 92\n",
      "有机质≥60%，N-P-K≥5%  the place is 123\n",
      "N-P2O5-K2O≥30%  the place is 133\n",
      "N+P2O+K2O≥ 51%  the place is 151\n",
      "总养分（N +P2O5 +K2O）≥35%  中氯养分配比：18 - 7 - 10  the place is 175\n",
      "有机质含量百分比\n",
      "False    193\n",
      "True       7\n",
      "Name: count, dtype: int64\n",
      "有机质的质量分数（以烘干基计），%  the place is 22\n",
      "总养分（（N+P2O5+K2O）≥15.0%(9-4.5-1.5)  水溶性锌≥0.2%  the place is 71\n",
      "总养分≥10% 有%机质≥60%  the place is 100\n",
      "N+P2O5+K2O≥8%有机质99%  the place is 157\n",
      "N+P2O5+K2O≥5%   有机质≥45%  the place is 178\n",
      "总养分≥30%（15-6-9）      有机质含量≥15%  the place is 180\n"
     ]
    }
   ],
   "source": [
    "import re\n",
    "# N,P,K\n",
    "neurits = r'(\\d+)\\s*(-|―)\\s*(\\d+)\\s*(-|―)\\s*(\\d+)'  # 使用捕获组\n",
    "only_total  = r'总养分.*(≥|≧)\\s*(\\d+)'\n",
    "npk = r'N\\+P2O5\\+K2O.*(≥|≧)\\s*(\\d+)'\n",
    "\n",
    "# 有机质含量\n",
    "compound = r'有机质.*(≥|≧)\\s*(\\d+)'\n",
    "\n",
    "# 氯含量\n",
    "cl = r'\\w氯'\n",
    "cl_high = r'高氯'\n",
    "cl_low = r'低氯'\n",
    "cl_mid = r'中氯'\n",
    "\n",
    "att4['氮含量百分比'] = None\n",
    "att4['磷含量百分比'] = None\n",
    "att4['钾含量百分比'] = None\n",
    "att4['含氯程度'] = None\n",
    "att4['有机质含量百分比'] = None\n",
    "\n",
    "# N，P，K 含量\n",
    "finish_set1 = set()\n",
    "\n",
    "def addPercent(att4, cnt, n, p, k):\n",
    "    att4.loc[cnt, '氮含量百分比'] = n\n",
    "    att4.loc[cnt, '磷含量百分比'] = p\n",
    "    att4.loc[cnt, '钾含量百分比'] = k\n",
    "\n",
    "for cnt in range(len(metrics)):\n",
    "    i = metrics[cnt]\n",
    "\n",
    "    # 通过 xx-xx-xx\n",
    "    founds = re.findall(neurits, i)\n",
    "    if len(founds) == 1:\n",
    "        for found in founds:\n",
    "            n, _, p, _, k = found\n",
    "            addPercent(att4, cnt, format(int(n)/100., '.3f'), format(int(p)/100., '.3f'), format(int(k)/100., '.3f'))\n",
    "            finish_set1.add(cnt)\n",
    "        pass\n",
    "            \n",
    "    # 通过 ‘总养分’\n",
    "    founds = re.findall(only_total, i)\n",
    "    # 已检查过其长度全为 1\n",
    "    if len(founds) == 1 and cnt not in finish_set1:\n",
    "        _, found = founds[0]\n",
    "        num = int(found)\n",
    "        n, p, k = (format(num/100., '.3f'), format(num/100.,'.3f'), format(num/100.,'.3f'))\n",
    "        addPercent(att4, cnt, n, p, k)\n",
    "        finish_set1.add(cnt)\n",
    "        pass\n",
    "\n",
    "    # 通过 'N+P2O5+K2O ≥'\n",
    "    founds = re.findall(npk, i)\n",
    "    if len(founds) == 1 and cnt not in finish_set1:\n",
    "        _, found = founds[0]\n",
    "        num = int(found)\n",
    "        n, p, k = (format(num/300.,'.3f'), format(num/300.,'.3f'), format(num/300.,'.3f'))\n",
    "        addPercent(att4, cnt, n, p, k)\n",
    "        finish_set1.add(cnt)\n",
    "        pass\n",
    "# att4[['氮含量百分比', '磷含量百分比', '钾含量百分比']] = att4[['氮含量百分比', '磷含量百分比', '钾含量百分比']].round(3)\n",
    "# print(att4)\n",
    "    # 剩余数据手动更新\n",
    "att4.loc[[30, 31, 34, 91, 92, 123, 133, 151], ['氮含量百分比', '磷含量百分比', '钾含量百分比']] =[[0.100, 0.080,0.120],[0.127,0.127,0.127],[0.017,0.017,0.017],[0.030,0.030,0.030], [0.033,0.062,0.028],\n",
    "        [0.017,0.017,0.017], [0.100,0.100,0.100], [0.170,0.170,0.170]]\n",
    "\n",
    "print(att4['氮含量百分比'].isna().value_counts())\n",
    "not_finished_indices = [i for i in range(len(metrics)) if i not in finish_set1]\n",
    "for i in not_finished_indices:\n",
    "    print(att4.loc[i, '技术指标'], f\" the place is {i}\")\n",
    "\n",
    "\n",
    "# 有机质含量处理\n",
    "finish_set2 = set()\n",
    "for cnt in range(len(metrics)):\n",
    "    i = metrics[cnt]\n",
    "\n",
    "    # 通过 xx-xx-xx\n",
    "    founds = re.findall(compound, i)\n",
    "    if len(founds) == 1:\n",
    "        for found in founds:\n",
    "            _, com = found\n",
    "            num = format(int(com) / 100., \".3f\")\n",
    "            att4.loc[cnt, '有机质含量百分比'] = num\n",
    "            finish_set2.add(cnt)\n",
    "        pass\n",
    "# 复混肥料有机质含量为 0\n",
    "for cnt in range(len(metrics)):\n",
    "    if att4.loc[cnt, '产品通用名称'] == '复混肥料' or att4.loc[cnt, '产品通用名称'] == '掺混肥料':\n",
    "        att4.loc[cnt, '有机质含量百分比'] = 0.000\n",
    "        finish_set2.add(cnt)\n",
    "\n",
    "print(att4['有机质含量百分比'].isna().value_counts())\n",
    "not_finished_indices1 = [i for i in range(len(metrics)) if i not in finish_set2]\n",
    "for i in not_finished_indices1:\n",
    "    print(att4.loc[i, '技术指标'], f\" the place is {i}\")\n",
    "# att4[['有机质含量百分比']] = att4[['有机质含量百分比']]\n",
    "# 剩余数据手动更新\n",
    "att4.loc[[71, 100], '有机质含量百分比'] = [0.000, 0.600]\n",
    "\n",
    "# 过滤‘氯’\n",
    "finish_set3 = set()\n",
    "for cnt in range(len(metrics)):\n",
    "    i = metrics[cnt]\n",
    "    \n",
    "    # 通过 '氯' 排查无氯\n",
    "    founds = re.findall(cl, i)\n",
    "    for found in founds:\n",
    "        if found == cl_high:\n",
    "            att4.loc[cnt, '含氯程度'] = cl_high\n",
    "            finish_set3.add(cnt)\n",
    "            pass\n",
    "        else:\n",
    "            if found == cl_low:\n",
    "                att4.loc[cnt, '含氯程度'] = cl_low\n",
    "                finish_set3.add(cnt)\n",
    "                pass\n",
    "            else:\n",
    "                if found == cl_mid:\n",
    "                    att4.loc[cnt, '含氯程度'] = cl_mid\n",
    "                    finish_set3.add(cnt)\n",
    "                    pass\n",
    "                else:\n",
    "                    att4.loc[cnt, '含氯程度'] = '低氯'\n",
    "    if len(founds) == 0:\n",
    "        att4.loc[cnt, '含氯程度'] = '无氯'\n",
    "\n",
    "    founds = re.findall('不含氯', i)\n",
    "    for found in founds:\n",
    "        att4.loc[cnt, '含氯程度'] = '无氯'\n",
    "att4.dropna(inplace=True)\n",
    "att4.to_excel(os.path.join(result_path, 'result4_1.xlsx'))"
   ]
  },
  {
   "cell_type": "code",
   "execution_count": null,
   "id": "c803208b-1362-46c6-99ec-405739191472",
   "metadata": {},
   "outputs": [],
   "source": []
  }
 ],
 "metadata": {
  "kernelspec": {
   "display_name": "py38",
   "language": "python",
   "name": "py38"
  },
  "language_info": {
   "codemirror_mode": {
    "name": "ipython",
    "version": 3
   },
   "file_extension": ".py",
   "mimetype": "text/x-python",
   "name": "python",
   "nbconvert_exporter": "python",
   "pygments_lexer": "ipython3",
   "version": "3.8.19"
  }
 },
 "nbformat": 4,
 "nbformat_minor": 5
}
