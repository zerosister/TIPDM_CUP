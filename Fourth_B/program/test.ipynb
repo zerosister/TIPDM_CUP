{
 "cells": [
  {
   "cell_type": "markdown",
   "id": "9349ed5b-de30-4776-aaa2-0f4c31527636",
   "metadata": {},
   "source": [
    "### import numpy as np\n",
    "import matplotlib.pyplot as plt\n",
    "import pandas as pd\n",
    "import re\n",
    "data2_2_excel=pd.read_excel('result3_2.xlsx')\n",
    "data2_2_excel['数量']=1\n",
    "table1_hubei=data2_2_excel.reset_index()\n",
    "table2_guangxi=data2_2_excel.reset_index()\n",
    "\n",
    "for j in range(0,239):\n",
    "    pat2=r'桂'\n",
    "    if re.search(pat2,table1_hubei.loc[j,'正式登记证号']):\n",
    "        table1_hubei.drop(j,inplace=True)\n",
    "print(table1_hubei)       \n",
    "    \n",
    "for k in range(0,239):\n",
    "    pat1=r'鄂'\n",
    "    if re.search(pat1,table2_guangxi.loc[k,'正式登记证号']):\n",
    "         table2_guangxi.drop(k,inplace=True)        \n",
    "print(table2_guangxi)        \n",
    "\n",
    "   \n",
    "\n",
    "\n",
    "\n",
    "print(table1_hubei.groupby('企业名称')['数量'].sum())\n",
    "print(table2_guangxi.groupby('企业名称')['数量'].sum())"
   ]
  },
  {
   "cell_type": "code",
   "execution_count": null,
   "id": "5d78cebb-7d6d-4d91-9ee2-b0ea9631a2fe",
   "metadata": {},
   "outputs": [],
   "source": []
  }
 ],
 "metadata": {
  "kernelspec": {
   "display_name": "py38",
   "language": "python",
   "name": "py38"
  },
  "language_info": {
   "codemirror_mode": {
    "name": "ipython",
    "version": 3
   },
   "file_extension": ".py",
   "mimetype": "text/x-python",
   "name": "python",
   "nbconvert_exporter": "python",
   "pygments_lexer": "ipython3",
   "version": "3.8.19"
  }
 },
 "nbformat": 4,
 "nbformat_minor": 5
}
